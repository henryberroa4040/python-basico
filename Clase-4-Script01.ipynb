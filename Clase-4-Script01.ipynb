{
  "nbformat": 4,
  "nbformat_minor": 0,
  "metadata": {
    "colab": {
      "provenance": [],
      "authorship_tag": "ABX9TyP9ElCdcNIWNU4KindNLDR8",
      "include_colab_link": true
    },
    "kernelspec": {
      "name": "python3",
      "display_name": "Python 3"
    },
    "language_info": {
      "name": "python"
    }
  },
  "cells": [
    {
      "cell_type": "markdown",
      "metadata": {
        "id": "view-in-github",
        "colab_type": "text"
      },
      "source": [
        "<a href=\"https://colab.research.google.com/github/henryberroa4040/python-basico/blob/main/Clase-4-Script01.ipynb\" target=\"_parent\"><img src=\"https://colab.research.google.com/assets/colab-badge.svg\" alt=\"Open In Colab\"/></a>"
      ]
    },
    {
      "cell_type": "code",
      "execution_count": null,
      "metadata": {
        "id": "XbgBuP611iRU",
        "collapsed": true
      },
      "outputs": [],
      "source": [
        "# Objeto range\n",
        "help(range)"
      ]
    },
    {
      "cell_type": "code",
      "source": [
        "range(5)\n",
        "# 0,1,2,3,4"
      ],
      "metadata": {
        "colab": {
          "base_uri": "https://localhost:8080/"
        },
        "id": "B6Co---ROCGM",
        "outputId": "d1b46fa5-006f-4c7f-8e96-b7462c77aac2"
      },
      "execution_count": null,
      "outputs": [
        {
          "output_type": "execute_result",
          "data": {
            "text/plain": [
              "range(0, 5)"
            ]
          },
          "metadata": {},
          "execution_count": 2
        }
      ]
    },
    {
      "cell_type": "code",
      "source": [
        "range(0,21)\n",
        "# 0,1,2,...20"
      ],
      "metadata": {
        "colab": {
          "base_uri": "https://localhost:8080/"
        },
        "id": "MSllACKKOGT3",
        "outputId": "48be38f8-56b1-4ce1-f157-0a2b13766d55"
      },
      "execution_count": null,
      "outputs": [
        {
          "output_type": "execute_result",
          "data": {
            "text/plain": [
              "range(0, 21)"
            ]
          },
          "metadata": {},
          "execution_count": 3
        }
      ]
    },
    {
      "cell_type": "code",
      "source": [
        "range(0,21,3)"
      ],
      "metadata": {
        "colab": {
          "base_uri": "https://localhost:8080/"
        },
        "id": "bPhyZccrOJnH",
        "outputId": "c75596d7-6084-4552-9f6a-b8f42b39c682"
      },
      "execution_count": null,
      "outputs": [
        {
          "output_type": "execute_result",
          "data": {
            "text/plain": [
              "range(0, 21, 3)"
            ]
          },
          "metadata": {},
          "execution_count": 4
        }
      ]
    },
    {
      "cell_type": "code",
      "source": [
        "# Estrutura for\n",
        "for elemento in range(5):\n",
        "    print(elemento)"
      ],
      "metadata": {
        "colab": {
          "base_uri": "https://localhost:8080/"
        },
        "id": "Sx43rGcxO2I_",
        "outputId": "dee6084e-5cd6-4134-ac5f-53df6a583a38"
      },
      "execution_count": null,
      "outputs": [
        {
          "output_type": "stream",
          "name": "stdout",
          "text": [
            "0\n",
            "1\n",
            "2\n",
            "3\n",
            "4\n"
          ]
        }
      ]
    },
    {
      "cell_type": "code",
      "source": [
        "# Elevar a la potencia 0.33 cada elemento del objeto range(0,21,3)\n",
        "for i in range(0,21,3):\n",
        "  print(i**(0.33))"
      ],
      "metadata": {
        "colab": {
          "base_uri": "https://localhost:8080/"
        },
        "id": "-Ow3YwjcPL5u",
        "outputId": "3e61ba84-a296-455a-ca8a-bd9e9ad797ca"
      },
      "execution_count": null,
      "outputs": [
        {
          "output_type": "stream",
          "name": "stdout",
          "text": [
            "0.0\n",
            "1.4369776521848516\n",
            "1.8063001276853345\n",
            "2.0649047728786885\n",
            "2.2705434189009517\n",
            "2.444050163747711\n",
            "2.59561291662247\n"
          ]
        }
      ]
    },
    {
      "cell_type": "code",
      "source": [
        "# Del codigo de la celda anterior, mostrar los valores de i junto con los valores\n",
        "# de i**(0.33)\n",
        "for i in range(0,21,3):\n",
        "  print(i,\" \",i**(0.33))"
      ],
      "metadata": {
        "colab": {
          "base_uri": "https://localhost:8080/"
        },
        "id": "VH3nmExwPzKV",
        "outputId": "1c3e859d-9bd7-4da9-ed3b-dc0c5db24424"
      },
      "execution_count": null,
      "outputs": [
        {
          "output_type": "stream",
          "name": "stdout",
          "text": [
            "0   0.0\n",
            "3   1.4369776521848516\n",
            "6   1.8063001276853345\n",
            "9   2.0649047728786885\n",
            "12   2.2705434189009517\n",
            "15   2.444050163747711\n",
            "18   2.59561291662247\n"
          ]
        }
      ]
    },
    {
      "cell_type": "code",
      "source": [
        "# Del codigo de la celda anterior, mostremos los elementos punto flotante\n",
        "# considerando solo 3 cifras en la parte decimal\n",
        "for i in range(0,21,3):\n",
        "  print(\"%i => %.3f \" %(i,i**(0.33)))"
      ],
      "metadata": {
        "colab": {
          "base_uri": "https://localhost:8080/"
        },
        "id": "AJYyi65qQEu-",
        "outputId": "02850df2-9bb7-47bb-84ea-e59e20120256"
      },
      "execution_count": null,
      "outputs": [
        {
          "output_type": "stream",
          "name": "stdout",
          "text": [
            "0 => 0.000 \n",
            "3 => 1.437 \n",
            "6 => 1.806 \n",
            "9 => 2.065 \n",
            "12 => 2.271 \n",
            "15 => 2.444 \n",
            "18 => 2.596 \n"
          ]
        }
      ]
    },
    {
      "cell_type": "code",
      "source": [
        "# Para cada elemento del objeto rango(12,120,7), generar un numero aleatorio\n",
        "# entre 0 y el elemento del objeto range\n",
        "\n",
        "# Actualizacion 1: Mostremos el intervalo en el que se genera el aleatorio\n",
        "\n",
        "#Carguemos el modulo ramdon\n",
        "import random as rnd\n",
        "for i in range(12,120,7):\n",
        "  elemento = rnd.uniform(0,i)\n",
        "  # Agregemos la funcionalidad de la funcion 1\n",
        "  print(\"[ %i , %i ] => %.3f\" %(0,i,elemento))\n"
      ],
      "metadata": {
        "colab": {
          "base_uri": "https://localhost:8080/"
        },
        "id": "PMIcrgvhRMbe",
        "outputId": "3e3b36dd-86fd-4c1f-b497-3a68229c45fd"
      },
      "execution_count": null,
      "outputs": [
        {
          "output_type": "stream",
          "name": "stdout",
          "text": [
            "[ 0 , 12 ] => 8.415\n",
            "[ 0 , 19 ] => 5.205\n",
            "[ 0 , 26 ] => 11.203\n",
            "[ 0 , 33 ] => 10.132\n",
            "[ 0 , 40 ] => 24.986\n",
            "[ 0 , 47 ] => 32.703\n",
            "[ 0 , 54 ] => 13.872\n",
            "[ 0 , 61 ] => 39.532\n",
            "[ 0 , 68 ] => 67.074\n",
            "[ 0 , 75 ] => 31.406\n",
            "[ 0 , 82 ] => 76.660\n",
            "[ 0 , 89 ] => 14.238\n",
            "[ 0 , 96 ] => 92.488\n",
            "[ 0 , 103 ] => 60.685\n",
            "[ 0 , 110 ] => 19.379\n",
            "[ 0 , 117 ] => 27.924\n"
          ]
        }
      ]
    },
    {
      "cell_type": "code",
      "source": [
        "# Utilicemos variables de tipo cadena de caracter con una estructura\n",
        "# de repeticion for\n",
        "\n",
        "cadena = \"clase 4\"\n",
        "for caracter in cadena:\n",
        "  print(caracter.capitalize())"
      ],
      "metadata": {
        "colab": {
          "base_uri": "https://localhost:8080/"
        },
        "id": "acNGxEYCG2zM",
        "outputId": "ae35794d-1d72-417f-f610-e9d6ca5c45da"
      },
      "execution_count": null,
      "outputs": [
        {
          "output_type": "stream",
          "name": "stdout",
          "text": [
            "C\n",
            "L\n",
            "A\n",
            "S\n",
            "E\n",
            " \n",
            "4\n"
          ]
        }
      ]
    },
    {
      "cell_type": "code",
      "source": [
        "# Definamos una cadena de caracteres usando un parrafo de algun cuento\n",
        "# de Julio Ramon Ribeyro\n",
        "\n",
        "cto=\"\"\"Las siete de la noche era la hora más benigna. Diríase que la molicie hacia una tregua\n",
        "y abandonando provisoriamente la ciudad, reunía fuerzas en la pradera, preparándose para\n",
        "el asalto final. Este se producía después de la cena, a las once de la noche, cuando la brisa\n",
        "crepuscular había cesado y en el cielo brlllaban estrellas implacablemente lúcidas. A esta\n",
        "hora eran también, sin embargo, múltiples las posibilidades de evasión. Los adinerados\n",
        "emigraban hacia los salones de fiesta en busca de las mujerzuelas para hallar, en el delirio,\n",
        "un remedio a su cansancio. Otros se hartaban de vino y regresaban ebrios en la madrugada,\n",
        "completamente insensibles a las sutilezas de la molicie. La mayoría, en cambio se refugiaba\n",
        "en los cinematógrafos del barrio, después de intoxicarse de café. Los preparativos para la\n",
        "incursión al cine eran siempre precedidos de una gran tensión, como si se tratara de una\n",
        "medida sanitaria. Se repasaban los listines, se discutían las películas y pronto salía la gran\n",
        "caravana cortando el aire espeso de la noche. Muchos, sin embargo, no tenían dinero ni\n",
        "para eso y mendigaban plañideramente una invitación, o la exigían con amenazas a las que\n",
        "eran conducidos fácilmente por el peligro en que se hallaban. En las incómodas butacas\n",
        "veíamos tres o cuatro cintas consecutivas, con un interés excesivo, y que en otras\n",
        "circunstancias no tendría explicación. Nos reíamos de los malos chistes, estábamos a punto\n",
        "de llorar en las escenas melodramáticas, nos apasionábamos con héroes imaginarios y\n",
        "había en el fondo de todo ello como una cruel necesidad y una común hipocresía. A la salida\n",
        "frecuentábamos paseos solitarios, aromados por perfumes fuertes, y esperábamos en\n",
        "peripatéticas charlas que el alba plantara su estandarte de luz en el oriente, signo indudable\n",
        "de que la molicie se declaraba vencida en aquella jornada.\"\"\""
      ],
      "metadata": {
        "id": "4gZZY7g8HUMw"
      },
      "execution_count": null,
      "outputs": []
    },
    {
      "cell_type": "code",
      "source": [
        "# Contemos el numero de veces que aparece cada vocal (no lleva tilde) en cto\n",
        "\n",
        "for vocal in \"aeiou\":\n",
        "  print(\"Vocal: %s => Numero de veces %i\"%(vocal, cto.count(vocal)))"
      ],
      "metadata": {
        "colab": {
          "base_uri": "https://localhost:8080/"
        },
        "id": "3bIDuoJ7Ih6G",
        "outputId": "6660834a-505c-41a7-94fb-f60c37504b8d"
      },
      "execution_count": null,
      "outputs": [
        {
          "output_type": "stream",
          "name": "stdout",
          "text": [
            "Vocal: a => Numero de veces 217\n",
            "Vocal: e => Numero de veces 181\n",
            "Vocal: i => Numero de veces 97\n",
            "Vocal: o => Numero de veces 103\n",
            "Vocal: u => Numero de veces 49\n"
          ]
        }
      ]
    },
    {
      "cell_type": "code",
      "source": [
        "# Genere 9 numeros aleatorios en [0,100] y calcule la media aritmetica\n",
        "# de estos numeros\n",
        "\n",
        "# Acumulador\n",
        "suma=0\n",
        "\n",
        "for i in range(0,9):\n",
        "  elemento= rnd.uniform(0,100)\n",
        "  suma=suma + elemento\n",
        "\n",
        "#Mostrar el resultado\n",
        "print(\"La media aritmetica es: %.3f\"%(suma/9))"
      ],
      "metadata": {
        "colab": {
          "base_uri": "https://localhost:8080/"
        },
        "id": "zc8h_A7sLzoZ",
        "outputId": "b749bd4d-ab72-462c-88b2-73a656cd7a4e"
      },
      "execution_count": null,
      "outputs": [
        {
          "output_type": "stream",
          "name": "stdout",
          "text": [
            "La media aritmetica es: 34.667\n"
          ]
        }
      ]
    },
    {
      "cell_type": "code",
      "source": [
        "# Genere 900 numeros aleatorios en [0,100] y calcule la media aritmetica\n",
        "# de estos numeros\n",
        "\n",
        "# Numero de experimentos\n",
        "N=10**6\n",
        "\n",
        "# Variable acumuladora\n",
        "suma=0\n",
        "\n",
        "for i in range(N):\n",
        "    suma=suma + rnd.uniform(0,100)\n",
        "\n",
        "# Mostrar resultados\n",
        "print(\" La media aritmetica es : %.3f\"%(suma/N))\n",
        "\n"
      ],
      "metadata": {
        "colab": {
          "base_uri": "https://localhost:8080/"
        },
        "id": "9d9I3DVKNcJV",
        "outputId": "db2727d6-3a02-49aa-b082-e5ea01d15584"
      },
      "execution_count": null,
      "outputs": [
        {
          "output_type": "stream",
          "name": "stdout",
          "text": [
            " La media aritmetica es : 49.983\n"
          ]
        }
      ]
    },
    {
      "cell_type": "code",
      "source": [
        "# para N = 10**2 => media = 52.051\n",
        "# para N = 10**3 => media = 50.012\n",
        "# para N = 10**4 => media = 50.054\n",
        "# para N = 10**5 => media = 50.089\n",
        "# para N = 10**6 => media = 49.997"
      ],
      "metadata": {
        "id": "lsGXNdwLWLqf"
      },
      "execution_count": null,
      "outputs": []
    },
    {
      "cell_type": "code",
      "source": [
        "# Utilicemos una estructura for dentro de una estructura for\n",
        "for exponente in range(1,11):\n",
        "  # Numero de experimentos\n",
        "  N=10**(exponente)\n",
        "\n",
        "  # Variable acumuladora\n",
        "  suma=0\n",
        "\n",
        "  for j in range(N):\n",
        "      suma=suma + rnd.uniform(0,100)\n",
        "      # Actualizando el valor de suma\n",
        "      # nuevo valor de suma = antiguo valor de suma + numero aleatorio generado\n",
        "\n",
        "  # Mostremos el resultado\n",
        "  print(\"Exponente : %i => La media aritmetica es : %.3f\"%(exponente,suma/N))"
      ],
      "metadata": {
        "colab": {
          "base_uri": "https://localhost:8080/"
        },
        "id": "wkh-7WCMXIJd",
        "outputId": "cc76011d-cbdd-4c3c-eefd-e2374ce823d8"
      },
      "execution_count": null,
      "outputs": [
        {
          "output_type": "stream",
          "name": "stdout",
          "text": [
            "Exponente : 1 => La media aritmetica es : 32.297\n",
            "Exponente : 2 => La media aritmetica es : 47.571\n",
            "Exponente : 3 => La media aritmetica es : 49.683\n",
            "Exponente : 4 => La media aritmetica es : 49.773\n",
            "Exponente : 5 => La media aritmetica es : 49.978\n",
            "Exponente : 6 => La media aritmetica es : 49.972\n",
            "Exponente : 7 => La media aritmetica es : 49.997\n",
            "Exponente : 8 => La media aritmetica es : 49.998\n",
            "Exponente : 9 => La media aritmetica es : 50.001\n",
            "Exponente : 10 => La media aritmetica es : 50.000\n"
          ]
        }
      ]
    },
    {
      "cell_type": "code",
      "source": [
        "# Aprendan a utilizar el modulo time para medir el tiempo de procesamiento"
      ],
      "metadata": {
        "id": "pV0HDWS9nCqH"
      },
      "execution_count": null,
      "outputs": []
    }
  ]
}