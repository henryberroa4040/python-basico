{
  "cells": [
    {
      "cell_type": "markdown",
      "metadata": {
        "id": "view-in-github",
        "colab_type": "text"
      },
      "source": [
        "<a href=\"https://colab.research.google.com/github/henryberroa4040/python-basico/blob/main/Script02.ipynb\" target=\"_parent\"><img src=\"https://colab.research.google.com/assets/colab-badge.svg\" alt=\"Open In Colab\"/></a>"
      ]
    },
    {
      "cell_type": "code",
      "execution_count": null,
      "metadata": {
        "id": "weLKWqtn8sS0"
      },
      "outputs": [],
      "source": [
        "# Carga de modulos\n",
        "import math as m\n",
        "import random as rnd"
      ]
    },
    {
      "cell_type": "code",
      "execution_count": null,
      "metadata": {
        "id": "hHScTqTj8aaB"
      },
      "outputs": [],
      "source": [
        "rx = rnd.gauss()"
      ]
    },
    {
      "cell_type": "code",
      "execution_count": null,
      "metadata": {
        "colab": {
          "base_uri": "https://localhost:8080/"
        },
        "id": "zZpKu0B69F48",
        "outputId": "2c8f906f-7f97-4463-b1dd-fd930a183bf5"
      },
      "outputs": [
        {
          "data": {
            "text/plain": [
              "-1.3914466186000272"
            ]
          },
          "execution_count": 6,
          "metadata": {},
          "output_type": "execute_result"
        }
      ],
      "source": [
        "rx"
      ]
    },
    {
      "cell_type": "markdown",
      "metadata": {
        "id": "QnqMCHlT9Mh-"
      },
      "source": [
        "# Tareita\n",
        "  * Leer toda la documentación del modulo math y de los elemento que lo componen\n",
        "  * Leer toda la documentación del modulo random y de los elemento que lo componen"
      ]
    },
    {
      "cell_type": "markdown",
      "metadata": {
        "id": "oAVGP3Xv-Atd"
      },
      "source": [
        "# Datos de naturaleza booleana\n",
        "* True\n",
        "* False"
      ]
    },
    {
      "cell_type": "code",
      "execution_count": null,
      "metadata": {
        "colab": {
          "base_uri": "https://localhost:8080/"
        },
        "id": "dyF5DTS6-YKF",
        "outputId": "bfe05bd1-925f-466e-b0e1-59cd7e721784"
      },
      "outputs": [
        {
          "data": {
            "text/plain": [
              "True"
            ]
          },
          "execution_count": 7,
          "metadata": {},
          "output_type": "execute_result"
        }
      ],
      "source": [
        "# Operadores de comparacion numerica\n",
        "# > < >= <= == =!\n",
        "\n",
        "x1 = 12 < 19\n",
        "x1"
      ]
    },
    {
      "cell_type": "code",
      "execution_count": null,
      "metadata": {
        "colab": {
          "base_uri": "https://localhost:8080/"
        },
        "id": "kkP9ate--lzj",
        "outputId": "fc9907e4-cfbc-4219-8f7e-dc02b102bafa"
      },
      "outputs": [
        {
          "data": {
            "text/plain": [
              "True"
            ]
          },
          "execution_count": 8,
          "metadata": {},
          "output_type": "execute_result"
        }
      ],
      "source": [
        "x2 = 245.9 >= 0.66**(-2.5)\n",
        "x2"
      ]
    },
    {
      "cell_type": "code",
      "execution_count": null,
      "metadata": {
        "id": "hL_fY9JP-3Jq"
      },
      "outputs": [],
      "source": [
        "# and : Y logico\n",
        "# or : O logico\n",
        "# not : operador negacion"
      ]
    },
    {
      "cell_type": "code",
      "execution_count": null,
      "metadata": {
        "colab": {
          "base_uri": "https://localhost:8080/"
        },
        "id": "cp8Za3L7_w4Y",
        "outputId": "a7256f4e-f974-40ad-b014-9f443bb5b992"
      },
      "outputs": [
        {
          "data": {
            "text/plain": [
              "False"
            ]
          },
          "execution_count": 9,
          "metadata": {},
          "output_type": "execute_result"
        }
      ],
      "source": [
        "#\n",
        "x3= True and False\n",
        "x3"
      ]
    },
    {
      "cell_type": "code",
      "execution_count": null,
      "metadata": {
        "colab": {
          "base_uri": "https://localhost:8080/"
        },
        "id": "JVrQ-QUq_1hY",
        "outputId": "1df7d5fa-692f-4f5a-8ec1-f777d9140fbd"
      },
      "outputs": [
        {
          "data": {
            "text/plain": [
              "False"
            ]
          },
          "execution_count": 10,
          "metadata": {},
          "output_type": "execute_result"
        }
      ],
      "source": [
        "#\n",
        "x4= False and True\n",
        "x4"
      ]
    },
    {
      "cell_type": "code",
      "execution_count": null,
      "metadata": {
        "colab": {
          "base_uri": "https://localhost:8080/"
        },
        "id": "dLrkWanp_4_d",
        "outputId": "c8864b2e-db0e-4f41-a4c7-c9479c9920cf"
      },
      "outputs": [
        {
          "data": {
            "text/plain": [
              "True"
            ]
          },
          "execution_count": 12,
          "metadata": {},
          "output_type": "execute_result"
        }
      ],
      "source": [
        "x5 = (True and False) or (False or True)\n",
        "x5"
      ]
    },
    {
      "cell_type": "code",
      "execution_count": null,
      "metadata": {
        "colab": {
          "base_uri": "https://localhost:8080/"
        },
        "id": "-A16-Fa6__0b",
        "outputId": "7422b787-389d-4098-e9e1-08b3452f4c9b"
      },
      "outputs": [
        {
          "data": {
            "text/plain": [
              "False"
            ]
          },
          "execution_count": 13,
          "metadata": {},
          "output_type": "execute_result"
        }
      ],
      "source": [
        "x6 = not x5\n",
        "x6"
      ]
    },
    {
      "cell_type": "markdown",
      "metadata": {
        "id": "6AttuU2xAf93"
      },
      "source": [
        "## Dualidad de True y False"
      ]
    },
    {
      "cell_type": "code",
      "execution_count": null,
      "metadata": {
        "colab": {
          "base_uri": "https://localhost:8080/"
        },
        "id": "PoLtlijrAi5w",
        "outputId": "839f3942-5efb-4a19-b68d-2e0162d37625"
      },
      "outputs": [
        {
          "data": {
            "text/plain": [
              "True"
            ]
          },
          "execution_count": 14,
          "metadata": {},
          "output_type": "execute_result"
        }
      ],
      "source": [
        "True == 1"
      ]
    },
    {
      "cell_type": "code",
      "execution_count": null,
      "metadata": {
        "colab": {
          "base_uri": "https://localhost:8080/"
        },
        "id": "2vpg6VXDA9ZA",
        "outputId": "8f2365e7-8366-49cf-d0e9-9ae79b4102d6"
      },
      "outputs": [
        {
          "data": {
            "text/plain": [
              "True"
            ]
          },
          "execution_count": 15,
          "metadata": {},
          "output_type": "execute_result"
        }
      ],
      "source": [
        "False == 0"
      ]
    },
    {
      "cell_type": "code",
      "execution_count": null,
      "metadata": {
        "colab": {
          "base_uri": "https://localhost:8080/"
        },
        "id": "OMGggjZxBA2n",
        "outputId": "a1c73308-6896-4fdb-d03c-7e713e72989d"
      },
      "outputs": [
        {
          "data": {
            "text/plain": [
              "1.0"
            ]
          },
          "execution_count": 16,
          "metadata": {},
          "output_type": "execute_result"
        }
      ],
      "source": [
        "True + (False/True)"
      ]
    },
    {
      "cell_type": "markdown",
      "metadata": {
        "id": "Uva7SH12Bj9o"
      },
      "source": [
        "# Variables de tipo cadenade caracter"
      ]
    },
    {
      "cell_type": "code",
      "execution_count": null,
      "metadata": {
        "id": "J49SMK2gB3-c"
      },
      "outputs": [],
      "source": [
        "# Definicion de variables de tipo cadena de caracter  #Usamos comilla simples y comillas dobles\n",
        "c1 = \"Segunda Clase\"\n",
        "c2 = 'Programacion en python'"
      ]
    },
    {
      "cell_type": "code",
      "execution_count": null,
      "metadata": {
        "colab": {
          "base_uri": "https://localhost:8080/",
          "height": 36
        },
        "id": "S8tLQsblCDdg",
        "outputId": "d6c5dc8e-5a08-4611-9a51-cf23581b4832"
      },
      "outputs": [
        {
          "data": {
            "application/vnd.google.colaboratory.intrinsic+json": {
              "type": "string"
            },
            "text/plain": [
              "'Segunda Clase'"
            ]
          },
          "execution_count": 24,
          "metadata": {},
          "output_type": "execute_result"
        }
      ],
      "source": [
        "c1"
      ]
    },
    {
      "cell_type": "code",
      "execution_count": null,
      "metadata": {
        "colab": {
          "base_uri": "https://localhost:8080/",
          "height": 36
        },
        "id": "6w97tbRMCECP",
        "outputId": "42a9cce5-bcca-4f0d-e290-5251c9a09658"
      },
      "outputs": [
        {
          "data": {
            "application/vnd.google.colaboratory.intrinsic+json": {
              "type": "string"
            },
            "text/plain": [
              "'Programacion en python'"
            ]
          },
          "execution_count": 25,
          "metadata": {},
          "output_type": "execute_result"
        }
      ],
      "source": [
        "c2"
      ]
    },
    {
      "cell_type": "markdown",
      "metadata": {
        "id": "8oIKZ9jNChze"
      },
      "source": [
        "## Operacion de concatenacion"
      ]
    },
    {
      "cell_type": "code",
      "execution_count": null,
      "metadata": {
        "colab": {
          "background_save": true
        },
        "id": "jLGXywcRCp0E",
        "outputId": "4b75c467-42d9-4af3-aa35-b9753bcd93a1"
      },
      "outputs": [
        {
          "data": {
            "application/vnd.google.colaboratory.intrinsic+json": {
              "type": "string"
            },
            "text/plain": [
              "'Segunda ClaseProgramacion en python'"
            ]
          },
          "execution_count": 26,
          "metadata": {},
          "output_type": "execute_result"
        }
      ],
      "source": [
        "# + : str x str -> str\n",
        "c1 + c2"
      ]
    },
    {
      "cell_type": "code",
      "execution_count": null,
      "metadata": {
        "id": "lPuPIBmwFGJT"
      },
      "outputs": [],
      "source": [
        "c1 +"
      ]
    }
  ],
  "metadata": {
    "colab": {
      "provenance": [],
      "authorship_tag": "ABX9TyNN5k/OTTd+jFIYnw/S1/5T",
      "include_colab_link": true
    },
    "kernelspec": {
      "display_name": "Python 3",
      "name": "python3"
    },
    "language_info": {
      "name": "python"
    }
  },
  "nbformat": 4,
  "nbformat_minor": 0
}