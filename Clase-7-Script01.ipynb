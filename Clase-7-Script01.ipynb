{
  "nbformat": 4,
  "nbformat_minor": 0,
  "metadata": {
    "colab": {
      "provenance": [],
      "authorship_tag": "ABX9TyPHeS9EDI36XY3RqcDKGYRA",
      "include_colab_link": true
    },
    "kernelspec": {
      "name": "python3",
      "display_name": "Python 3"
    },
    "language_info": {
      "name": "python"
    }
  },
  "cells": [
    {
      "cell_type": "markdown",
      "metadata": {
        "id": "view-in-github",
        "colab_type": "text"
      },
      "source": [
        "<a href=\"https://colab.research.google.com/github/henryberroa4040/python-basico/blob/main/Clase-7-Script01.ipynb\" target=\"_parent\"><img src=\"https://colab.research.google.com/assets/colab-badge.svg\" alt=\"Open In Colab\"/></a>"
      ]
    },
    {
      "cell_type": "code",
      "execution_count": null,
      "metadata": {
        "id": "B5--_f4yRCSn"
      },
      "outputs": [],
      "source": [
        "# Definamos un par de diccionarios\n",
        "d1={\"uno\":1,\"dos\":2,\"tres\":3,\"cuatro\":4}\n",
        "d2={\"curso\": \"Python Basico\",\"profesor\": \"Abrahan Zamudio\",\"Num_Alumnos\": 7000, \"Num_evaluaciones\": 4}"
      ]
    },
    {
      "cell_type": "code",
      "source": [
        "# tipo de dato\n",
        "type(d1)"
      ],
      "metadata": {
        "colab": {
          "base_uri": "https://localhost:8080/"
        },
        "id": "JUCAhdvQSTly",
        "outputId": "da4662b5-e006-4140-9a9c-7f45dd3e2038"
      },
      "execution_count": null,
      "outputs": [
        {
          "output_type": "execute_result",
          "data": {
            "text/plain": [
              "dict"
            ]
          },
          "metadata": {},
          "execution_count": 2
        }
      ]
    },
    {
      "cell_type": "code",
      "source": [
        "# tipo de dato\n",
        "type(d2)"
      ],
      "metadata": {
        "colab": {
          "base_uri": "https://localhost:8080/"
        },
        "id": "Zq93jSKoSWki",
        "outputId": "95845ec9-557a-4f44-afda-f18841efe419"
      },
      "execution_count": null,
      "outputs": [
        {
          "output_type": "execute_result",
          "data": {
            "text/plain": [
              "dict"
            ]
          },
          "metadata": {},
          "execution_count": 3
        }
      ]
    },
    {
      "cell_type": "markdown",
      "source": [
        "# Lista de metodos de interes para una diccionario\n",
        "* clear\n",
        "* copy\n",
        "* fromkeys\n",
        "* get\n",
        "* items\n",
        "* keys\n",
        "* pop\n",
        "* popitem\n",
        "* setdefault\n",
        "* update\n",
        "* values"
      ],
      "metadata": {
        "id": "7CNIk6zCSl-O"
      }
    },
    {
      "cell_type": "code",
      "source": [
        "# Documentacion del metodo clear\n",
        "help({}.clear)"
      ],
      "metadata": {
        "colab": {
          "base_uri": "https://localhost:8080/"
        },
        "id": "DXEcOZHCSXo-",
        "outputId": "462c7be3-cd5e-448e-a7c7-65624d529796"
      },
      "execution_count": null,
      "outputs": [
        {
          "output_type": "stream",
          "name": "stdout",
          "text": [
            "Help on built-in function clear:\n",
            "\n",
            "clear(...) method of builtins.dict instance\n",
            "    D.clear() -> None.  Remove all items from D.\n",
            "\n"
          ]
        }
      ]
    },
    {
      "cell_type": "code",
      "source": [
        "# Obseracion : Para eliminar objetos/variables en python utilizamos el comando del"
      ],
      "metadata": {
        "id": "raD9B9hxStz9"
      },
      "execution_count": null,
      "outputs": []
    },
    {
      "cell_type": "code",
      "source": [
        "# Documentacion del metodo copy\n",
        "help(d1.copy)"
      ],
      "metadata": {
        "colab": {
          "base_uri": "https://localhost:8080/"
        },
        "id": "d8Fyi7rwS9Fq",
        "outputId": "7f697e4b-6861-4286-9066-114699291848"
      },
      "execution_count": null,
      "outputs": [
        {
          "output_type": "stream",
          "name": "stdout",
          "text": [
            "Help on built-in function copy:\n",
            "\n",
            "copy(...) method of builtins.dict instance\n",
            "    D.copy() -> a shallow copy of D\n",
            "\n"
          ]
        }
      ]
    },
    {
      "cell_type": "code",
      "source": [
        "# Documentacion del metodo fromkeys\n",
        "help(d2.fromkeys)"
      ],
      "metadata": {
        "colab": {
          "base_uri": "https://localhost:8080/"
        },
        "id": "d58ECtrJTEx0",
        "outputId": "1814086d-5cdd-4b3b-b83f-f061d1e6777e"
      },
      "execution_count": null,
      "outputs": [
        {
          "output_type": "stream",
          "name": "stdout",
          "text": [
            "Help on built-in function fromkeys:\n",
            "\n",
            "fromkeys(iterable, value=None, /) class method of builtins.dict\n",
            "    Create a new dictionary with keys from iterable and values set to value.\n",
            "\n"
          ]
        }
      ]
    },
    {
      "cell_type": "code",
      "source": [
        "# Iterables: str , range , list , tupla\n",
        "d3 = {}.fromkeys(\"aeiou\")\n",
        "d3"
      ],
      "metadata": {
        "colab": {
          "base_uri": "https://localhost:8080/"
        },
        "id": "zZK4xljlTOxm",
        "outputId": "6adf36c2-61b2-48c1-a73b-65d2eb312119"
      },
      "execution_count": null,
      "outputs": [
        {
          "output_type": "execute_result",
          "data": {
            "text/plain": [
              "{'a': None, 'e': None, 'i': None, 'o': None, 'u': None}"
            ]
          },
          "metadata": {},
          "execution_count": 7
        }
      ]
    },
    {
      "cell_type": "code",
      "source": [
        "d4= {}.fromkeys(range(1,21,3), 777)\n",
        "d4"
      ],
      "metadata": {
        "colab": {
          "base_uri": "https://localhost:8080/"
        },
        "id": "TugCswffThOi",
        "outputId": "9cdabd70-73fe-4ebe-9076-245936d886d6"
      },
      "execution_count": null,
      "outputs": [
        {
          "output_type": "execute_result",
          "data": {
            "text/plain": [
              "{1: 777, 4: 777, 7: 777, 10: 777, 13: 777, 16: 777, 19: 777}"
            ]
          },
          "metadata": {},
          "execution_count": 9
        }
      ]
    },
    {
      "cell_type": "code",
      "source": [
        "import random as rnd\n",
        "lista_llaves = [\"PRIMERO\", \"SEGUNDO\", \"TERCERO\", \"CUARTO\"]\n",
        "d5 = {}.fromkeys(lista_llaves, rnd.randint(1,20))\n",
        "d5"
      ],
      "metadata": {
        "colab": {
          "base_uri": "https://localhost:8080/"
        },
        "id": "ztKULZS5T9O6",
        "outputId": "1783cd38-6748-4213-b803-4a07d6eeff29"
      },
      "execution_count": null,
      "outputs": [
        {
          "output_type": "execute_result",
          "data": {
            "text/plain": [
              "{'PRIMERO': 9, 'SEGUNDO': 9, 'TERCERO': 9, 'CUARTO': 9}"
            ]
          },
          "metadata": {},
          "execution_count": 10
        }
      ]
    },
    {
      "cell_type": "code",
      "source": [
        "import random as rnd\n",
        "tupla_llaves = (\"PRIMERO\", \"SEGUNDO\", \"TERCERO\", \"CUARTO\")\n",
        "d6 = {}.fromkeys(lista_llaves, rnd.randint(1,20))\n",
        "d6"
      ],
      "metadata": {
        "colab": {
          "base_uri": "https://localhost:8080/"
        },
        "id": "79b3XNwbU1cn",
        "outputId": "c900f86d-efbf-45b9-f8fd-34e1e10f1c68"
      },
      "execution_count": null,
      "outputs": [
        {
          "output_type": "execute_result",
          "data": {
            "text/plain": [
              "{'PRIMERO': 5, 'SEGUNDO': 5, 'TERCERO': 5, 'CUARTO': 5}"
            ]
          },
          "metadata": {},
          "execution_count": 11
        }
      ]
    },
    {
      "cell_type": "code",
      "source": [
        "# Documentacion del metodo get\n",
        "help(d5.get)"
      ],
      "metadata": {
        "colab": {
          "base_uri": "https://localhost:8080/"
        },
        "id": "8-yEYIv0U7tv",
        "outputId": "32dacefd-aa20-49cb-f68a-9f4e574da4c6"
      },
      "execution_count": null,
      "outputs": [
        {
          "output_type": "stream",
          "name": "stdout",
          "text": [
            "Help on built-in function get:\n",
            "\n",
            "get(key, default=None, /) method of builtins.dict instance\n",
            "    Return the value for key if key is in the dictionary, else default.\n",
            "\n"
          ]
        }
      ]
    },
    {
      "cell_type": "code",
      "source": [
        "# Ejecute codigo por mas de 60 dias en un cluster de 1200 computadoras (cada uno con 256 nucleos)\n",
        "d5[\"QUINTO\"]"
      ],
      "metadata": {
        "colab": {
          "base_uri": "https://localhost:8080/",
          "height": 146
        },
        "id": "rLaq2V1ZVUXK",
        "outputId": "44fafe81-993c-4e88-ac3c-7c3936cea134"
      },
      "execution_count": null,
      "outputs": [
        {
          "output_type": "error",
          "ename": "KeyError",
          "evalue": "'QUINTO'",
          "traceback": [
            "\u001b[0;31m---------------------------------------------------------------------------\u001b[0m",
            "\u001b[0;31mKeyError\u001b[0m                                  Traceback (most recent call last)",
            "\u001b[0;32m<ipython-input-20-5cd980cb5da9>\u001b[0m in \u001b[0;36m<cell line: 0>\u001b[0;34m()\u001b[0m\n\u001b[0;32m----> 1\u001b[0;31m \u001b[0md5\u001b[0m\u001b[0;34m[\u001b[0m\u001b[0;34m\"QUINTO\"\u001b[0m\u001b[0;34m]\u001b[0m\u001b[0;34m\u001b[0m\u001b[0;34m\u001b[0m\u001b[0m\n\u001b[0m",
            "\u001b[0;31mKeyError\u001b[0m: 'QUINTO'"
          ]
        }
      ]
    },
    {
      "cell_type": "code",
      "source": [
        "# Consideremos que en caso de no existir una llave en un diccionario determinado\n",
        "# usar el metodo get , devolviendo el valor de 777\n",
        "valor = d5.get(\"QUINTO\", 777)\n",
        "if valor == 777:\n",
        "    print(\"El codigo puede continuar su ejecuion\")\n",
        "else:\n",
        "    print(\"El codigo tambien puede continuar su ejecuion\")"
      ],
      "metadata": {
        "colab": {
          "base_uri": "https://localhost:8080/"
        },
        "id": "gnQATQGmV5yO",
        "outputId": "3ae6b064-5fd8-467c-c619-8c7ebd2bd8df"
      },
      "execution_count": null,
      "outputs": [
        {
          "output_type": "stream",
          "name": "stdout",
          "text": [
            "El codigo puede continuar su ejecuion\n"
          ]
        }
      ]
    },
    {
      "cell_type": "code",
      "source": [
        "# Documentacion del metodo items\n",
        "help(d6.items)"
      ],
      "metadata": {
        "colab": {
          "base_uri": "https://localhost:8080/"
        },
        "id": "pJ0y74ZCWerS",
        "outputId": "25c9d3f1-6117-41b9-ae55-f05be7fccb36"
      },
      "execution_count": null,
      "outputs": [
        {
          "output_type": "stream",
          "name": "stdout",
          "text": [
            "Help on built-in function items:\n",
            "\n",
            "items(...) method of builtins.dict instance\n",
            "    D.items() -> a set-like object providing a view on D's items\n",
            "\n"
          ]
        }
      ]
    },
    {
      "cell_type": "code",
      "source": [
        "d1.items()"
      ],
      "metadata": {
        "colab": {
          "base_uri": "https://localhost:8080/"
        },
        "id": "VZdaNgcVXP0v",
        "outputId": "20b452fa-a304-4cce-fabe-e128c5f35780"
      },
      "execution_count": null,
      "outputs": [
        {
          "output_type": "execute_result",
          "data": {
            "text/plain": [
              "dict_items([('uno', 1), ('dos', 2), ('tres', 3), ('cuatro', 4)])"
            ]
          },
          "metadata": {},
          "execution_count": 26
        }
      ]
    },
    {
      "cell_type": "code",
      "source": [
        "# tipo de dato\n",
        "type(d1.items())"
      ],
      "metadata": {
        "colab": {
          "base_uri": "https://localhost:8080/"
        },
        "id": "vclmVTtRXgRl",
        "outputId": "e9706327-4a3b-48a9-ee48-faf346a891cf"
      },
      "execution_count": null,
      "outputs": [
        {
          "output_type": "execute_result",
          "data": {
            "text/plain": [
              "dict_items"
            ]
          },
          "metadata": {},
          "execution_count": 28
        }
      ]
    },
    {
      "cell_type": "code",
      "source": [
        "# Transformemos al objeto de tipo dict_items en un dato de tipo lista\n",
        "list(d1.items())"
      ],
      "metadata": {
        "colab": {
          "base_uri": "https://localhost:8080/"
        },
        "id": "nOHXdELJXmoO",
        "outputId": "e7b55880-4e7d-4232-f518-3fb29ecea00e"
      },
      "execution_count": null,
      "outputs": [
        {
          "output_type": "execute_result",
          "data": {
            "text/plain": [
              "[('uno', 1), ('dos', 2), ('tres', 3), ('cuatro', 4)]"
            ]
          },
          "metadata": {},
          "execution_count": 29
        }
      ]
    },
    {
      "cell_type": "code",
      "source": [
        "# Documentacion del metodo keys\n",
        "help(d2.keys)"
      ],
      "metadata": {
        "colab": {
          "base_uri": "https://localhost:8080/"
        },
        "id": "kW1VgtBnX5ag",
        "outputId": "3aeae02e-e847-4440-e2a2-3205f951355e"
      },
      "execution_count": null,
      "outputs": [
        {
          "output_type": "stream",
          "name": "stdout",
          "text": [
            "Help on built-in function keys:\n",
            "\n",
            "keys(...) method of builtins.dict instance\n",
            "    D.keys() -> a set-like object providing a view on D's keys\n",
            "\n"
          ]
        }
      ]
    },
    {
      "cell_type": "code",
      "source": [
        "# Tranformemos el obejto de tipo dict_keys a un dato de tipo lista\n",
        "list(d3.keys())"
      ],
      "metadata": {
        "colab": {
          "base_uri": "https://localhost:8080/"
        },
        "id": "ssRP7iM1ZldN",
        "outputId": "e5951e6a-1856-4039-f8b0-fac4c355d172"
      },
      "execution_count": null,
      "outputs": [
        {
          "output_type": "execute_result",
          "data": {
            "text/plain": [
              "['a', 'e', 'i', 'o', 'u']"
            ]
          },
          "metadata": {},
          "execution_count": 34
        }
      ]
    },
    {
      "cell_type": "code",
      "source": [
        "# Tranformemos el objeto de tipo dict_keys a un dato de tipo tupla\n",
        "tuple(d3.keys())"
      ],
      "metadata": {
        "colab": {
          "base_uri": "https://localhost:8080/"
        },
        "id": "JCZMt8hwZsyE",
        "outputId": "586c2de8-d732-4f2c-8ac9-b4d0e7fb5bdf"
      },
      "execution_count": null,
      "outputs": [
        {
          "output_type": "execute_result",
          "data": {
            "text/plain": [
              "('a', 'e', 'i', 'o', 'u')"
            ]
          },
          "metadata": {},
          "execution_count": 35
        }
      ]
    },
    {
      "cell_type": "code",
      "source": [
        "# Documentacion del meotodo pop\n",
        "help({}.pop)"
      ],
      "metadata": {
        "colab": {
          "base_uri": "https://localhost:8080/"
        },
        "id": "8IAEQ92Obyg_",
        "outputId": "621cb69d-c8d1-4484-ad13-ae824c1e13ac"
      },
      "execution_count": null,
      "outputs": [
        {
          "output_type": "stream",
          "name": "stdout",
          "text": [
            "Help on built-in function pop:\n",
            "\n",
            "pop(...) method of builtins.dict instance\n",
            "    D.pop(k[,d]) -> v, remove specified key and return the corresponding value.\n",
            "    \n",
            "    If the key is not found, return the default if given; otherwise,\n",
            "    raise a KeyError.\n",
            "\n"
          ]
        }
      ]
    },
    {
      "cell_type": "code",
      "source": [
        "d3"
      ],
      "metadata": {
        "colab": {
          "base_uri": "https://localhost:8080/"
        },
        "id": "FJnaljnzcDZR",
        "outputId": "e39e668a-57f5-4945-b27d-78cba66bf53c"
      },
      "execution_count": null,
      "outputs": [
        {
          "output_type": "execute_result",
          "data": {
            "text/plain": [
              "{'a': None, 'e': None, 'i': None, 'o': None, 'u': None}"
            ]
          },
          "metadata": {},
          "execution_count": 41
        }
      ]
    },
    {
      "cell_type": "code",
      "source": [
        "d7 = d3.copy()\n",
        "d7"
      ],
      "metadata": {
        "colab": {
          "base_uri": "https://localhost:8080/"
        },
        "id": "k53O8-lNcEjC",
        "outputId": "5577905b-6cfd-4d46-a6ea-93a4d951b2c8"
      },
      "execution_count": null,
      "outputs": [
        {
          "output_type": "execute_result",
          "data": {
            "text/plain": [
              "{'a': None, 'e': None, 'i': None, 'o': None, 'u': None}"
            ]
          },
          "metadata": {},
          "execution_count": 42
        }
      ]
    },
    {
      "cell_type": "code",
      "source": [
        "d7.pop(\"i\")\n",
        "d7"
      ],
      "metadata": {
        "colab": {
          "base_uri": "https://localhost:8080/"
        },
        "id": "RoIweRRLcNiH",
        "outputId": "e7e08b04-2efd-49b5-f26b-63800734f02d"
      },
      "execution_count": null,
      "outputs": [
        {
          "output_type": "execute_result",
          "data": {
            "text/plain": [
              "{'a': None, 'e': None, 'o': None, 'u': None}"
            ]
          },
          "metadata": {},
          "execution_count": 43
        }
      ]
    },
    {
      "cell_type": "code",
      "source": [
        "d7.pop(\"QUINTO\")"
      ],
      "metadata": {
        "colab": {
          "base_uri": "https://localhost:8080/",
          "height": 146
        },
        "id": "kswBJuexcWF3",
        "outputId": "079bedcc-b029-4bb5-c9e9-8a6fdfc64ccc"
      },
      "execution_count": null,
      "outputs": [
        {
          "output_type": "error",
          "ename": "KeyError",
          "evalue": "'QUINTO'",
          "traceback": [
            "\u001b[0;31m---------------------------------------------------------------------------\u001b[0m",
            "\u001b[0;31mKeyError\u001b[0m                                  Traceback (most recent call last)",
            "\u001b[0;32m<ipython-input-44-efca3965ded8>\u001b[0m in \u001b[0;36m<cell line: 0>\u001b[0;34m()\u001b[0m\n\u001b[0;32m----> 1\u001b[0;31m \u001b[0md7\u001b[0m\u001b[0;34m.\u001b[0m\u001b[0mpop\u001b[0m\u001b[0;34m(\u001b[0m\u001b[0;34m\"QUINTO\"\u001b[0m\u001b[0;34m)\u001b[0m\u001b[0;34m\u001b[0m\u001b[0;34m\u001b[0m\u001b[0m\n\u001b[0m",
            "\u001b[0;31mKeyError\u001b[0m: 'QUINTO'"
          ]
        }
      ]
    },
    {
      "cell_type": "code",
      "source": [
        "d7.pop(\"QUINTO\", 777)"
      ],
      "metadata": {
        "colab": {
          "base_uri": "https://localhost:8080/"
        },
        "id": "f6kP8TtCcZSC",
        "outputId": "810f9135-4681-4b5a-b31c-14d247c3c77e"
      },
      "execution_count": null,
      "outputs": [
        {
          "output_type": "execute_result",
          "data": {
            "text/plain": [
              "777"
            ]
          },
          "metadata": {},
          "execution_count": 45
        }
      ]
    },
    {
      "cell_type": "code",
      "source": [
        "# Documentacion de popitem\n",
        "help({}.popitem)"
      ],
      "metadata": {
        "colab": {
          "base_uri": "https://localhost:8080/"
        },
        "id": "ZK8J_n02cfHP",
        "outputId": "99ff3d3b-fdbc-46a0-9169-fcbf0e792f7f"
      },
      "execution_count": null,
      "outputs": [
        {
          "output_type": "stream",
          "name": "stdout",
          "text": [
            "Help on built-in function popitem:\n",
            "\n",
            "popitem() method of builtins.dict instance\n",
            "    Remove and return a (key, value) pair as a 2-tuple.\n",
            "    \n",
            "    Pairs are returned in LIFO (last-in, first-out) order.\n",
            "    Raises KeyError if the dict is empty.\n",
            "\n"
          ]
        }
      ]
    },
    {
      "cell_type": "code",
      "source": [
        "d8 = d5.copy()\n",
        "d8"
      ],
      "metadata": {
        "colab": {
          "base_uri": "https://localhost:8080/"
        },
        "id": "mkjEPHxVf2kN",
        "outputId": "cd58047a-f495-4f36-9e1c-2e2b80522d1e"
      },
      "execution_count": null,
      "outputs": [
        {
          "output_type": "execute_result",
          "data": {
            "text/plain": [
              "{'PRIMERO': 9, 'SEGUNDO': 9, 'TERCERO': 9, 'CUARTO': 9}"
            ]
          },
          "metadata": {},
          "execution_count": 48
        }
      ]
    },
    {
      "cell_type": "code",
      "source": [
        "d8.popitem()"
      ],
      "metadata": {
        "colab": {
          "base_uri": "https://localhost:8080/"
        },
        "id": "0dsNbEruf6bN",
        "outputId": "be365a37-b3c6-4375-92e0-5348dfbdfde0"
      },
      "execution_count": null,
      "outputs": [
        {
          "output_type": "execute_result",
          "data": {
            "text/plain": [
              "('CUARTO', 9)"
            ]
          },
          "metadata": {},
          "execution_count": 49
        }
      ]
    },
    {
      "cell_type": "code",
      "source": [
        "d8"
      ],
      "metadata": {
        "colab": {
          "base_uri": "https://localhost:8080/"
        },
        "id": "bFflnPpgf9uu",
        "outputId": "b2f2d67a-6da1-43e8-c4b1-cc546b593789"
      },
      "execution_count": null,
      "outputs": [
        {
          "output_type": "execute_result",
          "data": {
            "text/plain": [
              "{'PRIMERO': 9, 'SEGUNDO': 9, 'TERCERO': 9}"
            ]
          },
          "metadata": {},
          "execution_count": 50
        }
      ]
    },
    {
      "cell_type": "code",
      "source": [
        "d9= {}\n",
        "d9.popitem()"
      ],
      "metadata": {
        "colab": {
          "base_uri": "https://localhost:8080/",
          "height": 165
        },
        "id": "eNKoU7RRgGUK",
        "outputId": "fc7501fb-dd66-4075-c430-9d1166c76c75"
      },
      "execution_count": null,
      "outputs": [
        {
          "output_type": "error",
          "ename": "KeyError",
          "evalue": "'popitem(): dictionary is empty'",
          "traceback": [
            "\u001b[0;31m---------------------------------------------------------------------------\u001b[0m",
            "\u001b[0;31mKeyError\u001b[0m                                  Traceback (most recent call last)",
            "\u001b[0;32m<ipython-input-51-c26df5cae20e>\u001b[0m in \u001b[0;36m<cell line: 0>\u001b[0;34m()\u001b[0m\n\u001b[1;32m      1\u001b[0m \u001b[0md9\u001b[0m\u001b[0;34m=\u001b[0m \u001b[0;34m{\u001b[0m\u001b[0;34m}\u001b[0m\u001b[0;34m\u001b[0m\u001b[0;34m\u001b[0m\u001b[0m\n\u001b[0;32m----> 2\u001b[0;31m \u001b[0md9\u001b[0m\u001b[0;34m.\u001b[0m\u001b[0mpopitem\u001b[0m\u001b[0;34m(\u001b[0m\u001b[0;34m)\u001b[0m\u001b[0;34m\u001b[0m\u001b[0;34m\u001b[0m\u001b[0m\n\u001b[0m",
            "\u001b[0;31mKeyError\u001b[0m: 'popitem(): dictionary is empty'"
          ]
        }
      ]
    },
    {
      "cell_type": "code",
      "source": [
        "# Documentacion del metodo setdefault\n",
        "help(d9.setdefault)"
      ],
      "metadata": {
        "colab": {
          "base_uri": "https://localhost:8080/"
        },
        "id": "9GJRy3xBgKxE",
        "outputId": "e2eeb0b9-e722-4f38-9202-fb6f9cca0a61"
      },
      "execution_count": null,
      "outputs": [
        {
          "output_type": "stream",
          "name": "stdout",
          "text": [
            "Help on built-in function setdefault:\n",
            "\n",
            "setdefault(key, default=None, /) method of builtins.dict instance\n",
            "    Insert key with a value of default if key is not in the dictionary.\n",
            "    \n",
            "    Return the value for key if key is in the dictionary, else default.\n",
            "\n"
          ]
        }
      ]
    },
    {
      "cell_type": "code",
      "source": [
        "d4"
      ],
      "metadata": {
        "colab": {
          "base_uri": "https://localhost:8080/"
        },
        "id": "-z17oxK8inrw",
        "outputId": "c2fce0bc-94a3-42f2-da4f-16454ba3fb0a"
      },
      "execution_count": null,
      "outputs": [
        {
          "output_type": "execute_result",
          "data": {
            "text/plain": [
              "{1: 777, 4: 777, 7: 777, 10: 777, 13: 777, 16: 777, 19: 777}"
            ]
          },
          "metadata": {},
          "execution_count": 54
        }
      ]
    },
    {
      "cell_type": "code",
      "source": [
        "d4.setdefault(21, 777)\n",
        "# d4[21] = 777"
      ],
      "metadata": {
        "colab": {
          "base_uri": "https://localhost:8080/"
        },
        "id": "zb0WikvOioaE",
        "outputId": "ee95551a-8e75-4fcb-9431-7e6aa7658397"
      },
      "execution_count": null,
      "outputs": [
        {
          "output_type": "execute_result",
          "data": {
            "text/plain": [
              "777"
            ]
          },
          "metadata": {},
          "execution_count": 55
        }
      ]
    },
    {
      "cell_type": "code",
      "source": [
        "d4"
      ],
      "metadata": {
        "colab": {
          "base_uri": "https://localhost:8080/"
        },
        "id": "doc28spriu_B",
        "outputId": "299f10fe-04c7-4918-f756-c350e089601c"
      },
      "execution_count": null,
      "outputs": [
        {
          "output_type": "execute_result",
          "data": {
            "text/plain": [
              "{1: 777, 4: 777, 7: 777, 10: 777, 13: 777, 16: 777, 19: 777, 21: 777}"
            ]
          },
          "metadata": {},
          "execution_count": 56
        }
      ]
    },
    {
      "cell_type": "code",
      "source": [
        "d4.setdefault(10, \"767\")\n",
        "# d4[10]"
      ],
      "metadata": {
        "colab": {
          "base_uri": "https://localhost:8080/"
        },
        "id": "ASOq8vBdixJE",
        "outputId": "5d292125-28f1-4096-a68a-1ca8f9e8e15a"
      },
      "execution_count": null,
      "outputs": [
        {
          "output_type": "execute_result",
          "data": {
            "text/plain": [
              "777"
            ]
          },
          "metadata": {},
          "execution_count": 61
        }
      ]
    },
    {
      "cell_type": "code",
      "source": [
        "d4 # Vemos que no llegó a agregar nada solo devolvió el valor de la llave que se quería agregar"
      ],
      "metadata": {
        "colab": {
          "base_uri": "https://localhost:8080/"
        },
        "id": "NIJ4Sb0ai8hB",
        "outputId": "aff458d1-48d5-46e5-8347-e0b0fa807041"
      },
      "execution_count": null,
      "outputs": [
        {
          "output_type": "execute_result",
          "data": {
            "text/plain": [
              "{1: 777, 4: 777, 7: 777, 10: 777, 13: 777, 16: 777, 19: 777, 21: 777}"
            ]
          },
          "metadata": {},
          "execution_count": 62
        }
      ]
    },
    {
      "cell_type": "code",
      "source": [
        "help({}.update)"
      ],
      "metadata": {
        "colab": {
          "base_uri": "https://localhost:8080/"
        },
        "id": "zo_jOgTGjF2Q",
        "outputId": "c9b11d87-6713-40cb-c135-d9b91bac37da"
      },
      "execution_count": null,
      "outputs": [
        {
          "output_type": "stream",
          "name": "stdout",
          "text": [
            "Help on built-in function update:\n",
            "\n",
            "update(...) method of builtins.dict instance\n",
            "    D.update([E, ]**F) -> None.  Update D from dict/iterable E and F.\n",
            "    If E is present and has a .keys() method, then does:  for k in E: D[k] = E[k]\n",
            "    If E is present and lacks a .keys() method, then does:  for k, v in E: D[k] = v\n",
            "    In either case, this is followed by: for k in F:  D[k] = F[k]\n",
            "\n"
          ]
        }
      ]
    },
    {
      "cell_type": "code",
      "source": [
        "d10 = d8.copy()\n",
        "d10"
      ],
      "metadata": {
        "colab": {
          "base_uri": "https://localhost:8080/"
        },
        "id": "YoKCwsB0j5fy",
        "outputId": "f0a20f2e-65e3-4050-b032-89e5c5df3964"
      },
      "execution_count": null,
      "outputs": [
        {
          "output_type": "execute_result",
          "data": {
            "text/plain": [
              "{'PRIMERO': 9, 'SEGUNDO': 9, 'TERCERO': 9}"
            ]
          },
          "metadata": {},
          "execution_count": 68
        }
      ]
    },
    {
      "cell_type": "code",
      "source": [
        "d1"
      ],
      "metadata": {
        "colab": {
          "base_uri": "https://localhost:8080/"
        },
        "id": "3V1UDpVUkDcZ",
        "outputId": "cf20b185-7a99-408c-b35e-5c5e23449b25"
      },
      "execution_count": null,
      "outputs": [
        {
          "output_type": "execute_result",
          "data": {
            "text/plain": [
              "{'uno': 1, 'dos': 2, 'tres': 3, 'cuatro': 4}"
            ]
          },
          "metadata": {},
          "execution_count": 69
        }
      ]
    },
    {
      "cell_type": "code",
      "source": [
        "d10.update(d1)"
      ],
      "metadata": {
        "id": "y2zrRtnMj800"
      },
      "execution_count": null,
      "outputs": []
    },
    {
      "cell_type": "code",
      "source": [
        "d10"
      ],
      "metadata": {
        "colab": {
          "base_uri": "https://localhost:8080/"
        },
        "id": "KNb-0scnkIh3",
        "outputId": "a2cfb376-4197-4b80-ed51-e0fed614c8a6"
      },
      "execution_count": null,
      "outputs": [
        {
          "output_type": "execute_result",
          "data": {
            "text/plain": [
              "{'PRIMERO': 9,\n",
              " 'SEGUNDO': 9,\n",
              " 'TERCERO': 9,\n",
              " 'uno': 1,\n",
              " 'dos': 2,\n",
              " 'tres': 3,\n",
              " 'cuatro': 4}"
            ]
          },
          "metadata": {},
          "execution_count": 71
        }
      ]
    },
    {
      "cell_type": "code",
      "source": [
        "d10.update()"
      ],
      "metadata": {
        "id": "dLdEXh9_kQpL"
      },
      "execution_count": null,
      "outputs": []
    },
    {
      "cell_type": "code",
      "source": [
        "d10"
      ],
      "metadata": {
        "colab": {
          "base_uri": "https://localhost:8080/"
        },
        "id": "2QzjtM9flum1",
        "outputId": "14bfa265-b9c7-47a0-a977-1f6da731aeed"
      },
      "execution_count": null,
      "outputs": [
        {
          "output_type": "execute_result",
          "data": {
            "text/plain": [
              "{'PRIMERO': 9,\n",
              " 'SEGUNDO': 9,\n",
              " 'TERCERO': 9,\n",
              " 'uno': 1,\n",
              " 'dos': 2,\n",
              " 'tres': 3,\n",
              " 'cuatro': 4}"
            ]
          },
          "metadata": {},
          "execution_count": 73
        }
      ]
    },
    {
      "cell_type": "code",
      "source": [
        "# Documentacion del meotod values\n",
        "help({}.values)"
      ],
      "metadata": {
        "colab": {
          "base_uri": "https://localhost:8080/"
        },
        "id": "IbL2Z38olvs-",
        "outputId": "e80a79e9-276c-48c1-e7d0-3f59f5b716c7"
      },
      "execution_count": null,
      "outputs": [
        {
          "output_type": "stream",
          "name": "stdout",
          "text": [
            "Help on built-in function values:\n",
            "\n",
            "values(...) method of builtins.dict instance\n",
            "    D.values() -> an object providing a view on D's values\n",
            "\n"
          ]
        }
      ]
    },
    {
      "cell_type": "code",
      "source": [
        "d10.values()"
      ],
      "metadata": {
        "colab": {
          "base_uri": "https://localhost:8080/"
        },
        "id": "Y8vPRrs0mBZY",
        "outputId": "fe35e767-4a23-4bce-e60d-464d472d2de4"
      },
      "execution_count": null,
      "outputs": [
        {
          "output_type": "execute_result",
          "data": {
            "text/plain": [
              "dict_values([9, 9, 9, 1, 2, 3, 4])"
            ]
          },
          "metadata": {},
          "execution_count": 76
        }
      ]
    },
    {
      "cell_type": "code",
      "source": [
        "list(d10.values())"
      ],
      "metadata": {
        "colab": {
          "base_uri": "https://localhost:8080/"
        },
        "id": "vxjwd1YLmLRN",
        "outputId": "ba5b6b4c-3bc9-4891-a911-744c67c023f5"
      },
      "execution_count": null,
      "outputs": [
        {
          "output_type": "execute_result",
          "data": {
            "text/plain": [
              "[9, 9, 9, 1, 2, 3, 4]"
            ]
          },
          "metadata": {},
          "execution_count": 77
        }
      ]
    },
    {
      "cell_type": "code",
      "source": [
        "tuple(d10.values())"
      ],
      "metadata": {
        "colab": {
          "base_uri": "https://localhost:8080/"
        },
        "id": "onOPVPwVmOuN",
        "outputId": "decacaa0-b714-4127-bb46-cc042a04a2d9"
      },
      "execution_count": null,
      "outputs": [
        {
          "output_type": "execute_result",
          "data": {
            "text/plain": [
              "(9, 9, 9, 1, 2, 3, 4)"
            ]
          },
          "metadata": {},
          "execution_count": 80
        }
      ]
    },
    {
      "cell_type": "code",
      "source": [],
      "metadata": {
        "id": "EJWj3QeSmbSy"
      },
      "execution_count": null,
      "outputs": []
    }
  ]
}