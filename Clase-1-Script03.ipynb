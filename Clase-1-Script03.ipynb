{
  "nbformat": 4,
  "nbformat_minor": 0,
  "metadata": {
    "colab": {
      "provenance": [],
      "authorship_tag": "ABX9TyOcrNIG1Oicrfv+/HOJ7/z3",
      "include_colab_link": true
    },
    "kernelspec": {
      "name": "python3",
      "display_name": "Python 3"
    },
    "language_info": {
      "name": "python"
    }
  },
  "cells": [
    {
      "cell_type": "markdown",
      "metadata": {
        "id": "view-in-github",
        "colab_type": "text"
      },
      "source": [
        "<a href=\"https://colab.research.google.com/github/henryberroa4040/python-basico/blob/main/Clase-1-Script03.ipynb\" target=\"_parent\"><img src=\"https://colab.research.google.com/assets/colab-badge.svg\" alt=\"Open In Colab\"/></a>"
      ]
    },
    {
      "cell_type": "markdown",
      "source": [
        "# Primeros pasos de Python"
      ],
      "metadata": {
        "id": "lzGPjH1NfUZQ"
      }
    },
    {
      "cell_type": "markdown",
      "source": [
        "## Ejecucion de comandos Linux en Colab"
      ],
      "metadata": {
        "id": "jp6Lzh80fx5O"
      }
    },
    {
      "cell_type": "code",
      "execution_count": null,
      "metadata": {
        "id": "lPgw62NUeM7c"
      },
      "outputs": [],
      "source": [
        "# Luego"
      ]
    },
    {
      "cell_type": "code",
      "source": [
        "# de"
      ],
      "metadata": {
        "id": "1klas6OKfdXC"
      },
      "execution_count": null,
      "outputs": []
    },
    {
      "cell_type": "code",
      "source": [
        "# de muchas lineas de código"
      ],
      "metadata": {
        "id": "SXKhhFMDfbhU"
      },
      "execution_count": null,
      "outputs": []
    },
    {
      "cell_type": "markdown",
      "source": [
        "## Definicion de variables"
      ],
      "metadata": {
        "id": "zdVRVlgQfeuf"
      }
    },
    {
      "cell_type": "code",
      "source": [
        "#Canales de atencion\n",
        "#971 683 282"
      ],
      "metadata": {
        "id": "Ii9x-sSmgCly"
      },
      "execution_count": null,
      "outputs": []
    },
    {
      "cell_type": "code",
      "source": [
        "# Variable basicas : int, float, str, bool"
      ],
      "metadata": {
        "id": "oIhAjjial5d1"
      },
      "execution_count": null,
      "outputs": []
    },
    {
      "cell_type": "code",
      "source": [
        "var_entera=12\n",
        "var_punto_flotante=9.81\n",
        "var_cadena_caracter=\"Primera Clase\"\n",
        "otra_var_cadena_caracter=\"Que fea clase\"\n",
        "var_logica= False\n",
        "otra_var_logica= True"
      ],
      "metadata": {
        "id": "pIC3_PiAmAZ0"
      },
      "execution_count": null,
      "outputs": []
    },
    {
      "cell_type": "code",
      "source": [
        "#Variables son de naturaleza numerica (int,float) entonces\n",
        "#las 4 operaciones aritmeticas son muy naturales\n",
        "x= var_entera + 23"
      ],
      "metadata": {
        "id": "J4JilRLDneuA"
      },
      "execution_count": null,
      "outputs": []
    },
    {
      "cell_type": "code",
      "source": [
        "x"
      ],
      "metadata": {
        "colab": {
          "base_uri": "https://localhost:8080/"
        },
        "id": "QxIRYJKgoO-T",
        "outputId": "64a5cb51-5dd7-4c10-e59a-0603d0122bff"
      },
      "execution_count": null,
      "outputs": [
        {
          "output_type": "execute_result",
          "data": {
            "text/plain": [
              "35"
            ]
          },
          "metadata": {},
          "execution_count": 5
        }
      ]
    },
    {
      "cell_type": "code",
      "source": [
        "x+99"
      ],
      "metadata": {
        "colab": {
          "base_uri": "https://localhost:8080/"
        },
        "id": "5ZYlFWapoXgc",
        "outputId": "637d64cb-3921-47c2-880e-d0292db76b82"
      },
      "execution_count": null,
      "outputs": [
        {
          "output_type": "execute_result",
          "data": {
            "text/plain": [
              "134"
            ]
          },
          "metadata": {},
          "execution_count": 7
        }
      ]
    },
    {
      "cell_type": "code",
      "source": [
        "#Operacioens aritmeticas : + - * /\n",
        "#Algoritmo de Euclides : D=d * q + r\n",
        "# En python:\n",
        "  # q=D // d\n",
        "  # r=D % d\n",
        "#Dados dos variables de tipo entero\n",
        "D=2025\n",
        "d=1982\n"
      ],
      "metadata": {
        "id": "zZnmd5b5osAS"
      },
      "execution_count": null,
      "outputs": []
    },
    {
      "cell_type": "code",
      "source": [
        "q= D//d\n",
        "q"
      ],
      "metadata": {
        "colab": {
          "base_uri": "https://localhost:8080/"
        },
        "id": "VXhiSbB-pQk-",
        "outputId": "316ef395-034d-4407-a705-2237da92dc65"
      },
      "execution_count": null,
      "outputs": [
        {
          "output_type": "execute_result",
          "data": {
            "text/plain": [
              "1"
            ]
          },
          "metadata": {},
          "execution_count": 11
        }
      ]
    },
    {
      "cell_type": "code",
      "source": [
        "r= D % d\n",
        "r"
      ],
      "metadata": {
        "colab": {
          "base_uri": "https://localhost:8080/"
        },
        "id": "bxiplCQtpZ_Z",
        "outputId": "3fc2d86c-2f03-47d8-abb4-01a836e696d1"
      },
      "execution_count": null,
      "outputs": [
        {
          "output_type": "execute_result",
          "data": {
            "text/plain": [
              "43"
            ]
          },
          "metadata": {},
          "execution_count": 15
        }
      ]
    },
    {
      "cell_type": "code",
      "source": [
        "# En los nombre de variables , no debe haber espacios en blanco\n",
        "# Los nombre de variables no inician con caracteres numéricos\n",
        "# Los nombre de variables no poseen los caracter \"/\" \"\\\"\n",
        "# Los nombre de variables no posee caracteres compuestos del expañol (tilde, dieresis, eñe, etc)\n",
        "# Los nombre de variables debe estar en concordancia con el uso que va a tener"
      ],
      "metadata": {
        "id": "NKvIA5gFpmVd"
      },
      "execution_count": null,
      "outputs": []
    }
  ]
}