{
  "nbformat": 4,
  "nbformat_minor": 0,
  "metadata": {
    "colab": {
      "provenance": [],
      "authorship_tag": "ABX9TyNN7Fm4GAfjav19teflhk03",
      "include_colab_link": true
    },
    "kernelspec": {
      "name": "python3",
      "display_name": "Python 3"
    },
    "language_info": {
      "name": "python"
    }
  },
  "cells": [
    {
      "cell_type": "markdown",
      "metadata": {
        "id": "view-in-github",
        "colab_type": "text"
      },
      "source": [
        "<a href=\"https://colab.research.google.com/github/henryberroa4040/python-basico/blob/main/Clase-5-Script01.ipynb\" target=\"_parent\"><img src=\"https://colab.research.google.com/assets/colab-badge.svg\" alt=\"Open In Colab\"/></a>"
      ]
    },
    {
      "cell_type": "markdown",
      "source": [
        "# Estrutura While"
      ],
      "metadata": {
        "id": "B6w5px82z4M3"
      }
    },
    {
      "cell_type": "code",
      "execution_count": null,
      "metadata": {
        "id": "UrkUY0RYzE9C"
      },
      "outputs": [],
      "source": [
        "# while condition:\n",
        "#   ejecuta\n",
        "#   un conjunto\n",
        "#   de sentencias"
      ]
    },
    {
      "cell_type": "code",
      "source": [
        "# Imprimir los numeros menores a una cota determinada\n",
        "count = 1\n",
        "while (count < 5):\n",
        "  print(count)\n",
        "  # Consideremos un valor de actualizacion fijo (1)\n",
        "  count = count + 1"
      ],
      "metadata": {
        "colab": {
          "base_uri": "https://localhost:8080/"
        },
        "id": "nCcfGkG10_LG",
        "outputId": "aa1c99be-73ce-4e0c-ef25-639671059784"
      },
      "execution_count": null,
      "outputs": [
        {
          "output_type": "stream",
          "name": "stdout",
          "text": [
            "1\n",
            "2\n",
            "3\n",
            "4\n"
          ]
        }
      ]
    },
    {
      "cell_type": "code",
      "source": [
        "# Imprimir los numeros menores a una cota determinada\n",
        "# Consideremos que el valor de actualizacion de count sean un numero\n",
        "# en el intervalo de [0,1]\n",
        "\n",
        "# Cargemos el modulo ramdon\n",
        "import random as rnd\n",
        "\n",
        "count = 1\n",
        "while (count < 5):\n",
        "  print(count)\n",
        "  # Consideremos un valor de actualizacion que no permanece constante\n",
        "  count = count + rnd.uniform(0,1)\n",
        "\n",
        "# Primera Ejecucion\n",
        "# 1\n",
        "# 1.0021737038244276\n",
        "# 1.8943664720617854\n",
        "# 2.76260356515865\n",
        "# 2.8227424654311917\n",
        "# 2.96928735981312\n",
        "# 3.764021740205357\n",
        "# 3.7944216583152572\n",
        "# 4.229925629751533\n",
        "# 4.702135433369927\n",
        "\n",
        "# Segunda Ejecucion\n",
        "# 1\n",
        "# 1.1910920904023619\n",
        "# 1.3471669316700852\n",
        "# 2.2214361676510963\n",
        "# 2.5310911764103086\n",
        "# 2.6387212063717618\n",
        "# 3.2829363244926633\n",
        "# 4.041931005585571\n",
        "# 4.299660164733126\n",
        "# 4.555423183312537"
      ],
      "metadata": {
        "colab": {
          "base_uri": "https://localhost:8080/"
        },
        "id": "nALFhE581jah",
        "outputId": "fb24ae0d-2625-44e5-878c-78f468e92905"
      },
      "execution_count": null,
      "outputs": [
        {
          "output_type": "stream",
          "name": "stdout",
          "text": [
            "1\n",
            "1.4824618919595571\n",
            "1.8271052772751966\n",
            "2.1852304139624366\n",
            "2.219185614504919\n",
            "2.4825838951256456\n",
            "2.922606725168516\n",
            "3.8590115215844873\n",
            "3.8880619784805273\n",
            "4.310979036304941\n",
            "4.392821825072018\n"
          ]
        }
      ]
    },
    {
      "cell_type": "code",
      "source": [
        "# Imprimir los numeros menores a una cota determinada (entrada por parte del usuario)\n",
        "# Consideremos que el valor de actualizacion de count sean un numero (aleatorio) en el intervalo [0,1]\n",
        "# Cuente el numero de veces que genera un numero aleatorio para concluir la estructura while\n",
        "# Tambien debe mostrar el valor de actualizacion aleatorio\n",
        "\n",
        "# Definamos la cota: Ingresada por el usuario\n",
        "cota=float(input(\"Ingresa un numero mayor que 1 \"))\n",
        "\n",
        "# Definamos un contador para el numero de veces que genera un valor de actualizacion nuevo\n",
        "num_veces_act=0\n",
        "\n",
        "count = 1\n",
        "while (count < cota):\n",
        "  # Consideremos un valor de actualizacion que no permanece constante\n",
        "  valor_actualizacion=rnd.uniform(0,1)\n",
        "  print(\"count : \",count, \" valor de actualizacion\",valor_actualizacion )\n",
        "  count = count + valor_actualizacion\n",
        "  num_veces_act=num_veces_act+1\n",
        "\n",
        " # Mostremos el numero de veces que se genera el aleatorio\n",
        "print(\"Numero de veces : \", num_veces_act)"
      ],
      "metadata": {
        "colab": {
          "base_uri": "https://localhost:8080/"
        },
        "id": "PqFasoOi5LyO",
        "outputId": "36d0616c-e572-4b95-e05d-33f998de69b9"
      },
      "execution_count": null,
      "outputs": [
        {
          "output_type": "stream",
          "name": "stdout",
          "text": [
            "Ingresa un numero mayor que 1 10\n",
            "count :  1  valor de actualizacion 0.13014564887067537\n",
            "count :  1.1301456488706754  valor de actualizacion 0.028778926633516444\n",
            "count :  1.1589245755041917  valor de actualizacion 0.6739723693816042\n",
            "count :  1.832896944885796  valor de actualizacion 0.2416720450357399\n",
            "count :  2.074568989921536  valor de actualizacion 0.1239725933714082\n",
            "count :  2.1985415832929442  valor de actualizacion 0.12677686134819122\n",
            "count :  2.3253184446411357  valor de actualizacion 0.869590062100179\n",
            "count :  3.1949085067413145  valor de actualizacion 0.778748569416672\n",
            "count :  3.973657076157987  valor de actualizacion 0.23907541577871982\n",
            "count :  4.212732491936706  valor de actualizacion 0.8254503917263541\n",
            "count :  5.038182883663061  valor de actualizacion 0.4892072465510604\n",
            "count :  5.527390130214121  valor de actualizacion 0.36251352592137853\n",
            "count :  5.889903656135499  valor de actualizacion 0.865560762098557\n",
            "count :  6.755464418234056  valor de actualizacion 0.018461481956149717\n",
            "count :  6.773925900190206  valor de actualizacion 0.4350076489377803\n",
            "count :  7.208933549127987  valor de actualizacion 0.41881229371530837\n",
            "count :  7.627745842843295  valor de actualizacion 0.08242535977998844\n",
            "count :  7.710171202623283  valor de actualizacion 0.45107994454138667\n",
            "count :  8.16125114716467  valor de actualizacion 0.8239590280513952\n",
            "count :  8.985210175216064  valor de actualizacion 0.9841408673019544\n",
            "count :  9.969351042518019  valor de actualizacion 0.9514058371568636\n",
            "Numero de veces :  21\n"
          ]
        }
      ]
    },
    {
      "cell_type": "code",
      "source": [
        "# Conjetura de Collazt\n",
        "  # Toma cualquier numero entero que no sea negativo y que no sea cero : Asignemosle\n",
        "  # el nombre de variable c0\n",
        "\n",
        "  # Si es par, actualizamos c0 por el valor c0/2\n",
        "\n",
        "  # Caso contrario, si es impar, actualizamos c0=3*c0+1\n",
        "\n",
        "  # Si c0 es diferente de 1, saltamos al segundo item\n",
        "\n",
        "# Hipotesis : Independientemente del valor inicial de la variable c0\n",
        "# Siempre llega a tener el valor de 1\n",
        "\n",
        "# Consideremos contar el numero de veces que se ejecuta la logica de calculo c0\n",
        "\n",
        "# IMPLEMENTACION\n",
        "\n",
        "c0=int(input(\"Ingresa un numero entero mayor que cero : \"))\n",
        "\n",
        "# Variable para almacenar el número de datos\n",
        "num_veces=1\n",
        "\n",
        "if c0>0 :\n",
        "  while c0!=1 :\n",
        "    if c0%2==0 :\n",
        "      c0=c0/2\n",
        "    else :\n",
        "      c0=3*c0+1\n",
        "    print(\"c0 : %d \\t Numero de ves : %d \"%(c0,num_veces))\n",
        "    num_veces=num_veces+1\n",
        "else :\n",
        "  print(\"Debes ingresar un numero mayor que cero\")\n",
        "\n",
        "# Mostremos los valores finales\n",
        "print(\"Ultimo valor de c0 : %d \"%(c0))\n",
        "print(\"Numero de veces (Collazt) : %d \"%(num_veces-1))"
      ],
      "metadata": {
        "id": "YqX11Ghpr1p1",
        "colab": {
          "base_uri": "https://localhost:8080/"
        },
        "outputId": "88437252-ec90-4cd1-9a63-234e9a38dc38"
      },
      "execution_count": null,
      "outputs": [
        {
          "output_type": "stream",
          "name": "stdout",
          "text": [
            "Ingresa un numero entero mayor que cero : 2\n",
            "c0 : 1 \t Numero de ves : 1 \n",
            "Ultimo valor de c0 : 1 \n",
            "Numero de veces (Collazt) : 1 \n"
          ]
        }
      ]
    },
    {
      "cell_type": "markdown",
      "source": [
        "# Funciones en Python"
      ],
      "metadata": {
        "id": "Vqg528sbwsJu"
      }
    },
    {
      "cell_type": "code",
      "source": [
        "# def nombre_funcion(arg1,arg2,arg3):\n",
        "#   sentencia1\n",
        "#   sentencia2\n",
        "#   sentencia3\n",
        "#   return y1,y2"
      ],
      "metadata": {
        "id": "IfpSno1upC37"
      },
      "execution_count": null,
      "outputs": []
    },
    {
      "cell_type": "code",
      "source": [
        "# Dados 3 argumentos de entrada , implementar una funcion que devuelva\n",
        "# la media aritmetica\n",
        "\n",
        "def calculo_MA(x1,x2,x3):\n",
        "  # Calculemos la media aritmetica\n",
        "  MA = (x1 + x2 + x3)/3\n",
        "  # Retornamos (output de la funcion)\n",
        "  return MA"
      ],
      "metadata": {
        "id": "tR8ZA1zVx0MV"
      },
      "execution_count": null,
      "outputs": []
    },
    {
      "cell_type": "code",
      "source": [
        "calculo_MA(12,13,14)"
      ],
      "metadata": {
        "colab": {
          "base_uri": "https://localhost:8080/"
        },
        "id": "u-PPTFFSyhkm",
        "outputId": "df2e14eb-6a60-47f6-f10c-d1d00578f84e"
      },
      "execution_count": null,
      "outputs": [
        {
          "output_type": "execute_result",
          "data": {
            "text/plain": [
              "13.0"
            ]
          },
          "metadata": {},
          "execution_count": 33
        }
      ]
    },
    {
      "cell_type": "code",
      "source": [
        "ma1 = calculo_MA(-12,13,98)\n",
        "ma1"
      ],
      "metadata": {
        "colab": {
          "base_uri": "https://localhost:8080/"
        },
        "id": "9BmaDI5pyxBf",
        "outputId": "649db4e7-9899-4369-e17e-e7871265bf72"
      },
      "execution_count": null,
      "outputs": [
        {
          "output_type": "execute_result",
          "data": {
            "text/plain": [
              "33.0"
            ]
          },
          "metadata": {},
          "execution_count": 34
        }
      ]
    },
    {
      "cell_type": "code",
      "source": [
        "# Implementemos una funcion que calcula el factorial de un numero\n",
        "\n",
        "def calculo_factorial(numero):\n",
        "  f=1\n",
        "  if ((numero!=0) and (numero>0)) :\n",
        "    for i in range(1,numero+1):\n",
        "      f= f * i\n",
        "  return f"
      ],
      "metadata": {
        "id": "T72X6USLy-aN"
      },
      "execution_count": null,
      "outputs": []
    },
    {
      "cell_type": "code",
      "source": [
        "# Ejemplito 1 de la funcion calculo_factorial\n",
        "f7 = calculo_factorial(7)\n",
        "f7"
      ],
      "metadata": {
        "colab": {
          "base_uri": "https://localhost:8080/"
        },
        "id": "Ubxb0wQ12DD8",
        "outputId": "5283202e-3383-4904-8684-78724cee1662"
      },
      "execution_count": null,
      "outputs": [
        {
          "output_type": "execute_result",
          "data": {
            "text/plain": [
              "5040"
            ]
          },
          "metadata": {},
          "execution_count": 37
        }
      ]
    },
    {
      "cell_type": "code",
      "source": [
        "# Recordemos que el modulo math tambien tiene una funcion\n",
        "# que calcula el factorial de un numero\n",
        "import math as m\n",
        "m.factorial(7)"
      ],
      "metadata": {
        "colab": {
          "base_uri": "https://localhost:8080/"
        },
        "id": "H0FKBB9o2zfj",
        "outputId": "e4ac30e9-722e-4cdc-cf9f-09a1a8828b6a"
      },
      "execution_count": null,
      "outputs": [
        {
          "output_type": "execute_result",
          "data": {
            "text/plain": [
              "5040"
            ]
          },
          "metadata": {},
          "execution_count": 38
        }
      ]
    },
    {
      "cell_type": "code",
      "source": [
        "# Empaquetemos nuestra implementacion de la conjetura de Collazt en una funcion\n",
        "\n",
        "def collazt(c0):\n",
        "  # Variable para almacenar el número de datos\n",
        "  num_veces=1\n",
        "\n",
        "  if c0>0 :\n",
        "    while c0!=1 :\n",
        "      if c0%2==0 :\n",
        "        c0=c0/2\n",
        "      else :\n",
        "        c0=3*c0+1\n",
        "      print(\"c0 : %d \\t Numero de vez : %d \"%(c0,num_veces))\n",
        "      num_veces=num_veces+1\n",
        "  else :\n",
        "    print(\"Debes ingresar un numero mayor que cero\")\n",
        "\n",
        "  return int(c0),num_veces-1\n"
      ],
      "metadata": {
        "id": "ivcL4mxK3OZk"
      },
      "execution_count": null,
      "outputs": []
    },
    {
      "cell_type": "code",
      "source": [
        "collazt(1024)"
      ],
      "metadata": {
        "colab": {
          "base_uri": "https://localhost:8080/"
        },
        "id": "B5WWGtxg4JMZ",
        "outputId": "559338f7-d7c8-42fe-eeed-9b1399f3d62d"
      },
      "execution_count": null,
      "outputs": [
        {
          "output_type": "stream",
          "name": "stdout",
          "text": [
            "c0 : 512 \t Numero de vez : 1 \n",
            "c0 : 256 \t Numero de vez : 2 \n",
            "c0 : 128 \t Numero de vez : 3 \n",
            "c0 : 64 \t Numero de vez : 4 \n",
            "c0 : 32 \t Numero de vez : 5 \n",
            "c0 : 16 \t Numero de vez : 6 \n",
            "c0 : 8 \t Numero de vez : 7 \n",
            "c0 : 4 \t Numero de vez : 8 \n",
            "c0 : 2 \t Numero de vez : 9 \n",
            "c0 : 1 \t Numero de vez : 10 \n"
          ]
        },
        {
          "output_type": "execute_result",
          "data": {
            "text/plain": [
              "(1, 10)"
            ]
          },
          "metadata": {},
          "execution_count": 42
        }
      ]
    },
    {
      "cell_type": "code",
      "source": [
        "# Implementemos una funcion que no retorne algun objeto de python\n",
        "def holamundo(nombre):\n",
        "  print(\"Buen dia Usuario : %s\"%(nombre))"
      ],
      "metadata": {
        "id": "sksSO74_4JHs"
      },
      "execution_count": null,
      "outputs": []
    },
    {
      "cell_type": "code",
      "source": [
        "holamundo(\"Willian\")"
      ],
      "metadata": {
        "colab": {
          "base_uri": "https://localhost:8080/"
        },
        "id": "vT-OZBPDMfKS",
        "outputId": "cb2e35b5-401e-44ab-bd0c-92ed3ef38e4b"
      },
      "execution_count": null,
      "outputs": [
        {
          "output_type": "stream",
          "name": "stdout",
          "text": [
            "Buen dia Usuario : Willian\n"
          ]
        }
      ]
    },
    {
      "cell_type": "code",
      "source": [
        "# llamemos a nuestra funcion Calculo_MA\n",
        "m2=calculo_MA(12,13,14)\n",
        "print(m2)\n",
        "print(type(m2))"
      ],
      "metadata": {
        "colab": {
          "base_uri": "https://localhost:8080/"
        },
        "id": "j9Szv_G7My6_",
        "outputId": "32283c6f-cc52-49d7-ca2a-32973d1bc06d"
      },
      "execution_count": null,
      "outputs": [
        {
          "output_type": "stream",
          "name": "stdout",
          "text": [
            "13.0\n",
            "<class 'float'>\n"
          ]
        }
      ]
    },
    {
      "cell_type": "code",
      "source": [
        "txt1=holamundo(\"Juan\")\n"
      ],
      "metadata": {
        "colab": {
          "base_uri": "https://localhost:8080/"
        },
        "id": "m6KdncPgNSkJ",
        "outputId": "24921a5e-fb4a-4ac2-f673-575fff4da26d"
      },
      "execution_count": null,
      "outputs": [
        {
          "output_type": "stream",
          "name": "stdout",
          "text": [
            "Buen dia Usuario : Juan\n"
          ]
        }
      ]
    },
    {
      "cell_type": "code",
      "source": [
        "txt1"
      ],
      "metadata": {
        "id": "kWiawQO3NuKe"
      },
      "execution_count": null,
      "outputs": []
    },
    {
      "cell_type": "code",
      "source": [
        "type(txt1)"
      ],
      "metadata": {
        "colab": {
          "base_uri": "https://localhost:8080/"
        },
        "id": "eMvZLvYoNlyz",
        "outputId": "fe5fefb1-abd1-47ee-8a23-4f42e50a0733"
      },
      "execution_count": null,
      "outputs": [
        {
          "output_type": "execute_result",
          "data": {
            "text/plain": [
              "NoneType"
            ]
          },
          "metadata": {},
          "execution_count": 14
        }
      ]
    }
  ]
}