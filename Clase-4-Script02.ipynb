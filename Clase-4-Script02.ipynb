{
  "nbformat": 4,
  "nbformat_minor": 0,
  "metadata": {
    "colab": {
      "provenance": [],
      "authorship_tag": "ABX9TyMxtiXbTiFvTpdeeYTez8ag",
      "include_colab_link": true
    },
    "kernelspec": {
      "name": "python3",
      "display_name": "Python 3"
    },
    "language_info": {
      "name": "python"
    }
  },
  "cells": [
    {
      "cell_type": "markdown",
      "metadata": {
        "id": "view-in-github",
        "colab_type": "text"
      },
      "source": [
        "<a href=\"https://colab.research.google.com/github/henryberroa4040/python-basico/blob/main/Clase-4-Script02.ipynb\" target=\"_parent\"><img src=\"https://colab.research.google.com/assets/colab-badge.svg\" alt=\"Open In Colab\"/></a>"
      ]
    },
    {
      "cell_type": "code",
      "source": [
        "# Carguemos el modulo ramdon\n",
        "import random as rnd"
      ],
      "metadata": {
        "id": "38j04tp0pYGf"
      },
      "execution_count": null,
      "outputs": []
    },
    {
      "cell_type": "code",
      "execution_count": null,
      "metadata": {
        "colab": {
          "base_uri": "https://localhost:8080/"
        },
        "id": "aIPt3kwlpMMg",
        "outputId": "75d4de75-ea2c-4acc-d59c-81a2b8624b67"
      },
      "outputs": [
        {
          "output_type": "stream",
          "name": "stdout",
          "text": [
            "El numero de multiplos de 7 es : 72\n"
          ]
        }
      ],
      "source": [
        "# Dados 100 numeros aleatorios aleatorios en [600,900]\n",
        "# Calcular cuantos son multiplos de 7\n",
        "\n",
        "# Numero de experimientos\n",
        "num_exp=500\n",
        "\n",
        "# Almacenamos el numero multiplos de 7\n",
        "num_7k=0\n",
        "\n",
        "# Este for sirve para realizar un numero determinado de tareas\n",
        "# Es comun la utilizacion de una estrutura repetitiva for cuando se\n",
        "# conoce el numero de veces que vamos a realizar una tarea determinada\n",
        "for i in range(num_exp):\n",
        "  # Genero un numero aleatorio con las condiciones del problema\n",
        "  ramdon1=rnd.randint(600,900)\n",
        "  # Validamos si el numero aleatorio recientemente generado es multiplo de 7\n",
        "  if (ramdon1 % 7==0):\n",
        "    # Actualizo el numero de multiplos de 7 generado de manera aleatoria\n",
        "    num_7k=num_7k+1\n",
        "\n",
        "# Mostremos los resultados\n",
        "print(\"El numero de multiplos de 7 es : %i\" %(num_7k))\n"
      ]
    },
    {
      "cell_type": "code",
      "source": [
        "# Para un texto dado, cuantos signos de puntuacion (string.punctuation) aparecen\n",
        "\n",
        "# Seleccionemos un texto de los cuentos de Julio Ramon Riberyro\n",
        "texto1=\"\"\"Desde que zarpara la barca, Janampa había pronunciado sólo dos o tres palabras,\n",
        "siempre oscuras, cargadas de reserva, como si se hubiera obstinado en crear un clima de\n",
        "misterio. Sentado frente a Dionisio, hacía una hora que remaba infatigablemente. Ya las\n",
        "fogatas de la orilla habían desaparecido y las barcas de los otros pescadores apenas se\n",
        "divisaban en lontananza, pálidamente iluminadas por sus faroles de aceite. Dionisio trataba\n",
        "en vano de estudiar las facciones de su compañero. Ocupado en desaguar el bote con la\n",
        "pequeña lata, observaba a hurtadillas su rostro que, recibiendo en plena nuca la luz cruda\n",
        "del farol, sólo mostraba una silueta negra e impenetrable. A veces, al ladear ligeramente el\n",
        "semblante, la luz se le escurría por los pómulos sudorosos o por el cuello desnudo y se\n",
        "podía adivinar una faz hosca, decidida, cruelmente poseída de una extraña resolución.\"\"\"\n",
        "\n",
        "# Cargamos el modulo string\n",
        "import string\n",
        "\n",
        "# Definamos los signos de puntuacion\n",
        "signos_puntacion1 = string.punctuation\n",
        "signos_puntacion2 = \",;.\"\n",
        "signos_puntacion3 = \",;.:\"\n",
        "\n",
        "signos_puntacion = signos_puntacion1\n",
        "\n",
        "for signo in signos_puntacion:\n",
        "  print(\"signo %s => Numero de veces %i \"%(signo,texto1.count(signo)))"
      ],
      "metadata": {
        "colab": {
          "base_uri": "https://localhost:8080/"
        },
        "id": "PH5RLKTzriSS",
        "outputId": "4e757315-bbb4-406b-c7e7-fc081d67dd4d"
      },
      "execution_count": null,
      "outputs": [
        {
          "output_type": "stream",
          "name": "stdout",
          "text": [
            "signo ! => Numero de veces 0 \n",
            "signo \" => Numero de veces 0 \n",
            "signo # => Numero de veces 0 \n",
            "signo $ => Numero de veces 0 \n",
            "signo % => Numero de veces 0 \n",
            "signo & => Numero de veces 0 \n",
            "signo ' => Numero de veces 0 \n",
            "signo ( => Numero de veces 0 \n",
            "signo ) => Numero de veces 0 \n",
            "signo * => Numero de veces 0 \n",
            "signo + => Numero de veces 0 \n",
            "signo , => Numero de veces 13 \n",
            "signo - => Numero de veces 0 \n",
            "signo . => Numero de veces 6 \n",
            "signo / => Numero de veces 0 \n",
            "signo : => Numero de veces 0 \n",
            "signo ; => Numero de veces 0 \n",
            "signo < => Numero de veces 0 \n",
            "signo = => Numero de veces 0 \n",
            "signo > => Numero de veces 0 \n",
            "signo ? => Numero de veces 0 \n",
            "signo @ => Numero de veces 0 \n",
            "signo [ => Numero de veces 0 \n",
            "signo \\ => Numero de veces 0 \n",
            "signo ] => Numero de veces 0 \n",
            "signo ^ => Numero de veces 0 \n",
            "signo _ => Numero de veces 0 \n",
            "signo ` => Numero de veces 0 \n",
            "signo { => Numero de veces 0 \n",
            "signo | => Numero de veces 0 \n",
            "signo } => Numero de veces 0 \n",
            "signo ~ => Numero de veces 0 \n"
          ]
        }
      ]
    }
  ]
}