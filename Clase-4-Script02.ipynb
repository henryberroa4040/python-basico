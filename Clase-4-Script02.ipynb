{
  "nbformat": 4,
  "nbformat_minor": 0,
  "metadata": {
    "colab": {
      "provenance": [],
      "authorship_tag": "ABX9TyO7Y8+xWy4QwaWXVFpL7nJH",
      "include_colab_link": true
    },
    "kernelspec": {
      "name": "python3",
      "display_name": "Python 3"
    },
    "language_info": {
      "name": "python"
    }
  },
  "cells": [
    {
      "cell_type": "markdown",
      "metadata": {
        "id": "view-in-github",
        "colab_type": "text"
      },
      "source": [
        "<a href=\"https://colab.research.google.com/github/henryberroa4040/python-basico/blob/main/Clase-4-Script02.ipynb\" target=\"_parent\"><img src=\"https://colab.research.google.com/assets/colab-badge.svg\" alt=\"Open In Colab\"/></a>"
      ]
    },
    {
      "cell_type": "markdown",
      "source": [
        "# Datos de tipo Lista\n",
        "\n"
      ],
      "metadata": {
        "id": "ppYt7Gl2Oy31"
      }
    },
    {
      "cell_type": "code",
      "execution_count": null,
      "metadata": {
        "id": "k9pj14adObrY"
      },
      "outputs": [],
      "source": [
        "# Para la definicion usamos corchete\n",
        "lista_1 = []"
      ]
    },
    {
      "cell_type": "code",
      "source": [
        "# Verifiquemos la creacion de la variable lista_1 en memoria ram\n",
        "lista_1"
      ],
      "metadata": {
        "colab": {
          "base_uri": "https://localhost:8080/"
        },
        "id": "Q_KLzYt6O_hM",
        "outputId": "7f1a0656-339d-4cff-ab6d-539830320749"
      },
      "execution_count": null,
      "outputs": [
        {
          "output_type": "execute_result",
          "data": {
            "text/plain": [
              "[]"
            ]
          },
          "metadata": {},
          "execution_count": 2
        }
      ]
    },
    {
      "cell_type": "code",
      "source": [
        "# Tipo de dato\n",
        "type(lista_1)"
      ],
      "metadata": {
        "colab": {
          "base_uri": "https://localhost:8080/"
        },
        "id": "bLb_feusPIKF",
        "outputId": "aa6c0000-7274-474f-e8cd-d43d7718d0f2"
      },
      "execution_count": null,
      "outputs": [
        {
          "output_type": "execute_result",
          "data": {
            "text/plain": [
              "list"
            ]
          },
          "metadata": {},
          "execution_count": 3
        }
      ]
    },
    {
      "cell_type": "code",
      "source": [
        "# Caracteristica1 : Sus elementos pueden ser de naturaleza heterogenea\n",
        "# Eso implica de que sus elementos tambien pueden ser de naturaleza homogena\n",
        "\n",
        "lista_2 = [True, False or True, 1 , 0 and 1 , 12.3 , \"Sexto_valor\", lista_1]\n",
        "lista_3 = [12,23,32,0,0,0,1]"
      ],
      "metadata": {
        "id": "Elq4pnlMPLar"
      },
      "execution_count": null,
      "outputs": []
    },
    {
      "cell_type": "code",
      "source": [
        "# Tipo de dato\n",
        "type(lista_2)"
      ],
      "metadata": {
        "colab": {
          "base_uri": "https://localhost:8080/"
        },
        "id": "7MImHxCRQCHD",
        "outputId": "1cf851ec-5be2-4b54-8dfe-10ef48cc879f"
      },
      "execution_count": null,
      "outputs": [
        {
          "output_type": "execute_result",
          "data": {
            "text/plain": [
              "list"
            ]
          },
          "metadata": {},
          "execution_count": 9
        }
      ]
    },
    {
      "cell_type": "code",
      "source": [
        "# Tipo de dato\n",
        "type(lista_3)"
      ],
      "metadata": {
        "colab": {
          "base_uri": "https://localhost:8080/"
        },
        "id": "Jqluz5QiQMYU",
        "outputId": "5f98463f-8378-466a-ca57-78f02e404159"
      },
      "execution_count": null,
      "outputs": [
        {
          "output_type": "execute_result",
          "data": {
            "text/plain": [
              "list"
            ]
          },
          "metadata": {},
          "execution_count": 10
        }
      ]
    },
    {
      "cell_type": "code",
      "source": [
        "# Operacion  de concatenacion\n",
        "lista_4 = lista_3 + lista_2\n",
        "lista_4"
      ],
      "metadata": {
        "colab": {
          "base_uri": "https://localhost:8080/"
        },
        "id": "_ObaNPaeQN5y",
        "outputId": "dacaa129-efd4-49fc-938b-c156271b3367"
      },
      "execution_count": null,
      "outputs": [
        {
          "output_type": "execute_result",
          "data": {
            "text/plain": [
              "[12, 23, 32, 0, 0, 0, 1, True, True, 1, 0, 12.3, 'Sexto_valor', []]"
            ]
          },
          "metadata": {},
          "execution_count": 11
        }
      ]
    },
    {
      "cell_type": "code",
      "source": [
        "# tipo de dato\n",
        "type(lista_4)"
      ],
      "metadata": {
        "colab": {
          "base_uri": "https://localhost:8080/"
        },
        "id": "D54N7xmERHEt",
        "outputId": "e0a4084e-985b-4789-c73f-18e590a3b55d"
      },
      "execution_count": null,
      "outputs": [
        {
          "output_type": "execute_result",
          "data": {
            "text/plain": [
              "list"
            ]
          },
          "metadata": {},
          "execution_count": 12
        }
      ]
    },
    {
      "cell_type": "code",
      "source": [
        "# Operacion de repeticion\n",
        "lista_5 = 3 * lista_4\n",
        "lista_5"
      ],
      "metadata": {
        "colab": {
          "base_uri": "https://localhost:8080/"
        },
        "id": "nbvaUngjRMVF",
        "outputId": "73c7dbb5-460b-4e78-b91d-cd46e27de5e0"
      },
      "execution_count": null,
      "outputs": [
        {
          "output_type": "execute_result",
          "data": {
            "text/plain": [
              "[12,\n",
              " 23,\n",
              " 32,\n",
              " 0,\n",
              " 0,\n",
              " 0,\n",
              " 1,\n",
              " True,\n",
              " True,\n",
              " 1,\n",
              " 0,\n",
              " 12.3,\n",
              " 'Sexto_valor',\n",
              " [],\n",
              " 12,\n",
              " 23,\n",
              " 32,\n",
              " 0,\n",
              " 0,\n",
              " 0,\n",
              " 1,\n",
              " True,\n",
              " True,\n",
              " 1,\n",
              " 0,\n",
              " 12.3,\n",
              " 'Sexto_valor',\n",
              " [],\n",
              " 12,\n",
              " 23,\n",
              " 32,\n",
              " 0,\n",
              " 0,\n",
              " 0,\n",
              " 1,\n",
              " True,\n",
              " True,\n",
              " 1,\n",
              " 0,\n",
              " 12.3,\n",
              " 'Sexto_valor',\n",
              " []]"
            ]
          },
          "metadata": {},
          "execution_count": 13
        }
      ]
    },
    {
      "cell_type": "code",
      "source": [
        "# Combinemos las operaciones de concatenacion y repeticion\n",
        "lista_6 = 3 * lista_5 + 5 * lista_2\n",
        "lista_6"
      ],
      "metadata": {
        "colab": {
          "base_uri": "https://localhost:8080/"
        },
        "id": "Mj_vN3RiRue2",
        "outputId": "a8438bf0-67b6-4f71-b59d-095df1ff62f2"
      },
      "execution_count": null,
      "outputs": [
        {
          "output_type": "execute_result",
          "data": {
            "text/plain": [
              "[12,\n",
              " 23,\n",
              " 32,\n",
              " 0,\n",
              " 0,\n",
              " 0,\n",
              " 1,\n",
              " True,\n",
              " True,\n",
              " 1,\n",
              " 0,\n",
              " 12.3,\n",
              " 'Sexto_valor',\n",
              " [],\n",
              " 12,\n",
              " 23,\n",
              " 32,\n",
              " 0,\n",
              " 0,\n",
              " 0,\n",
              " 1,\n",
              " True,\n",
              " True,\n",
              " 1,\n",
              " 0,\n",
              " 12.3,\n",
              " 'Sexto_valor',\n",
              " [],\n",
              " 12,\n",
              " 23,\n",
              " 32,\n",
              " 0,\n",
              " 0,\n",
              " 0,\n",
              " 1,\n",
              " True,\n",
              " True,\n",
              " 1,\n",
              " 0,\n",
              " 12.3,\n",
              " 'Sexto_valor',\n",
              " [],\n",
              " 12,\n",
              " 23,\n",
              " 32,\n",
              " 0,\n",
              " 0,\n",
              " 0,\n",
              " 1,\n",
              " True,\n",
              " True,\n",
              " 1,\n",
              " 0,\n",
              " 12.3,\n",
              " 'Sexto_valor',\n",
              " [],\n",
              " 12,\n",
              " 23,\n",
              " 32,\n",
              " 0,\n",
              " 0,\n",
              " 0,\n",
              " 1,\n",
              " True,\n",
              " True,\n",
              " 1,\n",
              " 0,\n",
              " 12.3,\n",
              " 'Sexto_valor',\n",
              " [],\n",
              " 12,\n",
              " 23,\n",
              " 32,\n",
              " 0,\n",
              " 0,\n",
              " 0,\n",
              " 1,\n",
              " True,\n",
              " True,\n",
              " 1,\n",
              " 0,\n",
              " 12.3,\n",
              " 'Sexto_valor',\n",
              " [],\n",
              " 12,\n",
              " 23,\n",
              " 32,\n",
              " 0,\n",
              " 0,\n",
              " 0,\n",
              " 1,\n",
              " True,\n",
              " True,\n",
              " 1,\n",
              " 0,\n",
              " 12.3,\n",
              " 'Sexto_valor',\n",
              " [],\n",
              " 12,\n",
              " 23,\n",
              " 32,\n",
              " 0,\n",
              " 0,\n",
              " 0,\n",
              " 1,\n",
              " True,\n",
              " True,\n",
              " 1,\n",
              " 0,\n",
              " 12.3,\n",
              " 'Sexto_valor',\n",
              " [],\n",
              " 12,\n",
              " 23,\n",
              " 32,\n",
              " 0,\n",
              " 0,\n",
              " 0,\n",
              " 1,\n",
              " True,\n",
              " True,\n",
              " 1,\n",
              " 0,\n",
              " 12.3,\n",
              " 'Sexto_valor',\n",
              " [],\n",
              " True,\n",
              " True,\n",
              " 1,\n",
              " 0,\n",
              " 12.3,\n",
              " 'Sexto_valor',\n",
              " [],\n",
              " True,\n",
              " True,\n",
              " 1,\n",
              " 0,\n",
              " 12.3,\n",
              " 'Sexto_valor',\n",
              " [],\n",
              " True,\n",
              " True,\n",
              " 1,\n",
              " 0,\n",
              " 12.3,\n",
              " 'Sexto_valor',\n",
              " [],\n",
              " True,\n",
              " True,\n",
              " 1,\n",
              " 0,\n",
              " 12.3,\n",
              " 'Sexto_valor',\n",
              " [],\n",
              " True,\n",
              " True,\n",
              " 1,\n",
              " 0,\n",
              " 12.3,\n",
              " 'Sexto_valor',\n",
              " []]"
            ]
          },
          "metadata": {},
          "execution_count": 14
        }
      ]
    },
    {
      "cell_type": "code",
      "source": [
        "# Funcion len\n",
        "len(lista_6)"
      ],
      "metadata": {
        "colab": {
          "base_uri": "https://localhost:8080/"
        },
        "id": "58iIbDlBSGBg",
        "outputId": "b3d3a373-8feb-44fb-c5ab-3e216e9f9545"
      },
      "execution_count": null,
      "outputs": [
        {
          "output_type": "execute_result",
          "data": {
            "text/plain": [
              "161"
            ]
          },
          "metadata": {},
          "execution_count": 15
        }
      ]
    },
    {
      "cell_type": "code",
      "source": [
        "# Funcion min\n",
        "min(lista_3)"
      ],
      "metadata": {
        "colab": {
          "base_uri": "https://localhost:8080/"
        },
        "id": "lmArflqWSJuw",
        "outputId": "808bc4dd-97ff-4374-9ffa-0a266fa33a10"
      },
      "execution_count": null,
      "outputs": [
        {
          "output_type": "execute_result",
          "data": {
            "text/plain": [
              "0"
            ]
          },
          "metadata": {},
          "execution_count": 20
        }
      ]
    },
    {
      "cell_type": "code",
      "source": [
        "# Funcion max\n",
        "max(lista_3)"
      ],
      "metadata": {
        "colab": {
          "base_uri": "https://localhost:8080/"
        },
        "id": "-L69ibfxSTHg",
        "outputId": "e29243fc-4885-4fa0-a590-3217fa18a0d6"
      },
      "execution_count": null,
      "outputs": [
        {
          "output_type": "execute_result",
          "data": {
            "text/plain": [
              "32"
            ]
          },
          "metadata": {},
          "execution_count": 19
        }
      ]
    },
    {
      "cell_type": "code",
      "source": [
        "# Funcion sum\n",
        "sum(lista_3)"
      ],
      "metadata": {
        "colab": {
          "base_uri": "https://localhost:8080/"
        },
        "id": "dnvX0YvvSWQe",
        "outputId": "e2b805bf-46ee-42c6-c290-e0284f854324"
      },
      "execution_count": null,
      "outputs": [
        {
          "output_type": "execute_result",
          "data": {
            "text/plain": [
              "68"
            ]
          },
          "metadata": {},
          "execution_count": 21
        }
      ]
    },
    {
      "cell_type": "code",
      "source": [
        "min(lista_2)\n",
        "import datetime\n",
        "print(datetime.datetime.now())"
      ],
      "metadata": {
        "colab": {
          "base_uri": "https://localhost:8080/",
          "height": 201
        },
        "id": "7kVuP-TTSspa",
        "outputId": "c39e179e-2761-4fe0-8cf0-fb8047733c91"
      },
      "execution_count": null,
      "outputs": [
        {
          "output_type": "error",
          "ename": "TypeError",
          "evalue": "'<' not supported between instances of 'str' and 'int'",
          "traceback": [
            "\u001b[0;31m---------------------------------------------------------------------------\u001b[0m",
            "\u001b[0;31mTypeError\u001b[0m                                 Traceback (most recent call last)",
            "\u001b[0;32m<ipython-input-25-9f76c92a6944>\u001b[0m in \u001b[0;36m<cell line: 0>\u001b[0;34m()\u001b[0m\n\u001b[0;32m----> 1\u001b[0;31m \u001b[0mmin\u001b[0m\u001b[0;34m(\u001b[0m\u001b[0mlista_2\u001b[0m\u001b[0;34m)\u001b[0m\u001b[0;34m\u001b[0m\u001b[0;34m\u001b[0m\u001b[0m\n\u001b[0m\u001b[1;32m      2\u001b[0m \u001b[0;32mimport\u001b[0m \u001b[0mdatetime\u001b[0m\u001b[0;34m\u001b[0m\u001b[0;34m\u001b[0m\u001b[0m\n\u001b[1;32m      3\u001b[0m \u001b[0mprint\u001b[0m\u001b[0;34m(\u001b[0m\u001b[0mdatetime\u001b[0m\u001b[0;34m.\u001b[0m\u001b[0mdatetime\u001b[0m\u001b[0;34m.\u001b[0m\u001b[0mnow\u001b[0m\u001b[0;34m(\u001b[0m\u001b[0;34m)\u001b[0m\u001b[0;34m)\u001b[0m\u001b[0;34m\u001b[0m\u001b[0;34m\u001b[0m\u001b[0m\n\u001b[1;32m      4\u001b[0m \u001b[0mprint\u001b[0m\u001b[0;34m(\u001b[0m\u001b[0;34m)\u001b[0m\u001b[0;34m\u001b[0m\u001b[0;34m\u001b[0m\u001b[0m\n",
            "\u001b[0;31mTypeError\u001b[0m: '<' not supported between instances of 'str' and 'int'"
          ]
        }
      ]
    },
    {
      "cell_type": "code",
      "source": [
        "# Typo de dato de cada elemento de lista 2\n",
        "for elemento in lista_2:\n",
        "  print(type(elemento))"
      ],
      "metadata": {
        "colab": {
          "base_uri": "https://localhost:8080/"
        },
        "id": "P_XecrHOUylx",
        "outputId": "ce6f986b-014f-4ed4-ebac-6df87df0e8eb"
      },
      "execution_count": null,
      "outputs": [
        {
          "output_type": "stream",
          "name": "stdout",
          "text": [
            "<class 'bool'>\n",
            "<class 'bool'>\n",
            "<class 'int'>\n",
            "<class 'int'>\n",
            "<class 'float'>\n",
            "<class 'str'>\n",
            "<class 'list'>\n"
          ]
        }
      ]
    },
    {
      "cell_type": "code",
      "source": [
        "# Acceso a la primera componente de lista_3\n",
        "lista_3[0]"
      ],
      "metadata": {
        "colab": {
          "base_uri": "https://localhost:8080/"
        },
        "id": "xXXI31zbU8xg",
        "outputId": "f116d769-413e-44da-8c27-04499c6c9c3b"
      },
      "execution_count": null,
      "outputs": [
        {
          "output_type": "execute_result",
          "data": {
            "text/plain": [
              "12"
            ]
          },
          "metadata": {},
          "execution_count": 30
        }
      ]
    },
    {
      "cell_type": "code",
      "source": [
        "# Acceso a la ultima componente de la lista_5\n",
        "lista_5[-1]"
      ],
      "metadata": {
        "colab": {
          "base_uri": "https://localhost:8080/"
        },
        "id": "AQKtlUv9VaY_",
        "outputId": "a04b729c-cca8-4a58-b3d0-faf33d42a47d"
      },
      "execution_count": null,
      "outputs": [
        {
          "output_type": "execute_result",
          "data": {
            "text/plain": [
              "[]"
            ]
          },
          "metadata": {},
          "execution_count": 31
        }
      ]
    },
    {
      "cell_type": "code",
      "source": [
        "# Acceso a los primeros 5 elemento de lista_6\n",
        "lista_6[:5]"
      ],
      "metadata": {
        "colab": {
          "base_uri": "https://localhost:8080/"
        },
        "id": "eIykzGJuVhMu",
        "outputId": "62637e65-d2bf-4e18-b059-987625d1400e"
      },
      "execution_count": null,
      "outputs": [
        {
          "output_type": "execute_result",
          "data": {
            "text/plain": [
              "[12, 23, 32, 0, 0]"
            ]
          },
          "metadata": {},
          "execution_count": 34
        }
      ]
    },
    {
      "cell_type": "code",
      "source": [
        "# Acceso a los ultimos 7 elementos de lista_6\n",
        "lista_6[-7:]"
      ],
      "metadata": {
        "colab": {
          "base_uri": "https://localhost:8080/"
        },
        "id": "7cgd6r0NVsrj",
        "outputId": "3031e199-ba3a-4db1-bad2-f1c5b7ca7a27"
      },
      "execution_count": null,
      "outputs": [
        {
          "output_type": "execute_result",
          "data": {
            "text/plain": [
              "[True, True, 1, 0, 12.3, 'Sexto_valor', []]"
            ]
          },
          "metadata": {},
          "execution_count": 36
        }
      ]
    }
  ]
}