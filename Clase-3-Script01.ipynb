{
  "nbformat": 4,
  "nbformat_minor": 0,
  "metadata": {
    "colab": {
      "provenance": [],
      "authorship_tag": "ABX9TyPY6tvnr58oEfLW1qlaoblA",
      "include_colab_link": true
    },
    "kernelspec": {
      "name": "python3",
      "display_name": "Python 3"
    },
    "language_info": {
      "name": "python"
    }
  },
  "cells": [
    {
      "cell_type": "markdown",
      "metadata": {
        "id": "view-in-github",
        "colab_type": "text"
      },
      "source": [
        "<a href=\"https://colab.research.google.com/github/henryberroa4040/python-basico/blob/main/Clase-3-Script01.ipynb\" target=\"_parent\"><img src=\"https://colab.research.google.com/assets/colab-badge.svg\" alt=\"Open In Colab\"/></a>"
      ]
    },
    {
      "cell_type": "code",
      "execution_count": null,
      "metadata": {
        "id": "1L2dAbMjDDKi"
      },
      "outputs": [],
      "source": [
        "cad1=\"Clase3\"\n",
        "cad2='Python'"
      ]
    },
    {
      "cell_type": "code",
      "source": [
        "cad1"
      ],
      "metadata": {
        "colab": {
          "base_uri": "https://localhost:8080/",
          "height": 36
        },
        "id": "LLeYzyv5D7UI",
        "outputId": "bbfc1746-59be-4aad-aa57-e986572915d8"
      },
      "execution_count": null,
      "outputs": [
        {
          "output_type": "execute_result",
          "data": {
            "text/plain": [
              "'Clase3'"
            ],
            "application/vnd.google.colaboratory.intrinsic+json": {
              "type": "string"
            }
          },
          "metadata": {},
          "execution_count": 2
        }
      ]
    },
    {
      "cell_type": "code",
      "source": [
        "cad2"
      ],
      "metadata": {
        "colab": {
          "base_uri": "https://localhost:8080/",
          "height": 36
        },
        "id": "xyx3l-ZXD8dc",
        "outputId": "97b83a07-cd1c-4513-d8ce-0d7b6ab1c760"
      },
      "execution_count": null,
      "outputs": [
        {
          "output_type": "execute_result",
          "data": {
            "text/plain": [
              "'Python'"
            ],
            "application/vnd.google.colaboratory.intrinsic+json": {
              "type": "string"
            }
          },
          "metadata": {},
          "execution_count": 3
        }
      ]
    },
    {
      "cell_type": "code",
      "source": [
        "# Tipo de dato\n",
        "type(cad1)"
      ],
      "metadata": {
        "colab": {
          "base_uri": "https://localhost:8080/"
        },
        "id": "VfZk0dr5D-7u",
        "outputId": "a3dd1430-249a-42b7-a6e4-2611062f265e"
      },
      "execution_count": null,
      "outputs": [
        {
          "output_type": "execute_result",
          "data": {
            "text/plain": [
              "str"
            ]
          },
          "metadata": {},
          "execution_count": 4
        }
      ]
    },
    {
      "cell_type": "code",
      "source": [
        "#Python es un lenguaje de programación de tipado dinámico\n",
        "x = 12\n",
        "\n",
        "#Tipo de dato\n",
        "print(type(x))\n",
        "\n",
        "x = False\n",
        "\n",
        "#Tipo de dato\n",
        "print(type(x))\n",
        "\n",
        "x = 12.3**(3)\n",
        "\n",
        "#Tipo de dato\n",
        "print(type(x))\n",
        "\n",
        "x = \"True\"\n",
        "\n",
        "#Tipo de dato\n",
        "print(type(x))\n",
        "\n",
        "x = 0\n",
        "\n",
        "#Tipo de dato\n",
        "print(type(x))"
      ],
      "metadata": {
        "colab": {
          "base_uri": "https://localhost:8080/"
        },
        "id": "tOvtcrVUEGTq",
        "outputId": "081b4eb5-5011-436e-cb09-367b251ff2bf"
      },
      "execution_count": null,
      "outputs": [
        {
          "output_type": "stream",
          "name": "stdout",
          "text": [
            "<class 'int'>\n",
            "<class 'bool'>\n",
            "<class 'float'>\n",
            "<class 'str'>\n",
            "<class 'int'>\n"
          ]
        }
      ]
    },
    {
      "cell_type": "code",
      "source": [
        "#Tipo de dato\n",
        "type(x)"
      ],
      "metadata": {
        "colab": {
          "base_uri": "https://localhost:8080/"
        },
        "id": "6f-YQIJ3EcCl",
        "outputId": "cdf30b42-c24e-4449-ec7b-6465fe0e2932"
      },
      "execution_count": null,
      "outputs": [
        {
          "output_type": "execute_result",
          "data": {
            "text/plain": [
              "int"
            ]
          },
          "metadata": {},
          "execution_count": 6
        }
      ]
    },
    {
      "cell_type": "code",
      "source": [
        "# Variables de tipo cadena de caracter (str)\n",
        "  # Se definen utilizando dobles comillas o comilla simple\n",
        "  # Posee un par de operaciones basicas\n",
        "    # + : Operacion de concetenacion\n",
        "    # * : Operacion de repeticion\n",
        "  # Un str en Python es un objeto iterable : Podermos acceder a sus elementos por medio de sus indices"
      ],
      "metadata": {
        "id": "aIBMoyz6EmqW"
      },
      "execution_count": null,
      "outputs": []
    },
    {
      "cell_type": "code",
      "source": [
        "# Numero de elementos de una variables str\n",
        "# Funcion len\n",
        "len(cad1)"
      ],
      "metadata": {
        "colab": {
          "base_uri": "https://localhost:8080/"
        },
        "id": "jiDvisR0GdwG",
        "outputId": "13757012-7e0e-4a4e-e233-69c61cc17af6"
      },
      "execution_count": null,
      "outputs": [
        {
          "output_type": "execute_result",
          "data": {
            "text/plain": [
              "6"
            ]
          },
          "metadata": {},
          "execution_count": 8
        }
      ]
    },
    {
      "cell_type": "code",
      "source": [
        "len(300*cad1 + 1500*cad2)"
      ],
      "metadata": {
        "colab": {
          "base_uri": "https://localhost:8080/"
        },
        "id": "0RD0d53BGmFJ",
        "outputId": "7680ab58-39b3-40e1-d7bd-6d1135be49e5"
      },
      "execution_count": null,
      "outputs": [
        {
          "output_type": "execute_result",
          "data": {
            "text/plain": [
              "10800"
            ]
          },
          "metadata": {},
          "execution_count": 9
        }
      ]
    },
    {
      "cell_type": "code",
      "source": [
        "300*cad1 + 1500*cad2"
      ],
      "metadata": {
        "colab": {
          "base_uri": "https://localhost:8080/",
          "height": 182
        },
        "id": "crzqX2tpGsK5",
        "outputId": "42ec971b-f583-4566-f79f-773d60f1081d"
      },
      "execution_count": null,
      "outputs": [
        {
          "output_type": "execute_result",
          "data": {
            "text/plain": [
              "'Clase3Clase3Clase3Clase3Clase3Clase3Clase3Clase3Clase3Clase3Clase3Clase3Clase3Clase3Clase3Clase3Clase3Clase3Clase3Clase3Clase3Clase3Clase3Clase3Clase3Clase3Clase3Clase3Clase3Clase3Clase3Clase3Clase3Clase3Clase3Clase3Clase3Clase3Clase3Clase3Clase3Clase3Clase3Clase3Clase3Clase3Clase3Clase3Clase3Clase3Clase3Clase3Clase3Clase3Clase3Clase3Clase3Clase3Clase3Clase3Clase3Clase3Clase3Clase3Clase3Clase3Clase3Clase3Clase3Clase3Clase3Clase3Clase3Clase3Clase3Clase3Clase3Clase3Clase3Clase3Clase3Clase3Clase3Clase3Clase3Clase3Clase3Clase3Clase3Clase3Clase3Clase3Clase3Clase3Clase3Clase3Clase3Clase3Clase3Clase3Clase3Clase3Clase3Clase3Clase3Clase3Clase3Clase3Clase3Clase3Clase3Clase3Clase3Clase3Clase3Clase3Clase3Clase3Clase3Clase3Clase3Clase3Clase3Clase3Clase3Clase3Clase3Clase3Clase3Clase3Clase3Clase3Clase3Clase3Clase3Clase3Clase3Clase3Clase3Clase3Clase3Clase3Clase3Clase3Clase3Clase3Clase3Clase3Clase3Clase3Clase3Clase3Clase3Clase3Clase3Clase3Clase3Clase3Clase3Clase3Clase3Clase3Clase3Clase3Clase3Clase3Clase3Clase3Clase3Clase3Clase3Clase3Clase3Clase3Clase3Clase3Clase3Clase3Clase3Clase3Clase3Clase3Clase3Clase3Clase3Clase3Clase3Clase3Clase3Clase3Clase3Clase3Clase3Clase3Clase3Clase3Clase3Clase3Clase3Clase3Clase3Clase3Clase3Clase3Clase3Clase3Clase3Clase3Clase3Clase3Clase3Clase3Clase3Clase3Clase3Clase3Clase3Clase3Clase3Clase3Clase3Clase3Clase3Clase3Clase3Clase3Clase3Clase3Clase3Clase3Clase3Clase3Clase3Clase3Clase3Clase3Clase3Clase3Clase3Clase3Clase3Clase3Clase3Clase3Clase3Clase3Clase3Clase3Clase3Clase3Clase3Clase3Clase3Clase3Clase3Clase3Clase3Clase3Clase3Clase3Clase3Clase3Clase3Clase3Clase3Clase3Clase3Clase3Clase3Clase3Clase3Clase3Clase3Clase3Clase3Clase3Clase3Clase3Clase3Clase3Clase3Clase3Clase3Clase3Clase3Clase3Clase3Clase3Clase3Clase3Clase3Clase3Clase3Clase3Clase3Clase3Clase3Clase3Clase3Clase3PythonPythonPythonPythonPythonPythonPythonPythonPythonPythonPythonPythonPythonPythonPythonPythonPythonPythonPythonPythonPythonPythonPythonPythonPythonPythonPythonPythonPythonPythonPythonPythonPythonPythonPythonPythonPythonPythonPythonPythonPythonPythonPythonPythonPythonPythonPythonPythonPythonPythonPythonPythonPythonPythonPythonPythonPythonPythonPythonPythonPythonPythonPythonPythonPythonPythonPythonPythonPythonPythonPythonPythonPythonPythonPythonPythonPythonPythonPythonPythonPythonPythonPythonPythonPythonPythonPythonPythonPythonPythonPythonPythonPythonPythonPythonPythonPythonPythonPythonPythonPythonPythonPythonPythonPythonPythonPythonPythonPythonPythonPythonPythonPythonPythonPythonPythonPythonPythonPythonPythonPythonPythonPythonPythonPythonPythonPythonPythonPythonPythonPythonPythonPythonPythonPythonPythonPythonPythonPythonPythonPythonPythonPythonPythonPythonPythonPythonPythonPythonPythonPythonPythonPythonPythonPythonPythonPythonPythonPythonPythonPythonPythonPythonPythonPythonPythonPythonPythonPythonPythonPythonPythonPythonPythonPythonPythonPythonPythonPythonPythonPythonPythonPythonPythonPythonPythonPythonPythonPythonPythonPythonPythonPythonPythonPythonPythonPythonPythonPythonPythonPythonPythonPythonPythonPythonPythonPythonPythonPythonPythonPythonPythonPythonPythonPythonPythonPythonPythonPythonPythonPythonPythonPythonPythonPythonPythonPythonPythonPythonPythonPythonPythonPythonPythonPythonPythonPythonPythonPythonPythonPythonPythonPythonPythonPythonPythonPythonPythonPythonPythonPythonPythonPythonPythonPythonPythonPythonPythonPythonPythonPythonPythonPythonPythonPythonPythonPythonPythonPythonPythonPythonPythonPythonPythonPythonPythonPythonPythonPythonPythonPythonPythonPythonPythonPythonPythonPythonPythonPythonPythonPythonPythonPythonPythonPythonPythonPythonPythonPythonPythonPythonPythonPythonPythonPythonPythonPythonPythonPythonPythonPythonPythonPythonPythonPythonPythonPythonPythonPythonPythonPythonPythonPythonPythonPythonPythonPythonPythonPythonPythonPythonPythonPythonPythonPythonPythonPythonPythonPythonPythonPythonPythonPythonPythonPythonPythonPythonPythonPythonPythonPythonPythonPythonPythonPythonPythonPythonPythonPythonPythonPythonPythonPythonPythonPythonPythonPythonPythonPythonPythonPythonPythonPythonPythonPythonPythonPythonPythonPythonPythonPythonPythonPythonPythonPythonPythonPythonPythonPythonPythonPythonPythonPythonPythonPythonPythonPythonPythonPythonPythonPythonPythonPythonPythonPythonPythonPythonPythonPythonPythonPythonPythonPythonPythonPythonPythonPythonPythonPythonPythonPythonPythonPythonPythonPythonPythonPythonPythonPythonPythonPythonPythonPythonPythonPythonPythonPythonPythonPythonPythonPythonPythonPythonPythonPythonPythonPythonPythonPythonPythonPythonPythonPythonPythonPythonPythonPythonPythonPythonPythonPythonPythonPythonPythonPythonPythonPythonPythonPythonPythonPythonPythonPythonPythonPythonPythonPythonPythonPythonPythonPythonPythonPythonPythonPythonPythonPythonPythonPythonPythonPythonPythonPythonPythonPythonPythonPythonPythonPythonPythonPythonPythonPythonPythonPythonPythonPythonPythonPythonPythonPythonPythonPythonPythonPythonPythonPythonPythonPythonPythonPythonPythonPythonPythonPythonPythonPythonPythonPythonPythonPythonPythonPythonPythonPythonPythonPythonPythonPythonPythonPythonPythonPythonPythonPythonPythonPythonPythonPythonPythonPythonPythonPythonPythonPythonPythonPythonPythonPythonPythonPythonPythonPythonPythonPythonPythonPythonPythonPythonPythonPythonPythonPythonPythonPythonPythonPythonPythonPythonPythonPythonPythonPythonPythonPythonPythonPythonPythonPythonPythonPythonPythonPythonPythonPythonPythonPythonPythonPythonPythonPythonPythonPythonPythonPythonPythonPythonPythonPythonPythonPythonPythonPythonPythonPythonPythonPythonPythonPythonPythonPythonPythonPythonPythonPythonPythonPythonPythonPythonPythonPythonPythonPythonPythonPythonPythonPythonPythonPythonPythonPythonPythonPythonPythonPythonPythonPythonPythonPythonPythonPythonPythonPythonPythonPythonPythonPythonPythonPythonPythonPythonPythonPythonPythonPythonPythonPythonPythonPythonPythonPythonPythonPythonPythonPythonPythonPythonPythonPythonPythonPythonPythonPythonPythonPythonPythonPythonPythonPythonPythonPythonPythonPythonPythonPythonPythonPythonPythonPythonPythonPythonPythonPythonPythonPythonPythonPythonPythonPythonPythonPythonPythonPythonPythonPythonPythonPythonPythonPythonPythonPythonPythonPythonPythonPythonPythonPythonPythonPythonPythonPythonPythonPythonPythonPythonPythonPythonPythonPythonPythonPythonPythonPythonPythonPythonPythonPythonPythonPythonPythonPythonPythonPythonPythonPythonPythonPythonPythonPythonPythonPythonPythonPythonPythonPythonPythonPythonPythonPythonPythonPythonPythonPythonPythonPythonPythonPythonPythonPythonPythonPythonPythonPythonPythonPythonPythonPythonPythonPythonPythonPythonPythonPythonPythonPythonPythonPythonPythonPythonPythonPythonPythonPythonPythonPythonPythonPythonPythonPythonPythonPythonPythonPythonPythonPythonPythonPythonPythonPythonPythonPythonPythonPythonPythonPythonPythonPythonPythonPythonPythonPythonPythonPythonPythonPythonPythonPythonPythonPythonPythonPythonPythonPythonPythonPythonPythonPythonPythonPythonPythonPythonPythonPythonPythonPythonPythonPythonPythonPythonPythonPythonPythonPythonPythonPythonPythonPythonPythonPythonPythonPythonPythonPythonPythonPythonPythonPythonPythonPythonPythonPythonPythonPythonPythonPythonPythonPythonPythonPythonPythonPythonPythonPythonPythonPythonPythonPythonPythonPythonPythonPythonPythonPythonPythonPythonPythonPythonPythonPythonPythonPythonPythonPythonPythonPythonPythonPythonPythonPythonPythonPythonPythonPythonPythonPythonPythonPythonPythonPythonPythonPythonPythonPythonPythonPythonPythonPythonPythonPythonPythonPythonPythonPythonPythonPythonPythonPythonPythonPythonPythonPythonPythonPythonPythonPythonPythonPythonPythonPythonPythonPythonPythonPythonPythonPythonPythonPythonPythonPythonPythonPythonPythonPythonPythonPythonPythonPythonPythonPythonPythonPythonPythonPythonPythonPythonPythonPythonPythonPythonPythonPythonPythonPythonPythonPythonPythonPythonPythonPythonPythonPythonPythonPythonPythonPythonPythonPythonPythonPythonPythonPythonPythonPythonPythonPythonPythonPythonPythonPythonPythonPythonPythonPythonPythonPythonPythonPythonPythonPythonPythonPythonPythonPythonPythonPythonPythonPythonPythonPythonPythonPythonPythonPythonPythonPythonPythonPythonPythonPythonPythonPythonPythonPythonPythonPythonPythonPythonPythonPythonPythonPythonPythonPythonPythonPythonPythonPythonPythonPythonPythonPythonPythonPythonPythonPythonPythonPythonPythonPythonPythonPythonPythonPythonPythonPythonPythonPythonPythonPythonPythonPythonPythonPythonPythonPythonPythonPythonPythonPythonPythonPythonPythonPythonPythonPythonPythonPythonPythonPythonPythonPythonPythonPythonPythonPythonPythonPythonPythonPythonPythonPythonPythonPythonPythonPythonPythonPythonPythonPythonPythonPythonPythonPythonPythonPythonPythonPythonPythonPythonPythonPythonPythonPythonPythonPythonPythonPythonPythonPythonPythonPythonPythonPythonPythonPythonPythonPythonPythonPythonPythonPythonPythonPythonPythonPythonPythonPythonPythonPythonPythonPythonPythonPythonPythonPythonPythonPythonPythonPythonPythonPythonPythonPythonPythonPythonPythonPythonPythonPythonPythonPythonPythonPythonPythonPythonPythonPythonPythonPythonPythonPythonPythonPythonPythonPythonPythonPythonPythonPythonPythonPythonPythonPythonPythonPythonPythonPythonPythonPythonPythonPythonPythonPythonPythonPythonPythonPythonPythonPythonPythonPythonPythonPythonPythonPythonPythonPythonPythonPythonPythonPythonPythonPythonPythonPythonPythonPythonPythonPythonPythonPythonPythonPythonPythonPythonPythonPythonPythonPythonPythonPythonPythonPythonPythonPythonPythonPythonPythonPythonPythonPythonPythonPythonPythonPythonPythonPythonPythonPythonPythonPythonPythonPythonPythonPythonPythonPythonPythonPythonPythonPythonPythonPythonPythonPythonPythonPythonPythonPythonPythonPythonPythonPythonPythonPythonPythonPythonPythonPythonPythonPythonPythonPythonPythonPythonPythonPythonPythonPythonPythonPythonPythonPythonPythonPythonPythonPythonPythonPythonPythonPythonPythonPythonPythonPythonPythonPythonPythonPythonPythonPythonPythonPythonPythonPythonPythonPythonPythonPythonPythonPythonPythonPythonPythonPythonPythonPythonPythonPythonPythonPythonPythonPythonPythonPythonPythonPythonPythonPythonPythonPythonPythonPythonPythonPythonPythonPythonPythonPythonPythonPythonPythonPythonPythonPythonPythonPythonPythonPythonPythonPythonPythonPythonPythonPythonPythonPythonPythonPythonPythonPythonPythonPythonPythonPythonPythonPythonPythonPythonPythonPythonPythonPythonPythonPythonPythonPythonPythonPythonPythonPythonPythonPythonPythonPythonPythonPythonPythonPythonPythonPythonPythonPythonPythonPythonPythonPythonPythonPythonPythonPythonPythonPythonPythonPythonPythonPythonPythonPythonPythonPythonPythonPythonPythonPythonPythonPythonPythonPythonPythonPythonPythonPythonPythonPythonPythonPythonPythonPythonPythonPythonPythonPythonPythonPythonPythonPythonPythonPythonPythonPythonPythonPythonPythonPythonPythonPythonPythonPythonPythonPythonPythonPythonPythonPythonPythonPythonPythonPythonPython'"
            ],
            "application/vnd.google.colaboratory.intrinsic+json": {
              "type": "string"
            }
          },
          "metadata": {},
          "execution_count": 10
        }
      ]
    },
    {
      "cell_type": "code",
      "source": [
        "gallinazos= \"\"\"A las seis de la mañana la ciudad se levanta de puntillas y comienza a dar sus\n",
        "primeros pasos. Una fina niebla disuelve el perfil de los objetos y crea como una atmósfera\n",
        "encantada. Las personas que recorren la ciudad a esta hora parece que están hechas de\n",
        "otra sustancia, que pertenecen a un orden de vida fantasmal. Las beatas se arrastran\n",
        "penosamente hasta desaparecer en los pórticos de las iglesias. Los noctámbulos,\n",
        "macerados por la noche, regresan a sus casas envueltos en sus bufandas y en su\n",
        "melancolía. Los basureros inician por la avenida Pardo su paseo siniestro, armados de\n",
        "escobas y de carretas. A esta hora se ve también obreros caminando hacia el tranvía,\n",
        "policías bostezando contra los árboles, canillitas morados de frío, sirvientas sacando\n",
        "los cubos de basura. A esta hora, por último, como a una especie de misteriosa\n",
        "consigna, aparecen los gallinazos sin plumas.\n",
        "A esta hora el viejo don Santos se pone la pierna de palo y sentándose en el colchón\n",
        "comienza a berrear:\n",
        "– ¡A levantarse! ¡Efraín, Enrique! ¡Ya es hora!\n",
        "Los dos muchachos corren a la acequia del corralón frotándose los ojos legañosos.\n",
        "Con la tranquilidad de la noche el agua se ha remansado y en su fondo transparente se ven\n",
        "crecer yerbas y deslizarse ágiles infusorios. Luego de enjuagarse la cara, coge cada cual su\n",
        "lata y se lanzan a la calle. Don Santos, mientras tanto, se aproxima al chiquero y con su\n",
        "larga vara golpea el lomo de su cerdo que se revuelca entre los desperdicios.\n",
        "¡Todavía te falta un poco, marrano! Pero aguarda no más, que ya llegará tu turno.\n",
        "Efraín y Enrique se demoran en el camino, trepándose a los árboles para arrancar\n",
        "moras o recogiendo piedras, de aquellas filudas que cortan el aire y hieren por la espalda.\n",
        "Siendo aún la hora celeste llegan a su dominio, una larga calle ornada de casas elegantes\n",
        "que desemboca en el malecón.\n",
        "Ellos no son los únicos. En otros corralones, en otros suburbios alguien ha dado la voz\n",
        "de alarma y muchos se han levantado. Unos portan latas, otros cajas de cartón, a veces sólo\n",
        "basta un periódico viejo. Sin conocerse forman una especie de organización clandestina que\n",
        "tiene repartida toda la ciudad. Los hay que merodean por los edificios públicos, otros han\n",
        "elegido los parques o los muladares. Hasta los perros han adquirido sus hábitos, sus\n",
        "itinerarios, sabiamente aleccionados por la miseria.\n",
        "Efraín y Enrique, después de un breve descanso, empiezan su trabajo. Cada uno\n",
        "escoge una acera de la calle. Los cubos de basura están alineados delante de las puertas.\n",
        "Hay que vaciarlos íntegramente y luego comenzar la exploración. Un cubo de basura es\n",
        "siempre una caja de sorpresas. Se encuentran latas de sardinas, zapatos viejos, pedazos de\n",
        "pan, pericotes muertos, algodones inmundos. A ellos sólo les interesa los restos de comida.\n",
        "En el fondo del chiquero, Pascual recibe cualquier cosa y tiene predilección por las verduras\n",
        "ligeramente descompuestas. La pequeña lata de cada uno se va llenando de tomates\n",
        "podridos, pedazos de sebo, extrañas salsas que no figuran en ningún manual de cocina. No\n",
        "es raro, sin embargo, hacer un hallazgo valioso. Un día Efraín encontró unos tirantes con los\n",
        "que fabricó una honda. Otra vez una pera casi buena que devoró en el acto. Enrique, en\n",
        "cambio, tiene suerte para las cajitas de remedios, los pomos brillantes, las escobillas de\n",
        "dientes usadas y otras cosas semejantes que colecciona con avidez.\n",
        "Después de una rigurosa selección regresan la basura al cubo y se lanzan sobre el\n",
        "próximo. No conviene demorarse mucho porque el enemigo siempre está al acecho. A\"\"\""
      ],
      "metadata": {
        "id": "uuC5MCdMG2wG"
      },
      "execution_count": null,
      "outputs": []
    },
    {
      "cell_type": "code",
      "source": [
        "# Tipo de dato\n",
        "type(gallinazos)"
      ],
      "metadata": {
        "colab": {
          "base_uri": "https://localhost:8080/"
        },
        "id": "-TVWuf7pH5pK",
        "outputId": "1a22fb48-10b0-46ae-8ff9-d223ad6a0af4"
      },
      "execution_count": null,
      "outputs": [
        {
          "output_type": "execute_result",
          "data": {
            "text/plain": [
              "str"
            ]
          },
          "metadata": {},
          "execution_count": 12
        }
      ]
    },
    {
      "cell_type": "code",
      "source": [
        "# Numero de elementos\n",
        "len(gallinazos)"
      ],
      "metadata": {
        "colab": {
          "base_uri": "https://localhost:8080/"
        },
        "id": "SL6R3_IxIBdD",
        "outputId": "6a7d232d-0051-476e-bd27-62947ce604b6"
      },
      "execution_count": null,
      "outputs": [
        {
          "output_type": "execute_result",
          "data": {
            "text/plain": [
              "3545"
            ]
          },
          "metadata": {},
          "execution_count": 13
        }
      ]
    },
    {
      "cell_type": "code",
      "source": [
        "# Acceso a los primeros 10 caracteres\n",
        "gallinazos[0:9+1]"
      ],
      "metadata": {
        "colab": {
          "base_uri": "https://localhost:8080/",
          "height": 36
        },
        "id": "TVssbE77IVhB",
        "outputId": "cc7c2c57-82f0-4ba8-a83c-2d89368408d9"
      },
      "execution_count": null,
      "outputs": [
        {
          "output_type": "execute_result",
          "data": {
            "text/plain": [
              "'A las seis'"
            ],
            "application/vnd.google.colaboratory.intrinsic+json": {
              "type": "string"
            }
          },
          "metadata": {},
          "execution_count": 14
        }
      ]
    },
    {
      "cell_type": "code",
      "source": [
        "# Ultimos 8 caracteres\n",
        "gallinazos[-8:]"
      ],
      "metadata": {
        "colab": {
          "base_uri": "https://localhost:8080/",
          "height": 36
        },
        "id": "ovLs26pUIhgn",
        "outputId": "71f19a9e-f91b-40da-e0ee-ad4fc98a637a"
      },
      "execution_count": null,
      "outputs": [
        {
          "output_type": "execute_result",
          "data": {
            "text/plain": [
              "'cecho. A'"
            ],
            "application/vnd.google.colaboratory.intrinsic+json": {
              "type": "string"
            }
          },
          "metadata": {},
          "execution_count": 15
        }
      ]
    },
    {
      "cell_type": "code",
      "source": [
        " #Lista de metodo que se puede aplicar a una cadena de caracter\n",
        " #Cadena\n",
        " #Funcion dir\n",
        " dir(cad1)"
      ],
      "metadata": {
        "colab": {
          "base_uri": "https://localhost:8080/"
        },
        "id": "T4YibPhM_Xwn",
        "outputId": "34864df6-427d-48dd-c7a5-f898c71f6a2a"
      },
      "execution_count": null,
      "outputs": [
        {
          "output_type": "execute_result",
          "data": {
            "text/plain": [
              "['__add__',\n",
              " '__class__',\n",
              " '__contains__',\n",
              " '__delattr__',\n",
              " '__dir__',\n",
              " '__doc__',\n",
              " '__eq__',\n",
              " '__format__',\n",
              " '__ge__',\n",
              " '__getattribute__',\n",
              " '__getitem__',\n",
              " '__getnewargs__',\n",
              " '__getstate__',\n",
              " '__gt__',\n",
              " '__hash__',\n",
              " '__init__',\n",
              " '__init_subclass__',\n",
              " '__iter__',\n",
              " '__le__',\n",
              " '__len__',\n",
              " '__lt__',\n",
              " '__mod__',\n",
              " '__mul__',\n",
              " '__ne__',\n",
              " '__new__',\n",
              " '__reduce__',\n",
              " '__reduce_ex__',\n",
              " '__repr__',\n",
              " '__rmod__',\n",
              " '__rmul__',\n",
              " '__setattr__',\n",
              " '__sizeof__',\n",
              " '__str__',\n",
              " '__subclasshook__',\n",
              " 'capitalize',\n",
              " 'casefold',\n",
              " 'center',\n",
              " 'count',\n",
              " 'encode',\n",
              " 'endswith',\n",
              " 'expandtabs',\n",
              " 'find',\n",
              " 'format',\n",
              " 'format_map',\n",
              " 'index',\n",
              " 'isalnum',\n",
              " 'isalpha',\n",
              " 'isascii',\n",
              " 'isdecimal',\n",
              " 'isdigit',\n",
              " 'isidentifier',\n",
              " 'islower',\n",
              " 'isnumeric',\n",
              " 'isprintable',\n",
              " 'isspace',\n",
              " 'istitle',\n",
              " 'isupper',\n",
              " 'join',\n",
              " 'ljust',\n",
              " 'lower',\n",
              " 'lstrip',\n",
              " 'maketrans',\n",
              " 'partition',\n",
              " 'removeprefix',\n",
              " 'removesuffix',\n",
              " 'replace',\n",
              " 'rfind',\n",
              " 'rindex',\n",
              " 'rjust',\n",
              " 'rpartition',\n",
              " 'rsplit',\n",
              " 'rstrip',\n",
              " 'split',\n",
              " 'splitlines',\n",
              " 'startswith',\n",
              " 'strip',\n",
              " 'swapcase',\n",
              " 'title',\n",
              " 'translate',\n",
              " 'upper',\n",
              " 'zfill']"
            ]
          },
          "metadata": {},
          "execution_count": 16
        }
      ]
    },
    {
      "cell_type": "code",
      "source": [
        "#Metodos\n",
        "# 'capitalize',\n",
        "#  'casefold',\n",
        "#  'center',\n",
        "#  'count',\n",
        "#  'encode',\n",
        "#  'endswith',\n",
        "#  'expandtabs',\n",
        "#  'find',\n",
        "#  'format',\n",
        "#  'format_map',\n",
        "#  'index',\n",
        "#  'isalnum',\n",
        "#  'isalpha',\n",
        "#  'isascii',\n",
        "#  'isdecimal',\n",
        "#  'isdigit',\n",
        "#  'isidentifier',\n",
        "#  'islower',\n",
        "#  'isnumeric',\n",
        "#  'isprintable',\n",
        "#  'isspace',\n",
        "#  'istitle',\n",
        "#  'isupper',\n",
        "#  'join',\n",
        "#  'ljust',\n",
        "#  'lower',\n",
        "#  'lstrip',\n",
        "#  'maketrans',\n",
        "#  'partition',\n",
        "#  'removeprefix',\n",
        "#  'removesuffix',\n",
        "#  'replace',\n",
        "#  'rfind',\n",
        "#  'rindex',\n",
        "#  'rjust',\n",
        "#  'rpartition',\n",
        "#  'rsplit',\n",
        "#  'rstrip',\n",
        "#  'split',\n",
        "#  'splitlines',\n",
        "#  'startswith',\n",
        "#  'strip',\n",
        "#  'swapcase',\n",
        "#  'title',\n",
        "#  'translate',\n",
        "#  'upper',\n",
        "#  'zfill'"
      ],
      "metadata": {
        "id": "S2xMkcKG_q7l"
      },
      "execution_count": null,
      "outputs": []
    },
    {
      "cell_type": "code",
      "source": [
        "# Documentacion del metodo count\n",
        "help(cad2.count)"
      ],
      "metadata": {
        "colab": {
          "base_uri": "https://localhost:8080/"
        },
        "id": "iSi8O4OP_q39",
        "outputId": "03f767f5-5aed-48fc-c5a0-700b3c323933"
      },
      "execution_count": null,
      "outputs": [
        {
          "output_type": "stream",
          "name": "stdout",
          "text": [
            "Help on built-in function count:\n",
            "\n",
            "count(...) method of builtins.str instance\n",
            "    S.count(sub[, start[, end]]) -> int\n",
            "    \n",
            "    Return the number of non-overlapping occurrences of substring sub in\n",
            "    string S[start:end].  Optional arguments start and end are\n",
            "    interpreted as in slice notation.\n",
            "\n"
          ]
        }
      ]
    },
    {
      "cell_type": "code",
      "source": [
        "# Notacion slice\n",
        "  # primeros 3 caracteres => :2+1\n",
        "  # Ultimos 8 caracteres => -8:"
      ],
      "metadata": {
        "id": "329hh2_UBUeL"
      },
      "execution_count": null,
      "outputs": []
    },
    {
      "cell_type": "code",
      "source": [
        "# Cual es la cantidad de veces que aparece la vocal a en la variable gallinazos\n",
        "gallinazos.count(\"a\")"
      ],
      "metadata": {
        "colab": {
          "base_uri": "https://localhost:8080/"
        },
        "id": "lfPmRsq7B517",
        "outputId": "2d6aa647-9f50-480b-ac2f-053832304450"
      },
      "execution_count": null,
      "outputs": [
        {
          "output_type": "execute_result",
          "data": {
            "text/plain": [
              "379"
            ]
          },
          "metadata": {},
          "execution_count": 19
        }
      ]
    },
    {
      "cell_type": "code",
      "source": [
        "# Contemos el numero de veces que el signo de puntiacion .\n",
        "gallinazos.count(\".\")"
      ],
      "metadata": {
        "colab": {
          "base_uri": "https://localhost:8080/"
        },
        "id": "DIJ7oKpPCGAG",
        "outputId": "607cc55a-e4cf-4a77-f511-2ca7fab909a7"
      },
      "execution_count": null,
      "outputs": [
        {
          "output_type": "execute_result",
          "data": {
            "text/plain": [
              "36"
            ]
          },
          "metadata": {},
          "execution_count": 20
        }
      ]
    },
    {
      "cell_type": "code",
      "source": [
        "# Cual es la cantidad de veces que aparece la palabra de\n",
        "gallinazos.count(\"de\")"
      ],
      "metadata": {
        "colab": {
          "base_uri": "https://localhost:8080/"
        },
        "id": "d18WAuV7CSxC",
        "outputId": "cc068e34-51d6-4bc8-a682-daf38f078156"
      },
      "execution_count": null,
      "outputs": [
        {
          "output_type": "execute_result",
          "data": {
            "text/plain": [
              "53"
            ]
          },
          "metadata": {},
          "execution_count": 21
        }
      ]
    },
    {
      "cell_type": "code",
      "source": [
        "# Documentacion de la funcion isalpha\n",
        "help(cad1.isalpha)"
      ],
      "metadata": {
        "colab": {
          "base_uri": "https://localhost:8080/"
        },
        "id": "neYIZJfoCX6K",
        "outputId": "34cdb90d-690c-49b1-90e3-9fda377ca5f5"
      },
      "execution_count": null,
      "outputs": [
        {
          "output_type": "stream",
          "name": "stdout",
          "text": [
            "Help on built-in function isalpha:\n",
            "\n",
            "isalpha() method of builtins.str instance\n",
            "    Return True if the string is an alphabetic string, False otherwise.\n",
            "    \n",
            "    A string is alphabetic if all characters in the string are alphabetic and there\n",
            "    is at least one character in the string.\n",
            "\n"
          ]
        }
      ]
    },
    {
      "cell_type": "code",
      "source": [
        "\"@123\".isalpha()"
      ],
      "metadata": {
        "colab": {
          "base_uri": "https://localhost:8080/"
        },
        "id": "tx40d-gsCsht",
        "outputId": "beed4e92-4ea4-4bf0-b6ca-2d3dfe0af662"
      },
      "execution_count": null,
      "outputs": [
        {
          "output_type": "execute_result",
          "data": {
            "text/plain": [
              "False"
            ]
          },
          "metadata": {},
          "execution_count": 24
        }
      ]
    },
    {
      "cell_type": "code",
      "source": [
        "\"123\".isalpha()"
      ],
      "metadata": {
        "colab": {
          "base_uri": "https://localhost:8080/"
        },
        "id": "0rz07fv8C13U",
        "outputId": "37139f80-617d-4a2a-e18f-6caac04225ba"
      },
      "execution_count": null,
      "outputs": [
        {
          "output_type": "execute_result",
          "data": {
            "text/plain": [
              "False"
            ]
          },
          "metadata": {},
          "execution_count": 25
        }
      ]
    },
    {
      "cell_type": "code",
      "source": [
        "\"unodostres\".isalpha()"
      ],
      "metadata": {
        "colab": {
          "base_uri": "https://localhost:8080/"
        },
        "id": "z0X7CDvAC8Ui",
        "outputId": "e9b5a20b-6bc0-4e01-adce-3d07974386be"
      },
      "execution_count": null,
      "outputs": [
        {
          "output_type": "execute_result",
          "data": {
            "text/plain": [
              "True"
            ]
          },
          "metadata": {},
          "execution_count": 28
        }
      ]
    },
    {
      "cell_type": "code",
      "source": [
        "# Tarjetita: Leer, aprender y practicar que es lo que hacen todos y cada uno de los\n",
        "# metodso de interes para una variable de tipo cadena de caracter"
      ],
      "metadata": {
        "id": "ZAqkfgjADIWe"
      },
      "execution_count": null,
      "outputs": []
    },
    {
      "cell_type": "markdown",
      "source": [
        "# La funcion input"
      ],
      "metadata": {
        "id": "KDYMm1h5Dpez"
      }
    },
    {
      "cell_type": "code",
      "source": [
        "# La funcion input esta encargada que el usuario provea informacion a sus programas\n",
        "# Recordar que input almacena lo recibido por el usuario como una variable\n",
        "# de tipo cadena de caracter"
      ],
      "metadata": {
        "id": "p77-6LjcDm6V"
      },
      "execution_count": null,
      "outputs": []
    },
    {
      "cell_type": "code",
      "source": [
        "peso = input(\"Ingrese su peso en kilos: \")"
      ],
      "metadata": {
        "colab": {
          "base_uri": "https://localhost:8080/"
        },
        "id": "rA5PVYreEA8L",
        "outputId": "9a20c70e-7424-4492-da95-ae79be0006e4"
      },
      "execution_count": null,
      "outputs": [
        {
          "name": "stdout",
          "output_type": "stream",
          "text": [
            "Ingrese su peso en kilos: 95.8\n"
          ]
        }
      ]
    },
    {
      "cell_type": "code",
      "source": [
        "# tipo de dato\n",
        "peso"
      ],
      "metadata": {
        "colab": {
          "base_uri": "https://localhost:8080/",
          "height": 36
        },
        "id": "pLFBVTuGEOXQ",
        "outputId": "025bf8e0-8ee1-449c-e1a6-2d0fb1cfad54"
      },
      "execution_count": null,
      "outputs": [
        {
          "output_type": "execute_result",
          "data": {
            "text/plain": [
              "'95.8'"
            ],
            "application/vnd.google.colaboratory.intrinsic+json": {
              "type": "string"
            }
          },
          "metadata": {},
          "execution_count": 32
        }
      ]
    },
    {
      "cell_type": "code",
      "source": [
        "# Tranformemos este objeto de tipo str a un dato de tipo float\n",
        "peso=float(peso)\n",
        "peso"
      ],
      "metadata": {
        "colab": {
          "base_uri": "https://localhost:8080/"
        },
        "id": "LcQ1xNxtEW-6",
        "outputId": "7c47c959-bb66-4f18-d1e7-ca971ebf741a"
      },
      "execution_count": null,
      "outputs": [
        {
          "output_type": "execute_result",
          "data": {
            "text/plain": [
              "95.8"
            ]
          },
          "metadata": {},
          "execution_count": 35
        }
      ]
    },
    {
      "cell_type": "code",
      "source": [
        "estatura= float(input(\"Ingresa tu estatura en metros: \"))"
      ],
      "metadata": {
        "id": "hxn8TNKXErWr"
      },
      "execution_count": null,
      "outputs": []
    },
    {
      "cell_type": "code",
      "source": [
        "# tipo de dato\n",
        "type(estatura)"
      ],
      "metadata": {
        "colab": {
          "base_uri": "https://localhost:8080/"
        },
        "id": "PLC9oTY4EzxI",
        "outputId": "98dcd675-efe1-4135-a293-2c0f1f5822b2"
      },
      "execution_count": null,
      "outputs": [
        {
          "output_type": "execute_result",
          "data": {
            "text/plain": [
              "float"
            ]
          },
          "metadata": {},
          "execution_count": 41
        }
      ]
    },
    {
      "cell_type": "code",
      "source": [
        "# Podemos realizar operaciones\n",
        "IMC = peso/(estatura**2)\n",
        "IMC"
      ],
      "metadata": {
        "colab": {
          "base_uri": "https://localhost:8080/"
        },
        "id": "8Mhno580E-G-",
        "outputId": "5f9a3ccc-6652-457b-bd5a-cbf26c8364e6"
      },
      "execution_count": null,
      "outputs": [
        {
          "output_type": "execute_result",
          "data": {
            "text/plain": [
              "29.5679012345679"
            ]
          },
          "metadata": {},
          "execution_count": 42
        }
      ]
    },
    {
      "cell_type": "code",
      "source": [
        "# Solucion de una ecuacion cuadratica\n",
        "a= float(input(\"Ingrese el coeficiente cuadratico: \"))\n",
        "b= float(input(\"Ingrese el coeficiente lineal : \"))\n",
        "c= float(input(\"Ingrese el termino independiente : \"))\n",
        "\n",
        "# Operaciones\n",
        "disc= b**2-4*a*c\n",
        "\n",
        "#Calculo de raices : Formula general\n",
        "x1= (-b-disc**0.5)/(2*a)\n",
        "x2= (-b+disc**0.5)/(2*a)\n",
        "\n",
        "#Mostremos los resultados\n",
        "print(x1)\n",
        "print(x2)"
      ],
      "metadata": {
        "colab": {
          "base_uri": "https://localhost:8080/"
        },
        "id": "sq1pdcmbFNtc",
        "outputId": "ff6baa1f-ae35-4fc6-fbcf-012e2aaee33e"
      },
      "execution_count": null,
      "outputs": [
        {
          "output_type": "stream",
          "name": "stdout",
          "text": [
            "Ingrese el coeficiente cuadratico: 12\n",
            "Ingrese el coeficiente lineal : 5\n",
            "Ingrese el termino independiente : -111\n",
            "-3.2568416206400577\n",
            "2.8401749539733907\n"
          ]
        }
      ]
    },
    {
      "cell_type": "code",
      "source": [
        "print(x1)\n",
        "print(x2)"
      ],
      "metadata": {
        "colab": {
          "base_uri": "https://localhost:8080/"
        },
        "id": "r7lInnAHHG2m",
        "outputId": "d5456ff0-4b89-413e-bcf7-6614cf4893ac"
      },
      "execution_count": null,
      "outputs": [
        {
          "output_type": "execute_result",
          "data": {
            "text/plain": [
              "2.8401749539733907"
            ]
          },
          "metadata": {},
          "execution_count": 45
        }
      ]
    },
    {
      "cell_type": "markdown",
      "source": [
        "# Funcion print"
      ],
      "metadata": {
        "id": "78caRl_WHpxO"
      }
    },
    {
      "cell_type": "code",
      "source": [
        "# Sirve para formatear o mostrar la salida de mis programas"
      ],
      "metadata": {
        "id": "bPtXYArpHofX"
      },
      "execution_count": null,
      "outputs": []
    },
    {
      "cell_type": "code",
      "source": [
        "#\n",
        "print(\"Esto es un mensaje : \")\n",
        "print(\"Hola Mundo\")"
      ],
      "metadata": {
        "colab": {
          "base_uri": "https://localhost:8080/"
        },
        "id": "7umiAomOHxiY",
        "outputId": "caafa4a3-cc51-4d66-e960-10c1c9703159"
      },
      "execution_count": null,
      "outputs": [
        {
          "output_type": "stream",
          "name": "stdout",
          "text": [
            "Esto es un mensaje : \n",
            "Hola Mundo\n"
          ]
        }
      ]
    },
    {
      "cell_type": "code",
      "source": [
        "#\n",
        "nombre = input(\"Ingrese tu primer nombre: \")\n",
        "print(\"Buenos dias . \"+ nombre) # Con , tambien aplica"
      ],
      "metadata": {
        "colab": {
          "base_uri": "https://localhost:8080/"
        },
        "id": "R7JDufTjH9De",
        "outputId": "ad233330-ca41-44c7-a816-9cc28193f595"
      },
      "execution_count": null,
      "outputs": [
        {
          "output_type": "stream",
          "name": "stdout",
          "text": [
            "Ingrese tu primer nombre: Henry\n",
            "Buenos dias . Henry\n"
          ]
        }
      ]
    },
    {
      "cell_type": "code",
      "source": [
        "# Mostremos el nombre y la edad del usuario\n",
        "nombre1 = input(\"ingresa tu primer nombre: \")\n",
        "edad1= int(input(\"ingresa tu edad: \"))\n",
        "\n",
        "print(\"Hola \"+ nombre1+ \" tienes \"+ str(edad1)+ \" años\")"
      ],
      "metadata": {
        "colab": {
          "base_uri": "https://localhost:8080/"
        },
        "id": "eN9tjA2YIOXu",
        "outputId": "0cc43c1f-5fc4-4f7e-be72-07fa39396cae"
      },
      "execution_count": null,
      "outputs": [
        {
          "output_type": "stream",
          "name": "stdout",
          "text": [
            "ingresa tu primer nombre: Henry\n",
            "ingresa tu edad: 18\n",
            "Hola Henry tienes 18 años\n"
          ]
        }
      ]
    },
    {
      "cell_type": "code",
      "source": [
        "# \\n : Salto de linea\n",
        "# \\t : tabula (4 espacios)\n",
        "# %f : mostar variables punto flotante\n",
        "# %.3f : Mostremos un numero punto flotante con solo 3 cifras despues del punto decimal\n",
        "# %i : Mostrar numeros enteros\n",
        "# %s : mostrar variables de tipo cadena de caracter\n",
        "print(\"Hola  %s \\t \\nTienes %i años\" %(nombre1,edad1))"
      ],
      "metadata": {
        "colab": {
          "base_uri": "https://localhost:8080/"
        },
        "id": "KSlzH3hJJIRI",
        "outputId": "a2de7c36-c453-43b3-bd7d-da4109655820"
      },
      "execution_count": null,
      "outputs": [
        {
          "output_type": "stream",
          "name": "stdout",
          "text": [
            "Hola  Henry \t \n",
            "Tienes 18 años\n"
          ]
        }
      ]
    },
    {
      "cell_type": "code",
      "source": [
        "# Formateando la salida usando docstrings\n",
        "print(\"\"\"\n",
        "  Calculo del indice de Masa Corporal (IMC)\n",
        "    Peso : %f\n",
        "    Estatura : %f\n",
        "    -------------\n",
        "    IMC : %.3f\n",
        "\"\"\"%(peso, estatura, IMC))"
      ],
      "metadata": {
        "colab": {
          "base_uri": "https://localhost:8080/"
        },
        "id": "foC4nEqcNBEg",
        "outputId": "1190dc6f-4e2d-4d46-ae73-b4119422b1d5"
      },
      "execution_count": null,
      "outputs": [
        {
          "output_type": "stream",
          "name": "stdout",
          "text": [
            "\n",
            "  Calculo del indice de Masa Corporal (IMC)\n",
            "    Peso : 95.800000\n",
            "    Estatura : 1.800000\n",
            "    -------------\n",
            "    IMC : 29.568\n",
            "\n"
          ]
        }
      ]
    },
    {
      "cell_type": "code",
      "source": [
        "# Ley de Coulomb\n",
        "# Dadas dos cargas puntuales q1 y q2, la fuerza electrica\n",
        "# entre estas esta dada por k*q1*q2/d**2\n",
        "\n",
        "# Pidamos al usuarios las cargas y la distancia\n",
        "q1= float(input(\"Ingrese la carga q1: \"))\n",
        "q2= float(input(\"Ingrese la carga q2: \"))\n",
        "d= float(input(\"Ingrese la distancia entre las cargas: \"))\n",
        "\n",
        "# Calculos\n",
        "F = (9*10**9*q1*q2)/ (d**2)\n",
        "\n",
        "# Mostramos los resultado\n",
        "print(\"\"\"\n",
        "Fuerza de Coulomb\n",
        "  q1 = %f\n",
        "  q2 = %f\n",
        "  d = %f\n",
        "  -------------\n",
        "  Fuerza Electrica = %.2f\n",
        "\"\"\"%(q1,q2,d,F))"
      ],
      "metadata": {
        "colab": {
          "base_uri": "https://localhost:8080/"
        },
        "id": "C7cnW1PlPrgO",
        "outputId": "70cda4f3-1313-4cd4-d0b5-4bd0faca2e56"
      },
      "execution_count": null,
      "outputs": [
        {
          "output_type": "stream",
          "name": "stdout",
          "text": [
            "Ingrese la carga q1: 0.000015\n",
            "Ingrese la carga q2: 0.000014\n",
            "Ingrese la distancia entre las cargas: 0.0005\n",
            "\n",
            "Fuerza de Coulomb\n",
            "  q1 = 0.000015\n",
            "  q2 = 0.000014\n",
            "  d = 0.000500\n",
            "  -------------\n",
            "  Fuerza Electrica = 7560000.00\n",
            "\n"
          ]
        }
      ]
    },
    {
      "cell_type": "code",
      "source": [
        "# Calculo de area de un triangulo\n",
        "# Dados los 3 lados de un triangulo, calcular su area\n",
        "lado_a = float(input(\"Ingrese el valor del lado a: \"))\n",
        "lado_b = float(input(\"Ingrese el valor del lado b: \"))\n",
        "lado_c = float(input(\"Ingrese el valor del lado c: \"))\n",
        "\n",
        "#Calculos : Formula de Heron\n",
        "s = (lado_a+lado_b+lado_c)/2\n",
        "area=(s*(s-lado_a)*(s-lado_b)*(s-lado_c))**(0.5)\n",
        "\n",
        "#Mostrar resultados\n",
        "print(\"\"\"\n",
        "Area de un triangulo (Formula de Heron)\n",
        "  a: %f\n",
        "  b: %f\n",
        "  c: %f\n",
        "  -------------\n",
        "  Area: %f\n",
        "\"\"\"%(lado_a,lado_b,lado_c,area))\n"
      ],
      "metadata": {
        "colab": {
          "base_uri": "https://localhost:8080/"
        },
        "id": "GSL8FqLmYDZa",
        "outputId": "31591de0-4c2e-40a2-f6b0-8a2cdd70bd38"
      },
      "execution_count": null,
      "outputs": [
        {
          "output_type": "stream",
          "name": "stdout",
          "text": [
            "Ingrese el valor del lado a: 12\n",
            "Ingrese el valor del lado b: 19\n",
            "Ingrese el valor del lado c: 8\n",
            "\n",
            "Area de un triangulo (Formula de Heron)\n",
            "  a: 12.000000\n",
            "  b: 19.000000\n",
            "  c: 8.000000\n",
            "  ------------- \n",
            "  Area: 28.998922\n",
            "\n"
          ]
        }
      ]
    },
    {
      "cell_type": "markdown",
      "source": [
        "# Estructura de decision"
      ],
      "metadata": {
        "id": "NCCIEhRQdlip"
      }
    },
    {
      "cell_type": "code",
      "source": [
        "# Sentencia if"
      ],
      "metadata": {
        "id": "oyrI_fQWdthL"
      },
      "execution_count": null,
      "outputs": []
    },
    {
      "cell_type": "code",
      "source": [
        "# Generamos un par de valoers aleatorios\n",
        "import random as rnd\n",
        "a = rnd.paretovariate(12.8)\n",
        "b = rnd.paretovariate(-63.9)"
      ],
      "metadata": {
        "id": "XctlHahZd5a7"
      },
      "execution_count": null,
      "outputs": []
    },
    {
      "cell_type": "code",
      "source": [
        "if (a>b) :\n",
        "  print(\"a es mayor que b\")\n",
        "\n",
        "if (a==b) :\n",
        "  print(\"a es igual a b\")\n",
        "\n",
        "if (a<b) :\n",
        "  print(\"a es menor que b\")"
      ],
      "metadata": {
        "colab": {
          "base_uri": "https://localhost:8080/"
        },
        "id": "mLbU45v7eKjf",
        "outputId": "29d7940a-c93e-4897-dca0-b2ec560795ac"
      },
      "execution_count": null,
      "outputs": [
        {
          "output_type": "stream",
          "name": "stdout",
          "text": [
            "a es mayor que b\n"
          ]
        }
      ]
    },
    {
      "cell_type": "code",
      "source": [
        "if a>b :\n",
        "  print(\"a es mayor a b\")\n",
        "elif a==b :\n",
        "  print(\"a es igua a b\")\n",
        "else:\n",
        "  print(\"a es menor que b\")"
      ],
      "metadata": {
        "colab": {
          "base_uri": "https://localhost:8080/"
        },
        "id": "CtwjLs7qezdT",
        "outputId": "a8ae9da9-8296-4981-9d07-35f049544a73"
      },
      "execution_count": null,
      "outputs": [
        {
          "output_type": "stream",
          "name": "stdout",
          "text": [
            "a es mayor a b\n"
          ]
        }
      ]
    },
    {
      "cell_type": "code",
      "source": [
        "# Existencia de un triangulo\n",
        "l1 = float(input(\"Ingrese el valor del lado 1: \"))\n",
        "l2 = float(input(\"Ingrese el valor del lado 2: \"))\n",
        "l3 = float(input(\"Ingrese el valor del lado 3: \"))\n",
        "\n",
        "# Cargemos el modulo math para acceder a la funcion valor absoluto\n",
        "import math as m\n",
        "\n",
        "#Validemos que los lados son positivos\n",
        "if (l1>0) and (l2>0) and (l3>0) :\n",
        "  # Validemos la existencia\n",
        "  if (m.fabs(l1-l2)<l3<l1+l2) and (m.fabs(l1-l3)<l2<l1+l3) and (m.fabs(l2-l3)<l1<l2+l3) :\n",
        "    print(\"Triangulo valido\")\n",
        "  else:\n",
        "    print(\"Triangulo invalido\")\n",
        "else:\n",
        "  print(\"Valores incorrectos\")\n"
      ],
      "metadata": {
        "colab": {
          "base_uri": "https://localhost:8080/",
          "height": 238
        },
        "id": "5ofP3r7HfSnk",
        "outputId": "beceaeee-c4ed-44c6-b194-7ee09962a1ad"
      },
      "execution_count": null,
      "outputs": [
        {
          "name": "stdout",
          "output_type": "stream",
          "text": [
            "Ingrese el valor del lado 1: uno\n"
          ]
        },
        {
          "output_type": "error",
          "ename": "ValueError",
          "evalue": "could not convert string to float: 'uno'",
          "traceback": [
            "\u001b[0;31m---------------------------------------------------------------------------\u001b[0m",
            "\u001b[0;31mValueError\u001b[0m                                Traceback (most recent call last)",
            "\u001b[0;32m<ipython-input-90-0163914505d9>\u001b[0m in \u001b[0;36m<cell line: 0>\u001b[0;34m()\u001b[0m\n\u001b[1;32m      1\u001b[0m \u001b[0;31m# Existencia de un triangulo\u001b[0m\u001b[0;34m\u001b[0m\u001b[0;34m\u001b[0m\u001b[0m\n\u001b[0;32m----> 2\u001b[0;31m \u001b[0ml1\u001b[0m \u001b[0;34m=\u001b[0m \u001b[0mfloat\u001b[0m\u001b[0;34m(\u001b[0m\u001b[0minput\u001b[0m\u001b[0;34m(\u001b[0m\u001b[0;34m\"Ingrese el valor del lado 1: \"\u001b[0m\u001b[0;34m)\u001b[0m\u001b[0;34m)\u001b[0m\u001b[0;34m\u001b[0m\u001b[0;34m\u001b[0m\u001b[0m\n\u001b[0m\u001b[1;32m      3\u001b[0m \u001b[0ml2\u001b[0m \u001b[0;34m=\u001b[0m \u001b[0mfloat\u001b[0m\u001b[0;34m(\u001b[0m\u001b[0minput\u001b[0m\u001b[0;34m(\u001b[0m\u001b[0;34m\"Ingrese el valor del lado 2: \"\u001b[0m\u001b[0;34m)\u001b[0m\u001b[0;34m)\u001b[0m\u001b[0;34m\u001b[0m\u001b[0;34m\u001b[0m\u001b[0m\n\u001b[1;32m      4\u001b[0m \u001b[0ml3\u001b[0m \u001b[0;34m=\u001b[0m \u001b[0mfloat\u001b[0m\u001b[0;34m(\u001b[0m\u001b[0minput\u001b[0m\u001b[0;34m(\u001b[0m\u001b[0;34m\"Ingrese el valor del lado 3: \"\u001b[0m\u001b[0;34m)\u001b[0m\u001b[0;34m)\u001b[0m\u001b[0;34m\u001b[0m\u001b[0;34m\u001b[0m\u001b[0m\n\u001b[1;32m      5\u001b[0m \u001b[0;34m\u001b[0m\u001b[0m\n",
            "\u001b[0;31mValueError\u001b[0m: could not convert string to float: 'uno'"
          ]
        }
      ]
    },
    {
      "cell_type": "code",
      "source": [],
      "metadata": {
        "id": "7Qrl4QM6zpKd"
      },
      "execution_count": null,
      "outputs": []
    }
  ]
}