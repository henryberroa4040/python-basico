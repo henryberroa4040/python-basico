{
  "nbformat": 4,
  "nbformat_minor": 0,
  "metadata": {
    "colab": {
      "provenance": [],
      "authorship_tag": "ABX9TyPFbnbsmhzJfMggBzmn9GHS",
      "include_colab_link": true
    },
    "kernelspec": {
      "name": "python3",
      "display_name": "Python 3"
    },
    "language_info": {
      "name": "python"
    }
  },
  "cells": [
    {
      "cell_type": "markdown",
      "metadata": {
        "id": "view-in-github",
        "colab_type": "text"
      },
      "source": [
        "<a href=\"https://colab.research.google.com/github/henryberroa4040/python-basico/blob/main/Clase-6-Script01.ipynb\" target=\"_parent\"><img src=\"https://colab.research.google.com/assets/colab-badge.svg\" alt=\"Open In Colab\"/></a>"
      ]
    },
    {
      "cell_type": "code",
      "execution_count": null,
      "metadata": {
        "colab": {
          "base_uri": "https://localhost:8080/"
        },
        "id": "6LbV47QpshRz",
        "outputId": "cdf02ce0-c788-4431-f3a4-c2a2acbdb74c"
      },
      "outputs": [
        {
          "output_type": "execute_result",
          "data": {
            "text/plain": [
              "['esto', 'es una', 'variable', 'de tipo lista']"
            ]
          },
          "metadata": {},
          "execution_count": 1
        }
      ],
      "source": [
        "# Creacion de una variable de tipo lista\n",
        "lista= [\"esto\",\"es una\",\"variable\",\"de tipo lista\"]\n",
        "lista"
      ]
    },
    {
      "cell_type": "code",
      "source": [
        "# Lista de metodos que puedo aplicar a un dato de tipo lista\n",
        "dir(lista)"
      ],
      "metadata": {
        "colab": {
          "base_uri": "https://localhost:8080/"
        },
        "id": "i_q1kNcCs-8L",
        "outputId": "507db1ad-9c70-4b08-be03-708ceb84ff63"
      },
      "execution_count": null,
      "outputs": [
        {
          "output_type": "execute_result",
          "data": {
            "text/plain": [
              "['__add__',\n",
              " '__class__',\n",
              " '__class_getitem__',\n",
              " '__contains__',\n",
              " '__delattr__',\n",
              " '__delitem__',\n",
              " '__dir__',\n",
              " '__doc__',\n",
              " '__eq__',\n",
              " '__format__',\n",
              " '__ge__',\n",
              " '__getattribute__',\n",
              " '__getitem__',\n",
              " '__getstate__',\n",
              " '__gt__',\n",
              " '__hash__',\n",
              " '__iadd__',\n",
              " '__imul__',\n",
              " '__init__',\n",
              " '__init_subclass__',\n",
              " '__iter__',\n",
              " '__le__',\n",
              " '__len__',\n",
              " '__lt__',\n",
              " '__mul__',\n",
              " '__ne__',\n",
              " '__new__',\n",
              " '__reduce__',\n",
              " '__reduce_ex__',\n",
              " '__repr__',\n",
              " '__reversed__',\n",
              " '__rmul__',\n",
              " '__setattr__',\n",
              " '__setitem__',\n",
              " '__sizeof__',\n",
              " '__str__',\n",
              " '__subclasshook__',\n",
              " 'append',\n",
              " 'clear',\n",
              " 'copy',\n",
              " 'count',\n",
              " 'extend',\n",
              " 'index',\n",
              " 'insert',\n",
              " 'pop',\n",
              " 'remove',\n",
              " 'reverse',\n",
              " 'sort']"
            ]
          },
          "metadata": {},
          "execution_count": 2
        }
      ]
    },
    {
      "cell_type": "code",
      "source": [
        "# Lista de metodos de interes\n",
        "#  'append',\n",
        "#  'clear',\n",
        "#  'copy',\n",
        "#  'count',\n",
        "#  'extend',\n",
        "#  'index',\n",
        "#  'insert',\n",
        "#  'pop',\n",
        "#  'remove',\n",
        "#  'reverse',\n",
        "#  'sort'"
      ],
      "metadata": {
        "id": "t14_ARAJtNIe"
      },
      "execution_count": null,
      "outputs": []
    },
    {
      "cell_type": "code",
      "source": [
        "# El metodo apend\n",
        "help(lista.append)"
      ],
      "metadata": {
        "colab": {
          "base_uri": "https://localhost:8080/"
        },
        "id": "Qm_PFxhktew7",
        "outputId": "bd512a34-42ab-438b-ac6d-8fa47a290d93"
      },
      "execution_count": null,
      "outputs": [
        {
          "output_type": "stream",
          "name": "stdout",
          "text": [
            "Help on built-in function append:\n",
            "\n",
            "append(object, /) method of builtins.list instance\n",
            "    Append object to the end of the list.\n",
            "\n"
          ]
        }
      ]
    },
    {
      "cell_type": "code",
      "source": [
        "lista"
      ],
      "metadata": {
        "colab": {
          "base_uri": "https://localhost:8080/"
        },
        "id": "YBWI6ohGvS08",
        "outputId": "eb2a10ac-26a2-485b-e745-a957ef2a1399"
      },
      "execution_count": null,
      "outputs": [
        {
          "output_type": "execute_result",
          "data": {
            "text/plain": [
              "['esto', 'es una', 'variable', 'de tipo lista']"
            ]
          },
          "metadata": {},
          "execution_count": 4
        }
      ]
    },
    {
      "cell_type": "code",
      "source": [
        "lista.append([12])\n",
        "lista.append([\"Sexta Clase\"])\n",
        "lista.append([\"2025-01-27\"])"
      ],
      "metadata": {
        "id": "SmCj8c7-vTsd"
      },
      "execution_count": null,
      "outputs": []
    },
    {
      "cell_type": "code",
      "source": [
        "lista"
      ],
      "metadata": {
        "colab": {
          "base_uri": "https://localhost:8080/"
        },
        "id": "UUuamOkGvklk",
        "outputId": "a97267f5-0299-42e3-c972-29b72c2335eb"
      },
      "execution_count": null,
      "outputs": [
        {
          "output_type": "execute_result",
          "data": {
            "text/plain": [
              "['esto',\n",
              " 'es una',\n",
              " 'variable',\n",
              " 'de tipo lista',\n",
              " [12],\n",
              " ['Sexta Clase'],\n",
              " ['2025-01-27'],\n",
              " ['Sexta Clase'],\n",
              " ['2025-01-27'],\n",
              " ['Sexta Clase'],\n",
              " ['2025-01-27']]"
            ]
          },
          "metadata": {},
          "execution_count": 9
        }
      ]
    },
    {
      "cell_type": "code",
      "source": [
        "# Verifiquemos que el objeto que obtenemos de aplicar una o varias veces el metodo append\n",
        "# sigue siendo un dato de tipo lista\n",
        "type(lista)"
      ],
      "metadata": {
        "colab": {
          "base_uri": "https://localhost:8080/"
        },
        "id": "KaIAVXyevrQz",
        "outputId": "a371d325-3821-40e3-d1e2-cfa1120efbf4"
      },
      "execution_count": null,
      "outputs": [
        {
          "output_type": "execute_result",
          "data": {
            "text/plain": [
              "list"
            ]
          },
          "metadata": {},
          "execution_count": 10
        }
      ]
    },
    {
      "cell_type": "code",
      "source": [
        "listaX= 2*lista + 5*lista"
      ],
      "metadata": {
        "id": "0I4xxOT3wQui"
      },
      "execution_count": null,
      "outputs": []
    },
    {
      "cell_type": "code",
      "source": [
        "# Documentacion del metodo clear\n",
        "help(listaX.clear)"
      ],
      "metadata": {
        "colab": {
          "base_uri": "https://localhost:8080/"
        },
        "id": "hxb0EU7lwRZB",
        "outputId": "801575e6-f754-4330-9c44-e96f3ecdf089"
      },
      "execution_count": null,
      "outputs": [
        {
          "output_type": "stream",
          "name": "stdout",
          "text": [
            "Help on built-in function clear:\n",
            "\n",
            "clear() method of builtins.list instance\n",
            "    Remove all items from list.\n",
            "\n"
          ]
        }
      ]
    },
    {
      "cell_type": "code",
      "source": [
        "listaX.clear()"
      ],
      "metadata": {
        "id": "2JzWaPM3wYv7"
      },
      "execution_count": null,
      "outputs": []
    },
    {
      "cell_type": "code",
      "source": [
        "listaX"
      ],
      "metadata": {
        "colab": {
          "base_uri": "https://localhost:8080/"
        },
        "id": "WYRd9rgdwY31",
        "outputId": "222f4ea7-fafd-4b04-deda-a7265b1dc5f3"
      },
      "execution_count": null,
      "outputs": [
        {
          "output_type": "execute_result",
          "data": {
            "text/plain": [
              "[]"
            ]
          },
          "metadata": {},
          "execution_count": 17
        }
      ]
    },
    {
      "cell_type": "code",
      "source": [
        "# Documentacion del metodo copy\n",
        "help([].copy)"
      ],
      "metadata": {
        "colab": {
          "base_uri": "https://localhost:8080/"
        },
        "id": "ZzCOd_CowY_q",
        "outputId": "f520dc5f-7f25-425c-c218-35c28276af82"
      },
      "execution_count": null,
      "outputs": [
        {
          "output_type": "stream",
          "name": "stdout",
          "text": [
            "Help on built-in function copy:\n",
            "\n",
            "copy() method of builtins.list instance\n",
            "    Return a shallow copy of the list.\n",
            "\n"
          ]
        }
      ]
    },
    {
      "cell_type": "code",
      "source": [
        "# Forma clasica de crear una copia de una variable (Forma usada en los lenguajes de programacion compilado)\n",
        "lista_copia1=lista\n",
        "print(lista)\n",
        "print(lista_copia1)"
      ],
      "metadata": {
        "colab": {
          "base_uri": "https://localhost:8080/"
        },
        "id": "q-JdQQbkwZFx",
        "outputId": "4710500c-2315-410a-fc47-ef9f41fb72f1"
      },
      "execution_count": null,
      "outputs": [
        {
          "output_type": "stream",
          "name": "stdout",
          "text": [
            "['esto', 'es una', 'variable', 'de tipo lista', [12], ['Sexta Clase'], ['2025-01-27'], ['Sexta Clase'], ['2025-01-27'], ['Sexta Clase'], ['2025-01-27']]\n",
            "['esto', 'es una', 'variable', 'de tipo lista', [12], ['Sexta Clase'], ['2025-01-27'], ['Sexta Clase'], ['2025-01-27'], ['Sexta Clase'], ['2025-01-27']]\n"
          ]
        }
      ]
    },
    {
      "cell_type": "code",
      "source": [
        "# Modifiquemos los dos ultimos elemento de la variable lista_copia1\n",
        "lista_copia1[-1] = 0"
      ],
      "metadata": {
        "id": "Zmv1HaMAwZPh"
      },
      "execution_count": null,
      "outputs": []
    },
    {
      "cell_type": "code",
      "source": [
        "# Mostremos la variable original\n",
        "lista"
      ],
      "metadata": {
        "colab": {
          "base_uri": "https://localhost:8080/"
        },
        "id": "06MTBUtuwZXP",
        "outputId": "5578350d-0f98-40ae-a9b2-0b7688d3ee45"
      },
      "execution_count": null,
      "outputs": [
        {
          "output_type": "execute_result",
          "data": {
            "text/plain": [
              "['esto',\n",
              " 'es una',\n",
              " 'variable',\n",
              " 'de tipo lista',\n",
              " [12],\n",
              " ['Sexta Clase'],\n",
              " ['2025-01-27'],\n",
              " ['Sexta Clase'],\n",
              " ['2025-01-27'],\n",
              " ['Sexta Clase'],\n",
              " 0]"
            ]
          },
          "metadata": {},
          "execution_count": 23
        }
      ]
    },
    {
      "cell_type": "code",
      "source": [
        "# La forma correcta de crear una copia (independiente de la original) de una variable\n",
        "# de tipo lista : Es usando el metodo copy\n",
        "lista_copia2  = lista.copy()\n",
        "print(lista)\n",
        "print(lista_copia2)"
      ],
      "metadata": {
        "colab": {
          "base_uri": "https://localhost:8080/"
        },
        "id": "JZJ3mWnX14_2",
        "outputId": "4c04e783-934e-4080-ec68-eac58d4a7700"
      },
      "execution_count": null,
      "outputs": [
        {
          "output_type": "stream",
          "name": "stdout",
          "text": [
            "['esto', 'es una', 'variable', 'de tipo lista', [12], ['Sexta Clase'], ['2025-01-27'], ['Sexta Clase'], ['2025-01-27'], ['Sexta Clase'], 0]\n",
            "['esto', 'es una', 'variable', 'de tipo lista', [12], ['Sexta Clase'], ['2025-01-27'], ['Sexta Clase'], ['2025-01-27'], ['Sexta Clase'], 0]\n"
          ]
        }
      ]
    },
    {
      "cell_type": "code",
      "source": [
        "# Modifiquemos el ultimo elemento de lista_copia2\n",
        "lista_copia2[-1] = \"2025-04-17\"\n",
        "print(lista_copia2)\n",
        "print(lista)"
      ],
      "metadata": {
        "colab": {
          "base_uri": "https://localhost:8080/"
        },
        "id": "Kt51ouQa2X4W",
        "outputId": "e81bece6-2651-4964-d208-5f3e9a350251"
      },
      "execution_count": null,
      "outputs": [
        {
          "output_type": "stream",
          "name": "stdout",
          "text": [
            "['esto', 'es una', 'variable', 'de tipo lista', [12], ['Sexta Clase'], ['2025-01-27'], ['Sexta Clase'], ['2025-01-27'], ['Sexta Clase'], '2025-04-17']\n",
            "['esto', 'es una', 'variable', 'de tipo lista', [12], ['Sexta Clase'], ['2025-01-27'], ['Sexta Clase'], ['2025-01-27'], ['Sexta Clase'], 0]\n"
          ]
        }
      ]
    },
    {
      "cell_type": "code",
      "source": [
        "# for es una statement y de esta manera podemos acceder a la documentacion: help(\"for\")"
      ],
      "metadata": {
        "id": "X9UaqYPT3-SX"
      },
      "execution_count": null,
      "outputs": []
    },
    {
      "cell_type": "code",
      "source": [
        "# Documentacion del metodo count\n",
        "help([].count)"
      ],
      "metadata": {
        "colab": {
          "base_uri": "https://localhost:8080/"
        },
        "id": "y2lO0fMp4Ago",
        "outputId": "3cbc3536-9554-405f-f77f-4fe87f1ffb58"
      },
      "execution_count": null,
      "outputs": [
        {
          "output_type": "stream",
          "name": "stdout",
          "text": [
            "Help on built-in function count:\n",
            "\n",
            "count(value, /) method of builtins.list instance\n",
            "    Return number of occurrences of value.\n",
            "\n"
          ]
        }
      ]
    },
    {
      "cell_type": "code",
      "source": [
        "# Generemos una lista de 10**3 numeros aleatorios enteros en [0,20]\n",
        "\n",
        "# Cargemos el modula random\n",
        "import random as rnd\n",
        "\n",
        "lista_data=[]\n",
        "for i in range(10**3):\n",
        "    lista_data.append(rnd.randint(0,20))\n",
        "\n",
        "lista_data"
      ],
      "metadata": {
        "id": "5fDrd9iE4M4N"
      },
      "execution_count": null,
      "outputs": []
    },
    {
      "cell_type": "code",
      "source": [
        "# Contemos las veces que aparece el numero 20\n",
        "lista_data.count(20)"
      ],
      "metadata": {
        "colab": {
          "base_uri": "https://localhost:8080/"
        },
        "id": "lD_Da9Bv4MiN",
        "outputId": "b7b37d96-3349-4666-a1a6-a514c96f22bf"
      },
      "execution_count": null,
      "outputs": [
        {
          "output_type": "execute_result",
          "data": {
            "text/plain": [
              "53"
            ]
          },
          "metadata": {},
          "execution_count": 38
        }
      ]
    },
    {
      "cell_type": "code",
      "source": [
        "# Contemos el numero de veces que aparece el -1\n",
        "lista_data.count(-1)"
      ],
      "metadata": {
        "colab": {
          "base_uri": "https://localhost:8080/"
        },
        "id": "nJM8r8Qh6Q6i",
        "outputId": "b04cea69-856d-4658-f81c-fadaafd3afae"
      },
      "execution_count": null,
      "outputs": [
        {
          "output_type": "execute_result",
          "data": {
            "text/plain": [
              "0"
            ]
          },
          "metadata": {},
          "execution_count": 39
        }
      ]
    },
    {
      "cell_type": "code",
      "source": [
        "# Documentacion del metodo extend\n",
        "help([].extend)"
      ],
      "metadata": {
        "colab": {
          "base_uri": "https://localhost:8080/"
        },
        "id": "1mcyzlED6ZVU",
        "outputId": "bb523741-db8d-46ca-db20-ad932e9a4c2e"
      },
      "execution_count": null,
      "outputs": [
        {
          "output_type": "stream",
          "name": "stdout",
          "text": [
            "Help on built-in function extend:\n",
            "\n",
            "extend(iterable, /) method of builtins.list instance\n",
            "    Extend list by appending elements from the iterable.\n",
            "\n"
          ]
        }
      ]
    },
    {
      "cell_type": "code",
      "source": [
        "# Iterable : str, range, list\n",
        "print(lista)\n",
        "lista.extend(\"aeiou\")\n",
        "print(lista)"
      ],
      "metadata": {
        "colab": {
          "base_uri": "https://localhost:8080/"
        },
        "id": "39LrJ0xy6ZA8",
        "outputId": "d0f60229-9b63-460f-d8b8-c7860a0a84e2"
      },
      "execution_count": null,
      "outputs": [
        {
          "output_type": "stream",
          "name": "stdout",
          "text": [
            "['esto', 'es una', 'variable', 'de tipo lista', [12], ['Sexta Clase'], ['2025-01-27'], ['Sexta Clase'], ['2025-01-27'], ['Sexta Clase'], 0]\n",
            "['esto', 'es una', 'variable', 'de tipo lista', [12], ['Sexta Clase'], ['2025-01-27'], ['Sexta Clase'], ['2025-01-27'], ['Sexta Clase'], 0, 'a', 'e', 'i', 'o', 'u']\n"
          ]
        }
      ]
    },
    {
      "cell_type": "code",
      "source": [
        "print(lista)\n",
        "lista.extend(range(1,21))\n",
        "print(lista)"
      ],
      "metadata": {
        "colab": {
          "base_uri": "https://localhost:8080/"
        },
        "id": "0aY3yRBQ8eZn",
        "outputId": "3a2bf286-fa57-4f39-c62a-5ca4ffdf796b"
      },
      "execution_count": null,
      "outputs": [
        {
          "output_type": "stream",
          "name": "stdout",
          "text": [
            "['esto', 'es una', 'variable', 'de tipo lista', [12], ['Sexta Clase'], ['2025-01-27'], ['Sexta Clase'], ['2025-01-27'], ['Sexta Clase'], 0, 'a', 'e', 'i', 'o', 'u']\n",
            "['esto', 'es una', 'variable', 'de tipo lista', [12], ['Sexta Clase'], ['2025-01-27'], ['Sexta Clase'], ['2025-01-27'], ['Sexta Clase'], 0, 'a', 'e', 'i', 'o', 'u', 1, 2, 3, 4, 5, 6, 7, 8, 9, 10, 11, 12, 13, 14, 15, 16, 17, 18, 19, 20]\n"
          ]
        }
      ]
    },
    {
      "cell_type": "code",
      "source": [
        "# Generemos una nueva lista\n",
        "listaY= [0.98 , 2.35 , rnd.gauss(9.81,3.15)]\n",
        "print(lista)\n",
        "lista.extend(listaY)\n",
        "print(lista)"
      ],
      "metadata": {
        "colab": {
          "base_uri": "https://localhost:8080/"
        },
        "id": "h5HovkdD80gI",
        "outputId": "ad3caf19-002b-4d93-c7ab-d3f4cfa62302"
      },
      "execution_count": null,
      "outputs": [
        {
          "output_type": "stream",
          "name": "stdout",
          "text": [
            "['esto', 'es una', 'variable', 'de tipo lista', [12], ['Sexta Clase'], ['2025-01-27'], ['Sexta Clase'], ['2025-01-27'], ['Sexta Clase'], 0, 'a', 'e', 'i', 'o', 'u', 1, 2, 3, 4, 5, 6, 7, 8, 9, 10, 11, 12, 13, 14, 15, 16, 17, 18, 19, 20]\n",
            "['esto', 'es una', 'variable', 'de tipo lista', [12], ['Sexta Clase'], ['2025-01-27'], ['Sexta Clase'], ['2025-01-27'], ['Sexta Clase'], 0, 'a', 'e', 'i', 'o', 'u', 1, 2, 3, 4, 5, 6, 7, 8, 9, 10, 11, 12, 13, 14, 15, 16, 17, 18, 19, 20, 0.98, 2.35, 6.618580835915717]\n"
          ]
        }
      ]
    },
    {
      "cell_type": "code",
      "source": [
        "# Documentacion del metodo index\n",
        "help([].index)"
      ],
      "metadata": {
        "colab": {
          "base_uri": "https://localhost:8080/"
        },
        "id": "eKZqe6wF8rVW",
        "outputId": "e0a94b0b-e047-4028-a820-9d2d61caa7c3"
      },
      "execution_count": null,
      "outputs": [
        {
          "output_type": "stream",
          "name": "stdout",
          "text": [
            "Help on built-in function index:\n",
            "\n",
            "index(value, start=0, stop=9223372036854775807, /) method of builtins.list instance\n",
            "    Return first index of value.\n",
            "    \n",
            "    Raises ValueError if the value is not present.\n",
            "\n"
          ]
        }
      ]
    },
    {
      "cell_type": "code",
      "source": [
        "lista_data.count(20)"
      ],
      "metadata": {
        "colab": {
          "base_uri": "https://localhost:8080/"
        },
        "id": "QVad8KV2-qIO",
        "outputId": "75393782-d094-4873-b739-7f78667391c7"
      },
      "execution_count": null,
      "outputs": [
        {
          "output_type": "execute_result",
          "data": {
            "text/plain": [
              "53"
            ]
          },
          "metadata": {},
          "execution_count": 50
        }
      ]
    },
    {
      "cell_type": "code",
      "source": [
        "# De las 20 veces que aparece el numero 20 en lista_data, el metodo index devuelve el indice\n",
        "# donde aparece por primera vez\n",
        "lista_data.index(20)"
      ],
      "metadata": {
        "colab": {
          "base_uri": "https://localhost:8080/"
        },
        "id": "ogCRPQ64-xnQ",
        "outputId": "abc33b26-3ef0-4215-803c-3d8b0c6257b1"
      },
      "execution_count": null,
      "outputs": [
        {
          "output_type": "execute_result",
          "data": {
            "text/plain": [
              "18"
            ]
          },
          "metadata": {},
          "execution_count": 51
        }
      ]
    },
    {
      "cell_type": "code",
      "source": [
        "# Accedamos a los primeros 18 elemntos de lista data\n",
        "lista_data[:18].count(20)"
      ],
      "metadata": {
        "colab": {
          "base_uri": "https://localhost:8080/"
        },
        "id": "SbsiCe3p--H0",
        "outputId": "38202b12-b888-4f1f-bca4-4a601df508fb"
      },
      "execution_count": null,
      "outputs": [
        {
          "output_type": "execute_result",
          "data": {
            "text/plain": [
              "0"
            ]
          },
          "metadata": {},
          "execution_count": 55
        }
      ]
    },
    {
      "cell_type": "code",
      "source": [
        "# En que indice aparece por primera vez el numero -1      --->  Raises ValueError if the value is not present.\n",
        "lista_data.index(-1)"
      ],
      "metadata": {
        "colab": {
          "base_uri": "https://localhost:8080/",
          "height": 165
        },
        "id": "7E0IX5L4_RYc",
        "outputId": "7b7a365b-bab8-4450-9548-37ff51ba497d"
      },
      "execution_count": null,
      "outputs": [
        {
          "output_type": "error",
          "ename": "ValueError",
          "evalue": "-1 is not in list",
          "traceback": [
            "\u001b[0;31m---------------------------------------------------------------------------\u001b[0m",
            "\u001b[0;31mValueError\u001b[0m                                Traceback (most recent call last)",
            "\u001b[0;32m<ipython-input-56-a0019bcd0127>\u001b[0m in \u001b[0;36m<cell line: 0>\u001b[0;34m()\u001b[0m\n\u001b[1;32m      1\u001b[0m \u001b[0;31m# En que indice aparece por primera vez el numero -1\u001b[0m\u001b[0;34m\u001b[0m\u001b[0;34m\u001b[0m\u001b[0m\n\u001b[0;32m----> 2\u001b[0;31m \u001b[0mlista_data\u001b[0m\u001b[0;34m.\u001b[0m\u001b[0mindex\u001b[0m\u001b[0;34m(\u001b[0m\u001b[0;34m-\u001b[0m\u001b[0;36m1\u001b[0m\u001b[0;34m)\u001b[0m\u001b[0;34m\u001b[0m\u001b[0;34m\u001b[0m\u001b[0m\n\u001b[0m",
            "\u001b[0;31mValueError\u001b[0m: -1 is not in list"
          ]
        }
      ]
    },
    {
      "cell_type": "code",
      "source": [
        "# Manejo/administracion de errores y excepciones"
      ],
      "metadata": {
        "id": "7sBLvS-I_aYc"
      },
      "execution_count": null,
      "outputs": []
    },
    {
      "cell_type": "code",
      "source": [
        "# Fija para el final : Dada una lista encontrar los indices donde aparece un valor determinado"
      ],
      "metadata": {
        "id": "xTGFJaZM_n42"
      },
      "execution_count": null,
      "outputs": []
    },
    {
      "cell_type": "code",
      "source": [
        "# Documentacion del metodo insert\n",
        "help([].insert)"
      ],
      "metadata": {
        "colab": {
          "base_uri": "https://localhost:8080/"
        },
        "id": "Fl_fLH2Y_-Xm",
        "outputId": "e2d8838c-2f78-4a80-8667-a87f4e57df4c"
      },
      "execution_count": null,
      "outputs": [
        {
          "output_type": "stream",
          "name": "stdout",
          "text": [
            "Help on built-in function insert:\n",
            "\n",
            "insert(index, object, /) method of builtins.list instance\n",
            "    Insert object before index.\n",
            "\n"
          ]
        }
      ]
    },
    {
      "cell_type": "code",
      "source": [
        "listaY"
      ],
      "metadata": {
        "colab": {
          "base_uri": "https://localhost:8080/"
        },
        "id": "HBIu1XYHIeOs",
        "outputId": "9aab202e-ed84-4a07-819e-81335b3de5a7"
      },
      "execution_count": null,
      "outputs": [
        {
          "output_type": "execute_result",
          "data": {
            "text/plain": [
              "[0.98, 2.35, 6.618580835915717]"
            ]
          },
          "metadata": {},
          "execution_count": 59
        }
      ]
    },
    {
      "cell_type": "code",
      "source": [
        "# Agreguemos un 20 como primer elemento\n",
        "# ese valor 20 lo vamos a agregar antes del indice 0\n",
        "listaY.insert(0,20)"
      ],
      "metadata": {
        "id": "Y2nO8NOoHqno"
      },
      "execution_count": null,
      "outputs": []
    },
    {
      "cell_type": "code",
      "source": [
        "listaY"
      ],
      "metadata": {
        "colab": {
          "base_uri": "https://localhost:8080/"
        },
        "id": "YfZtNeqDI2gN",
        "outputId": "3947aaea-896f-4857-9b67-36fba1fafd35"
      },
      "execution_count": null,
      "outputs": [
        {
          "output_type": "execute_result",
          "data": {
            "text/plain": [
              "[20, 0.98, 2.35, 6.618580835915717]"
            ]
          },
          "metadata": {},
          "execution_count": 63
        }
      ]
    },
    {
      "cell_type": "code",
      "source": [
        "# Insertemos un nuevo penultimo elemento\n",
        "listaY.insert(-1,0)\n",
        "listaY"
      ],
      "metadata": {
        "colab": {
          "base_uri": "https://localhost:8080/"
        },
        "id": "dq9Ge8aoI79W",
        "outputId": "97ab6653-811e-4c3e-d256-16d0b1c6668d"
      },
      "execution_count": null,
      "outputs": [
        {
          "output_type": "execute_result",
          "data": {
            "text/plain": [
              "[20, 0.98, 2.35, 0, 6.618580835915717]"
            ]
          },
          "metadata": {},
          "execution_count": 65
        }
      ]
    },
    {
      "cell_type": "code",
      "source": [
        "# Recuerda que para agregar un ultimo elemneto es mejor usar el metodo append/extend"
      ],
      "metadata": {
        "id": "UYmIllaEJaE_"
      },
      "execution_count": null,
      "outputs": []
    },
    {
      "cell_type": "code",
      "source": [
        "# Documentacion del metodo pop\n",
        "help([].pop)"
      ],
      "metadata": {
        "colab": {
          "base_uri": "https://localhost:8080/"
        },
        "id": "xotZosRzJmxi",
        "outputId": "a431018b-ac3a-4281-f0b9-122ece458b38"
      },
      "execution_count": null,
      "outputs": [
        {
          "output_type": "stream",
          "name": "stdout",
          "text": [
            "Help on built-in function pop:\n",
            "\n",
            "pop(index=-1, /) method of builtins.list instance\n",
            "    Remove and return item at index (default last).\n",
            "    \n",
            "    Raises IndexError if list is empty or index is out of range.\n",
            "\n"
          ]
        }
      ]
    },
    {
      "cell_type": "code",
      "source": [
        "lista_copia1"
      ],
      "metadata": {
        "colab": {
          "base_uri": "https://localhost:8080/"
        },
        "id": "cQyBTkI_KUr-",
        "outputId": "1a21330e-739d-4ae3-ea3f-1203cbe5fd81"
      },
      "execution_count": null,
      "outputs": [
        {
          "output_type": "execute_result",
          "data": {
            "text/plain": [
              "[20,\n",
              " 'esto',\n",
              " 'es una',\n",
              " 'variable',\n",
              " 'de tipo lista',\n",
              " [12],\n",
              " ['Sexta Clase'],\n",
              " ['2025-01-27'],\n",
              " ['Sexta Clase'],\n",
              " ['2025-01-27'],\n",
              " ['Sexta Clase'],\n",
              " 0,\n",
              " 'a',\n",
              " 'e',\n",
              " 'i',\n",
              " 'o',\n",
              " 'u',\n",
              " 1,\n",
              " 2,\n",
              " 3,\n",
              " 4,\n",
              " 5,\n",
              " 6,\n",
              " 7,\n",
              " 8,\n",
              " 9,\n",
              " 10,\n",
              " 11,\n",
              " 12,\n",
              " 13,\n",
              " 14,\n",
              " 15,\n",
              " 16,\n",
              " 17,\n",
              " 18,\n",
              " 19,\n",
              " 20,\n",
              " 0.98,\n",
              " 2.35,\n",
              " 6.618580835915717]"
            ]
          },
          "metadata": {},
          "execution_count": 67
        }
      ]
    },
    {
      "cell_type": "code",
      "source": [
        "lista_copia1.pop()\n",
        "lista_copia1"
      ],
      "metadata": {
        "colab": {
          "base_uri": "https://localhost:8080/"
        },
        "id": "ZIKRfnDBKe1l",
        "outputId": "a3b6a4bf-1c39-4c82-a78f-8e2972e05a6b"
      },
      "execution_count": null,
      "outputs": [
        {
          "output_type": "execute_result",
          "data": {
            "text/plain": [
              "[20,\n",
              " 'esto',\n",
              " 'es una',\n",
              " 'variable',\n",
              " 'de tipo lista',\n",
              " [12],\n",
              " ['Sexta Clase'],\n",
              " ['2025-01-27'],\n",
              " ['Sexta Clase'],\n",
              " ['2025-01-27'],\n",
              " ['Sexta Clase'],\n",
              " 0,\n",
              " 'a',\n",
              " 'e',\n",
              " 'i',\n",
              " 'o',\n",
              " 'u',\n",
              " 1,\n",
              " 2,\n",
              " 3,\n",
              " 4,\n",
              " 5,\n",
              " 6,\n",
              " 7,\n",
              " 8,\n",
              " 9,\n",
              " 10,\n",
              " 11,\n",
              " 12,\n",
              " 13,\n",
              " 14,\n",
              " 15,\n",
              " 16,\n",
              " 17,\n",
              " 18,\n",
              " 19,\n",
              " 20,\n",
              " 0.98,\n",
              " 2.35]"
            ]
          },
          "metadata": {},
          "execution_count": 68
        }
      ]
    },
    {
      "cell_type": "code",
      "source": [
        "# Apliquemos nuevamente el metodo pop\n",
        "lista_copia1.pop()"
      ],
      "metadata": {
        "colab": {
          "base_uri": "https://localhost:8080/"
        },
        "id": "k3WHoyuPKjdp",
        "outputId": "77344663-23c6-4094-9a88-68bd2cfd5964"
      },
      "execution_count": null,
      "outputs": [
        {
          "output_type": "execute_result",
          "data": {
            "text/plain": [
              "2.35"
            ]
          },
          "metadata": {},
          "execution_count": 69
        }
      ]
    },
    {
      "cell_type": "code",
      "source": [
        "lista_copia1"
      ],
      "metadata": {
        "colab": {
          "base_uri": "https://localhost:8080/"
        },
        "id": "VuCtRZ9LKuvL",
        "outputId": "3901c396-fe94-4d50-e181-4c0dc3576068"
      },
      "execution_count": null,
      "outputs": [
        {
          "output_type": "execute_result",
          "data": {
            "text/plain": [
              "[20,\n",
              " 'esto',\n",
              " 'es una',\n",
              " 'variable',\n",
              " 'de tipo lista',\n",
              " [12],\n",
              " ['Sexta Clase'],\n",
              " ['2025-01-27'],\n",
              " ['Sexta Clase'],\n",
              " ['2025-01-27'],\n",
              " ['Sexta Clase'],\n",
              " 0,\n",
              " 'a',\n",
              " 'e',\n",
              " 'i',\n",
              " 'o',\n",
              " 'u',\n",
              " 1,\n",
              " 2,\n",
              " 3,\n",
              " 4,\n",
              " 5,\n",
              " 6,\n",
              " 7,\n",
              " 8,\n",
              " 9,\n",
              " 10,\n",
              " 11,\n",
              " 12,\n",
              " 13,\n",
              " 14,\n",
              " 15,\n",
              " 16,\n",
              " 17,\n",
              " 18,\n",
              " 19,\n",
              " 20,\n",
              " 0.98]"
            ]
          },
          "metadata": {},
          "execution_count": 70
        }
      ]
    },
    {
      "cell_type": "code",
      "source": [
        "# Eliminemos el primer 20 de la variable lista_data : usando el metodo pop\n",
        "lista_data.pop(lista_data.index(20))"
      ],
      "metadata": {
        "colab": {
          "base_uri": "https://localhost:8080/"
        },
        "id": "Axs8I9JqKxrc",
        "outputId": "2b2a1167-aed2-4d93-db4b-1435e493a73e"
      },
      "execution_count": null,
      "outputs": [
        {
          "output_type": "execute_result",
          "data": {
            "text/plain": [
              "20"
            ]
          },
          "metadata": {},
          "execution_count": 77
        }
      ]
    },
    {
      "cell_type": "code",
      "source": [
        "# Eliminamos un elemento con pop, entonces el nuevo numero de elementos es:\n",
        "len(lista_data)"
      ],
      "metadata": {
        "colab": {
          "base_uri": "https://localhost:8080/"
        },
        "id": "g-LVxduoLTjx",
        "outputId": "683b181e-cbc7-45a1-a384-839f1289799d"
      },
      "execution_count": null,
      "outputs": [
        {
          "output_type": "execute_result",
          "data": {
            "text/plain": [
              "999"
            ]
          },
          "metadata": {},
          "execution_count": 78
        }
      ]
    },
    {
      "cell_type": "code",
      "source": [
        "lista_data.index(20)"
      ],
      "metadata": {
        "colab": {
          "base_uri": "https://localhost:8080/"
        },
        "id": "IeIFacj4L0UD",
        "outputId": "838d3f56-8200-47fe-9a3a-224ab90b059c"
      },
      "execution_count": null,
      "outputs": [
        {
          "output_type": "execute_result",
          "data": {
            "text/plain": [
              "19"
            ]
          },
          "metadata": {},
          "execution_count": 80
        }
      ]
    },
    {
      "cell_type": "code",
      "source": [
        "# Implementa una funcion que elimine todos los 20 de la variable lista_data"
      ],
      "metadata": {
        "id": "m70Vy1CFL7_e"
      },
      "execution_count": null,
      "outputs": []
    },
    {
      "cell_type": "code",
      "source": [
        "# Documentacion del metodo remove\n",
        "help([].remove)"
      ],
      "metadata": {
        "colab": {
          "base_uri": "https://localhost:8080/"
        },
        "id": "G8hqUq8_MDGS",
        "outputId": "880879e7-1c4a-4612-9f65-51f37b9f2a9e"
      },
      "execution_count": null,
      "outputs": [
        {
          "output_type": "stream",
          "name": "stdout",
          "text": [
            "Help on built-in function remove:\n",
            "\n",
            "remove(value, /) method of builtins.list instance\n",
            "    Remove first occurrence of value.\n",
            "    \n",
            "    Raises ValueError if the value is not present.\n",
            "\n"
          ]
        }
      ]
    },
    {
      "cell_type": "code",
      "source": [
        "# Documentacion del metodo reverse\n",
        "help([].reverse)"
      ],
      "metadata": {
        "colab": {
          "base_uri": "https://localhost:8080/"
        },
        "id": "kOVjjof-MT51",
        "outputId": "d71bcf13-27af-414b-c4ed-0e754af61b73"
      },
      "execution_count": null,
      "outputs": [
        {
          "output_type": "stream",
          "name": "stdout",
          "text": [
            "Help on built-in function reverse:\n",
            "\n",
            "reverse() method of builtins.list instance\n",
            "    Reverse *IN PLACE*.\n",
            "\n"
          ]
        }
      ]
    },
    {
      "cell_type": "code",
      "source": [
        "# recuperemos los primeros 15 elemento de lista_data\n",
        "lista15 = lista_data[:14+1]\n",
        "lista15.reverse()"
      ],
      "metadata": {
        "id": "4uar9Y1INBwF"
      },
      "execution_count": null,
      "outputs": []
    },
    {
      "cell_type": "code",
      "source": [
        "lista15"
      ],
      "metadata": {
        "colab": {
          "base_uri": "https://localhost:8080/"
        },
        "id": "W9-tIPlhNpoY",
        "outputId": "3433a3ae-2f8b-4ee7-8d8b-d64544aa05ed"
      },
      "execution_count": null,
      "outputs": [
        {
          "output_type": "execute_result",
          "data": {
            "text/plain": [
              "[0, 10, 14, 10, 18, 19, 4, 17, 17, 11, 14, 18, 4, 13, 17]"
            ]
          },
          "metadata": {},
          "execution_count": 88
        }
      ]
    },
    {
      "cell_type": "code",
      "source": [
        "lista_data[:15]"
      ],
      "metadata": {
        "colab": {
          "base_uri": "https://localhost:8080/"
        },
        "id": "WMpicO2HNrOW",
        "outputId": "c2c61a60-ea38-4f92-eea2-54e8b22739a2"
      },
      "execution_count": null,
      "outputs": [
        {
          "output_type": "execute_result",
          "data": {
            "text/plain": [
              "[17, 13, 4, 18, 14, 11, 17, 17, 4, 19, 18, 10, 14, 10, 0]"
            ]
          },
          "metadata": {},
          "execution_count": 89
        }
      ]
    },
    {
      "cell_type": "code",
      "source": [
        "# Documentacion del metodo sort\n",
        "help([].sort)"
      ],
      "metadata": {
        "colab": {
          "base_uri": "https://localhost:8080/"
        },
        "id": "2GZGVHD9N8gP",
        "outputId": "5e0c0b83-21ce-4896-896a-bb6c425507f2"
      },
      "execution_count": null,
      "outputs": [
        {
          "output_type": "stream",
          "name": "stdout",
          "text": [
            "Help on built-in function sort:\n",
            "\n",
            "sort(*, key=None, reverse=False) method of builtins.list instance\n",
            "    Sort the list in ascending order and return None.\n",
            "    \n",
            "    The sort is in-place (i.e. the list itself is modified) and stable (i.e. the\n",
            "    order of two equal elements is maintained).\n",
            "    \n",
            "    If a key function is given, apply it once to each list item and sort them,\n",
            "    ascending or descending, according to their function values.\n",
            "    \n",
            "    The reverse flag can be set to sort in descending order.\n",
            "\n"
          ]
        }
      ]
    },
    {
      "cell_type": "code",
      "source": [
        "# Ordenemos los primeros 15 elemnto de lista_data\n",
        "lista15.sort()"
      ],
      "metadata": {
        "id": "DsKaXdfHOIvv"
      },
      "execution_count": null,
      "outputs": []
    },
    {
      "cell_type": "code",
      "source": [
        "lista15"
      ],
      "metadata": {
        "colab": {
          "base_uri": "https://localhost:8080/"
        },
        "id": "unfqAFJZOot6",
        "outputId": "d5563937-ce8c-445e-de86-7bbc900c9b52"
      },
      "execution_count": null,
      "outputs": [
        {
          "output_type": "execute_result",
          "data": {
            "text/plain": [
              "[0, 4, 4, 10, 10, 11, 13, 14, 14, 17, 17, 17, 18, 18, 19]"
            ]
          },
          "metadata": {},
          "execution_count": 94
        }
      ]
    },
    {
      "cell_type": "markdown",
      "source": [
        "# Datos de tipo tupla"
      ],
      "metadata": {
        "id": "QMJdfDNyWFQV"
      }
    },
    {
      "cell_type": "code",
      "source": [
        "# Definicion : Usamos parentesis\n",
        "t1 = ()\n",
        "t2 = (12,23,34,55)"
      ],
      "metadata": {
        "id": "8UfGSYJ3Os_a"
      },
      "execution_count": null,
      "outputs": []
    },
    {
      "cell_type": "code",
      "source": [
        "# Tipo de dato\n",
        "type(t1)"
      ],
      "metadata": {
        "colab": {
          "base_uri": "https://localhost:8080/"
        },
        "id": "FYU5KOUBVJtY",
        "outputId": "910ce0c0-86f0-4e92-e52d-6df2bdba208c"
      },
      "execution_count": null,
      "outputs": [
        {
          "output_type": "execute_result",
          "data": {
            "text/plain": [
              "tuple"
            ]
          },
          "metadata": {},
          "execution_count": 97
        }
      ]
    },
    {
      "cell_type": "code",
      "source": [
        "# Tipo de dato\n",
        "type(t2)"
      ],
      "metadata": {
        "colab": {
          "base_uri": "https://localhost:8080/"
        },
        "id": "9hVsVw_DWgOH",
        "outputId": "da4e28e2-9b8d-4d17-f1f4-a675e10db7c8"
      },
      "execution_count": null,
      "outputs": [
        {
          "output_type": "execute_result",
          "data": {
            "text/plain": [
              "tuple"
            ]
          },
          "metadata": {},
          "execution_count": 98
        }
      ]
    },
    {
      "cell_type": "code",
      "source": [
        "# Un objeto/dato de tipo tupla es un objeto inmutable\n",
        "t2[-1] = 0"
      ],
      "metadata": {
        "colab": {
          "base_uri": "https://localhost:8080/",
          "height": 165
        },
        "id": "kdQb1nIMWhj5",
        "outputId": "bf9343e8-bb8f-46a6-f5d1-d910e60e2991"
      },
      "execution_count": null,
      "outputs": [
        {
          "output_type": "error",
          "ename": "TypeError",
          "evalue": "'tuple' object does not support item assignment",
          "traceback": [
            "\u001b[0;31m---------------------------------------------------------------------------\u001b[0m",
            "\u001b[0;31mTypeError\u001b[0m                                 Traceback (most recent call last)",
            "\u001b[0;32m<ipython-input-99-63c78315d089>\u001b[0m in \u001b[0;36m<cell line: 0>\u001b[0;34m()\u001b[0m\n\u001b[1;32m      1\u001b[0m \u001b[0;31m# Un objeto/dato de tipo tupla es un objeto inmutable\u001b[0m\u001b[0;34m\u001b[0m\u001b[0;34m\u001b[0m\u001b[0m\n\u001b[0;32m----> 2\u001b[0;31m \u001b[0mt2\u001b[0m\u001b[0;34m[\u001b[0m\u001b[0;34m-\u001b[0m\u001b[0;36m1\u001b[0m\u001b[0;34m]\u001b[0m \u001b[0;34m=\u001b[0m \u001b[0;36m0\u001b[0m\u001b[0;34m\u001b[0m\u001b[0;34m\u001b[0m\u001b[0m\n\u001b[0m",
            "\u001b[0;31mTypeError\u001b[0m: 'tuple' object does not support item assignment"
          ]
        }
      ]
    },
    {
      "cell_type": "code",
      "source": [
        "# iterable\n",
        "t2[1]"
      ],
      "metadata": {
        "colab": {
          "base_uri": "https://localhost:8080/"
        },
        "id": "QV1GQaAAWx9_",
        "outputId": "8f9370b8-30cc-4578-d4e0-d7a0cbdd7fcf"
      },
      "execution_count": null,
      "outputs": [
        {
          "output_type": "execute_result",
          "data": {
            "text/plain": [
              "23"
            ]
          },
          "metadata": {},
          "execution_count": 100
        }
      ]
    },
    {
      "cell_type": "code",
      "source": [
        "t3 = 2*t2+t2*5\n",
        "t3"
      ],
      "metadata": {
        "colab": {
          "base_uri": "https://localhost:8080/"
        },
        "id": "9NchLJjnW6vs",
        "outputId": "17a97a02-b973-4e49-aebc-52351c86cf29"
      },
      "execution_count": null,
      "outputs": [
        {
          "output_type": "execute_result",
          "data": {
            "text/plain": [
              "(12,\n",
              " 23,\n",
              " 34,\n",
              " 55,\n",
              " 12,\n",
              " 23,\n",
              " 34,\n",
              " 55,\n",
              " 12,\n",
              " 23,\n",
              " 34,\n",
              " 55,\n",
              " 12,\n",
              " 23,\n",
              " 34,\n",
              " 55,\n",
              " 12,\n",
              " 23,\n",
              " 34,\n",
              " 55,\n",
              " 12,\n",
              " 23,\n",
              " 34,\n",
              " 55,\n",
              " 12,\n",
              " 23,\n",
              " 34,\n",
              " 55)"
            ]
          },
          "metadata": {},
          "execution_count": 101
        }
      ]
    },
    {
      "cell_type": "code",
      "source": [
        "# Lista de metodos que se puede aplicar a un dato de tipo tupla\n",
        "dir(t1)"
      ],
      "metadata": {
        "colab": {
          "base_uri": "https://localhost:8080/"
        },
        "id": "8Hs6uVm7XAcL",
        "outputId": "05750739-bd49-4ce5-a840-0398e709048d"
      },
      "execution_count": null,
      "outputs": [
        {
          "output_type": "execute_result",
          "data": {
            "text/plain": [
              "['__add__',\n",
              " '__class__',\n",
              " '__class_getitem__',\n",
              " '__contains__',\n",
              " '__delattr__',\n",
              " '__dir__',\n",
              " '__doc__',\n",
              " '__eq__',\n",
              " '__format__',\n",
              " '__ge__',\n",
              " '__getattribute__',\n",
              " '__getitem__',\n",
              " '__getnewargs__',\n",
              " '__getstate__',\n",
              " '__gt__',\n",
              " '__hash__',\n",
              " '__init__',\n",
              " '__init_subclass__',\n",
              " '__iter__',\n",
              " '__le__',\n",
              " '__len__',\n",
              " '__lt__',\n",
              " '__mul__',\n",
              " '__ne__',\n",
              " '__new__',\n",
              " '__reduce__',\n",
              " '__reduce_ex__',\n",
              " '__repr__',\n",
              " '__rmul__',\n",
              " '__setattr__',\n",
              " '__sizeof__',\n",
              " '__str__',\n",
              " '__subclasshook__',\n",
              " 'count',\n",
              " 'index']"
            ]
          },
          "metadata": {},
          "execution_count": 102
        }
      ]
    },
    {
      "cell_type": "code",
      "source": [
        "# Lista de metodos de interes para un dato de tipo tupla\n",
        "#  'count',\n",
        "#  'index'"
      ],
      "metadata": {
        "id": "Knjdd31gXdep"
      },
      "execution_count": null,
      "outputs": []
    },
    {
      "cell_type": "code",
      "source": [
        "# Documentacion del metodo count para una tupla\n",
        "help(t1.count)"
      ],
      "metadata": {
        "colab": {
          "base_uri": "https://localhost:8080/"
        },
        "id": "PxIXUUGzXi8Q",
        "outputId": "4e93db69-1900-4e8f-b9ae-88718b6406ac"
      },
      "execution_count": null,
      "outputs": [
        {
          "output_type": "stream",
          "name": "stdout",
          "text": [
            "Help on built-in function count:\n",
            "\n",
            "count(value, /) method of builtins.tuple instance\n",
            "    Return number of occurrences of value.\n",
            "\n"
          ]
        }
      ]
    },
    {
      "cell_type": "code",
      "source": [
        "# Documentacion del metodo index para una tupla\n",
        "help(t1.index)"
      ],
      "metadata": {
        "colab": {
          "base_uri": "https://localhost:8080/"
        },
        "id": "g66mrQBQXxR7",
        "outputId": "2abaae26-4111-4f2c-dd8b-cc777d35ed00"
      },
      "execution_count": null,
      "outputs": [
        {
          "output_type": "stream",
          "name": "stdout",
          "text": [
            "Help on built-in function index:\n",
            "\n",
            "index(value, start=0, stop=9223372036854775807, /) method of builtins.tuple instance\n",
            "    Return first index of value.\n",
            "    \n",
            "    Raises ValueError if the value is not present.\n",
            "\n"
          ]
        }
      ]
    },
    {
      "cell_type": "markdown",
      "source": [
        "# Datos de tipo diccionario"
      ],
      "metadata": {
        "id": "o4E2imQShzAy"
      }
    },
    {
      "cell_type": "code",
      "source": [
        "# Definicion : Usando llaves\n",
        "d1 = {}\n",
        "d2 = {\"uno\":12 , \"dos\":9, \"tres\": 5}"
      ],
      "metadata": {
        "id": "-GNSN00Oh1zs"
      },
      "execution_count": null,
      "outputs": []
    },
    {
      "cell_type": "code",
      "source": [
        "# tipo de dato\n",
        "type(d1)"
      ],
      "metadata": {
        "colab": {
          "base_uri": "https://localhost:8080/"
        },
        "id": "WhlRZwKIjeyO",
        "outputId": "69e004d2-c9c7-4544-ede2-91b79e7fb290"
      },
      "execution_count": null,
      "outputs": [
        {
          "output_type": "execute_result",
          "data": {
            "text/plain": [
              "dict"
            ]
          },
          "metadata": {},
          "execution_count": 111
        }
      ]
    },
    {
      "cell_type": "code",
      "source": [
        "# tipo de dato\n",
        "type(d2)"
      ],
      "metadata": {
        "colab": {
          "base_uri": "https://localhost:8080/"
        },
        "id": "CSiPa1pqjjF_",
        "outputId": "0ab6e2c9-8c82-4072-d9d0-039443d96a68"
      },
      "execution_count": null,
      "outputs": [
        {
          "output_type": "execute_result",
          "data": {
            "text/plain": [
              "dict"
            ]
          },
          "metadata": {},
          "execution_count": 112
        }
      ]
    },
    {
      "cell_type": "code",
      "source": [
        "# Creacion de un diccionario que almacena datos de una agenda\n",
        "agenda_d = {\"nombre\":\"Abrahan\", \"apellido\":\"Zamudio\",\"email\":\"abraham.zamudi@uni.pe\",\"edad\":42,\"estatura\":1.85,\"peso\":100.5}\n",
        "agenda_d"
      ],
      "metadata": {
        "colab": {
          "base_uri": "https://localhost:8080/"
        },
        "id": "fA6rkjCxjmec",
        "outputId": "18f2561a-dfb0-4830-8097-25d279b4237b"
      },
      "execution_count": null,
      "outputs": [
        {
          "output_type": "execute_result",
          "data": {
            "text/plain": [
              "{'nombre': 'Abrahan',\n",
              " 'apellido': 'Zamudio',\n",
              " 'email': 'abraham.zamudi@uni.pe',\n",
              " 'edad': 42,\n",
              " 'estatura': 1.85,\n",
              " 'peso': 100.5}"
            ]
          },
          "metadata": {},
          "execution_count": 113
        }
      ]
    },
    {
      "cell_type": "code",
      "source": [
        "# Valor que corresponde a la llave email      # Obtenemos el valor asociado a esa llave\n",
        "agenda_d[\"email\"]"
      ],
      "metadata": {
        "colab": {
          "base_uri": "https://localhost:8080/",
          "height": 36
        },
        "id": "p2Woj-gCkHpM",
        "outputId": "957428a8-2a67-4f1a-e08c-241f8c8b71fc"
      },
      "execution_count": null,
      "outputs": [
        {
          "output_type": "execute_result",
          "data": {
            "text/plain": [
              "'abraham.zamudi@uni.pe'"
            ],
            "application/vnd.google.colaboratory.intrinsic+json": {
              "type": "string"
            }
          },
          "metadata": {},
          "execution_count": 114
        }
      ]
    },
    {
      "cell_type": "code",
      "source": [
        "# Agregemos el elemento celular a nuestro diccionario agenda_d"
      ],
      "metadata": {
        "id": "3reKWFMVkyvC"
      },
      "execution_count": null,
      "outputs": []
    },
    {
      "cell_type": "code",
      "source": [
        "agenda_d[\"numero\"]=1234567\n",
        "agenda_d"
      ],
      "metadata": {
        "colab": {
          "base_uri": "https://localhost:8080/"
        },
        "id": "VEWJQjeImT_N",
        "outputId": "a23f97f3-d42b-4fc1-fa27-254ba6fc5df1"
      },
      "execution_count": null,
      "outputs": [
        {
          "output_type": "execute_result",
          "data": {
            "text/plain": [
              "{'nombre': 'Abrahan',\n",
              " 'apellido': 'Zamudio',\n",
              " 'email': 'abraham.zamudi@uni.pe',\n",
              " 'edad': 42,\n",
              " 'estatura': 1.85,\n",
              " 'peso': 100.5,\n",
              " 'numero': 1234567}"
            ]
          },
          "metadata": {},
          "execution_count": 115
        }
      ]
    },
    {
      "cell_type": "code",
      "source": [
        "# Lista de metodo que podemos aplicar a un dato de tipo diccionario\n",
        "dir(d1)"
      ],
      "metadata": {
        "colab": {
          "base_uri": "https://localhost:8080/"
        },
        "id": "j21VxkVUmTpZ",
        "outputId": "e8d048d2-14b3-4ebd-bef6-3df38604d104"
      },
      "execution_count": null,
      "outputs": [
        {
          "output_type": "execute_result",
          "data": {
            "text/plain": [
              "['__class__',\n",
              " '__class_getitem__',\n",
              " '__contains__',\n",
              " '__delattr__',\n",
              " '__delitem__',\n",
              " '__dir__',\n",
              " '__doc__',\n",
              " '__eq__',\n",
              " '__format__',\n",
              " '__ge__',\n",
              " '__getattribute__',\n",
              " '__getitem__',\n",
              " '__getstate__',\n",
              " '__gt__',\n",
              " '__hash__',\n",
              " '__init__',\n",
              " '__init_subclass__',\n",
              " '__ior__',\n",
              " '__iter__',\n",
              " '__le__',\n",
              " '__len__',\n",
              " '__lt__',\n",
              " '__ne__',\n",
              " '__new__',\n",
              " '__or__',\n",
              " '__reduce__',\n",
              " '__reduce_ex__',\n",
              " '__repr__',\n",
              " '__reversed__',\n",
              " '__ror__',\n",
              " '__setattr__',\n",
              " '__setitem__',\n",
              " '__sizeof__',\n",
              " '__str__',\n",
              " '__subclasshook__',\n",
              " 'clear',\n",
              " 'copy',\n",
              " 'fromkeys',\n",
              " 'get',\n",
              " 'items',\n",
              " 'keys',\n",
              " 'pop',\n",
              " 'popitem',\n",
              " 'setdefault',\n",
              " 'update',\n",
              " 'values']"
            ]
          },
          "metadata": {},
          "execution_count": 116
        }
      ]
    },
    {
      "cell_type": "code",
      "source": [
        "# Lista de metodos de interes\n",
        "#  'clear',\n",
        "#  'copy',\n",
        "#  'fromkeys',\n",
        "#  'get',\n",
        "#  'items',\n",
        "#  'keys',\n",
        "#  'pop',\n",
        "#  'popitem',\n",
        "#  'setdefault',\n",
        "#  'update',\n",
        "#  'values'"
      ],
      "metadata": {
        "id": "Q4efWNK-n7Q6"
      },
      "execution_count": null,
      "outputs": []
    }
  ]
}